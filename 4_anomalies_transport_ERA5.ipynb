{
 "cells": [
  {
   "cell_type": "markdown",
   "metadata": {},
   "source": [
    "# Anomalies zonales et transitoires - transports méridiens\n",
    "\n",
    "**Auteur : FERRY Frédéric (DESR/ENM/C3M) - septembre 2022\n",
    "\n",
    "Les fichiers de données au format netcdf (données quotidiennes ERA5 du géopotentiel, de la température, du vent zonal et du vent méridien à 500hPa pour l'année 2021) doivent être téléchargés et placés dans le répertoire data :\n",
    "\n",
    "- https://cds.climate.copernicus.eu/cdsapp#!/dataset/reanalysis-era5-pressure-levels?tab=form\n",
    "\n",
    "Il faut télécharger des données tri-horaires puis calculer les moyennes quotidiennes via la commande CDO daymean :\n",
    "\n",
    "- https://code.mpimet.mpg.de/projects/cdo/embedded/index.html#x1-930002.2.6\n",
    "\n",
    "--> fichiers era5_z500_daily_2021.nc, era5_t500_daily_2021.nc, era5_u500_daily_2021.nc, era5_v500_daily_2021.nc"
   ]
  },
  {
   "cell_type": "code",
   "execution_count": null,
   "metadata": {},
   "outputs": [],
   "source": [
    "%matplotlib inline\n",
    "\n",
    "import os\n",
    "import xarray as xr\n",
    "import numpy as np\n",
    "import matplotlib.pyplot as plt\n",
    "\n",
    "from cartopy.util import add_cyclic_point\n",
    "import cartopy.crs as ccrs\n",
    "from cartopy.mpl.geoaxes import GeoAxes\n",
    "from cartopy.mpl.ticker import LongitudeFormatter, LatitudeFormatter\n",
    "\n",
    "from netCDF4 import Dataset\n",
    "import h5py"
   ]
  },
  {
   "cell_type": "code",
   "execution_count": null,
   "metadata": {
    "scrolled": false
   },
   "outputs": [],
   "source": [
    "def lonflip(da):\n",
    "    lon_name = 'longitude'\n",
    "    da['_longitude_adjusted'] = xr.where(da[lon_name] > 180, da[ lon_name] - 360, da[lon_name])\n",
    "    da = (\n",
    "        da .swap_dims({lon_name: '_longitude_adjusted'})\n",
    "        .sel(**{'_longitude_adjusted': sorted(da._longitude_adjusted)})\n",
    "        .drop(lon_name))\n",
    "    da = da.rename({'_longitude_adjusted': lon_name})\n",
    "    return da"
   ]
  },
  {
   "cell_type": "markdown",
   "metadata": {},
   "source": [
    "# Traitement des données"
   ]
  },
  {
   "cell_type": "raw",
   "metadata": {},
   "source": [
    "Lecture des données."
   ]
  },
  {
   "cell_type": "code",
   "execution_count": null,
   "metadata": {
    "scrolled": false
   },
   "outputs": [],
   "source": [
    "diri=\"./daily_era5/\"\n",
    "\n",
    "fz    = xr.open_dataset(diri+\"era5_z500_daily_2021.nc\")\n",
    "lat  = fz.latitude.values\n",
    "print(fz)\n",
    "\n",
    "z = fz['z']/9.81\n",
    "z=lonflip(z)\n",
    "\n",
    "lon  = z.longitude.values\n",
    "\n",
    "print(z.shape)"
   ]
  },
  {
   "cell_type": "markdown",
   "metadata": {},
   "source": [
    "<div class=\"alert alert-warning\">\n",
    "    \n",
    "Moyenne temporelle : $$ \\overline{z} = \\frac{1}{T} \\int_0^T z dt $$\n",
    "    \n",
    "</div>"
   ]
  },
  {
   "cell_type": "raw",
   "metadata": {},
   "source": [
    "Choix d'une d'une période JFM et calcul de la moyenne temporelle."
   ]
  },
  {
   "cell_type": "code",
   "execution_count": null,
   "metadata": {},
   "outputs": [],
   "source": [
    "date1='2021-01-01'\n",
    "date2='2021-03-31'\n",
    "\n",
    "z_season=z.sel(time=slice(date1,date2))\n",
    "print(z_season)\n",
    "\n",
    "zbar = z_season.mean('time')\n",
    "print(zbar.shape)"
   ]
  },
  {
   "cell_type": "markdown",
   "metadata": {},
   "source": [
    "<div class=\"alert alert-warning\">\n",
    "\n",
    "Moyenne zonale : $$ \\left[ z \\right] = \\frac{1}{2\\pi} \\int_0^{2\\pi} z d\\lambda $$\n",
    "\n",
    "Anomalie temporelle : $$ z^\\prime = z - \\overline{z} $$\n",
    "\n",
    "Anomalie zonale : $$ z^* = z - \\left[ z \\right] $$\n",
    "    \n",
    "</div>"
   ]
  },
  {
   "cell_type": "raw",
   "metadata": {},
   "source": [
    "Calcul des moyennes zonales et des anomalies temporelles et zonales pour la saison choisie."
   ]
  },
  {
   "cell_type": "code",
   "execution_count": null,
   "metadata": {
    "scrolled": false
   },
   "outputs": [],
   "source": [
    "zzmean=z_season.mean('longitude')\n",
    "z_season, zzmean, = xr.broadcast(z_season,zzmean)\n",
    "zstar=z_season-zzmean\n",
    "zprime = z_season - zbar\n",
    "\n",
    "print(zprime.shape)\n",
    "print(zzmean.shape)\n",
    "print(zstar.shape)"
   ]
  },
  {
   "cell_type": "raw",
   "metadata": {},
   "source": [
    "Choix du champ et des anomalies pour un jour donné."
   ]
  },
  {
   "cell_type": "code",
   "execution_count": null,
   "metadata": {
    "scrolled": false
   },
   "outputs": [],
   "source": [
    "date='2021-01-01'\n",
    "zday = z_season.sel(time=date).squeeze()\n",
    "zprimeday = zprime.sel(time=date).squeeze()\n",
    "zzmeanday = zzmean.sel(time=date).squeeze()\n",
    "zstarday = zstar.sel(time=date).squeeze()\n",
    "print(zday)"
   ]
  },
  {
   "cell_type": "raw",
   "metadata": {},
   "source": [
    "Fonction pour les cartes."
   ]
  },
  {
   "cell_type": "code",
   "execution_count": null,
   "metadata": {
    "scrolled": false
   },
   "outputs": [],
   "source": [
    "proj=ccrs.EqualEarth()\n",
    "\n",
    "def plot_background(ax):\n",
    "    ax.coastlines()\n",
    "    ax.gridlines(crs=ccrs.PlateCarree(), linewidth=0.5, color='gray', alpha=0.5, linestyle='-')\n",
    "    return ax"
   ]
  },
  {
   "cell_type": "raw",
   "metadata": {},
   "source": [
    "Cartes du champ, des moyennes zonale et temporelle et des anomalies zonale et transitoire."
   ]
  },
  {
   "cell_type": "code",
   "execution_count": null,
   "metadata": {
    "scrolled": false
   },
   "outputs": [],
   "source": [
    "levels_z = np.arange(4800,6050,50)\n",
    "levels_zanom = np.arange(-500,550,50)\n",
    "title='Geopotential height at 500 hPa : '+date\n",
    "\n",
    "\n",
    "fig = plt.figure(figsize=(19,7))\n",
    "fig.suptitle(title, fontsize=16)\n",
    "\n",
    "ax=fig.add_subplot(231, projection=proj)\n",
    "plot_background(ax)\n",
    "ax.set_title(\"z\", fontsize=14)\n",
    "cf = ax.contourf(lon, lat, zday, levels_z, transform=ccrs.PlateCarree(), cmap='jet', extend='both')\n",
    "c = ax.contour(lon, lat, zday, levels_z, colors= 'black', linewidths=0.2, transform=ccrs.PlateCarree())\n",
    "cb = fig.colorbar(cf, orientation='horizontal', aspect=65, shrink=1, pad=0.20, extendrect='True')\n",
    "cb.set_label('m', size='small')\n",
    "\n",
    "ax=fig.add_subplot(232, projection=proj)\n",
    "plot_background(ax)\n",
    "ax.set_title(\"$[z]$\", fontsize=14)\n",
    "cf = ax.contourf(lon, lat, zzmeanday, levels_z, transform=ccrs.PlateCarree(), cmap='jet', extend='both')\n",
    "c = ax.contour(lon, lat, zzmeanday, levels_z, colors= 'black', linewidths=0.2, transform=ccrs.PlateCarree())\n",
    "cb = fig.colorbar(cf, orientation='horizontal', aspect=65, shrink=1, pad=0.20, extendrect='True')\n",
    "cb.set_label('m', size='small')\n",
    "\n",
    "ax=fig.add_subplot(233, projection=proj)\n",
    "plot_background(ax)\n",
    "ax.set_title(\"$z^* = z-[z]$\", fontsize=14)\n",
    "cf = ax.contourf(lon, lat, zstarday, levels_zanom, transform=ccrs.PlateCarree(), cmap='coolwarm', extend='both')\n",
    "c = ax.contour(lon, lat, zstarday, levels_zanom, colors= 'black', linewidths=0.2, transform=ccrs.PlateCarree())\n",
    "cb = fig.colorbar(cf, orientation='horizontal', aspect=65, shrink=1, pad=0.20, extendrect='True')\n",
    "cb.set_label('m', size='small')\n",
    "\n",
    "ax=fig.add_subplot(234, projection=proj)\n",
    "plot_background(ax)\n",
    "ax.set_title(\"z\", fontsize=14)\n",
    "cf = ax.contourf(lon, lat, zday, levels_z, transform=ccrs.PlateCarree(), cmap='jet', extend='both')\n",
    "c = ax.contour(lon, lat, zday, levels_z, colors= 'black', linewidths=0.2, transform=ccrs.PlateCarree())\n",
    "cb = fig.colorbar(cf, orientation='horizontal', aspect=65, shrink=1, pad=0.20, extendrect='True')\n",
    "cb.set_label('m', size='small')\n",
    "\n",
    "\n",
    "ax=fig.add_subplot(235, projection=proj)\n",
    "plot_background(ax)\n",
    "ax.set_title(\"$\\overline{z}$\", fontsize=14)\n",
    "cf = ax.contourf(lon, lat, zbar, levels_z, transform=ccrs.PlateCarree(), cmap='jet', extend='both')\n",
    "c = ax.contour(lon, lat, zbar, levels_z, colors= 'black', linewidths=0.2, transform=ccrs.PlateCarree())\n",
    "cb = fig.colorbar(cf, orientation='horizontal', aspect=65, shrink=1, pad=0.20, extendrect='True')\n",
    "cb.set_label('m', size='small')\n",
    "\n",
    "\n",
    "ax=fig.add_subplot(236, projection=proj)\n",
    "plot_background(ax)\n",
    "ax.set_title(\"$z' = z-\\overline{z}$\", fontsize=14)\n",
    "cf = ax.contourf(lon, lat, zprimeday, levels_zanom, transform=ccrs.PlateCarree(), cmap='coolwarm', extend='both')\n",
    "c = ax.contour(lon, lat, zprimeday, levels_zanom, colors= 'black', linewidths=0.2, transform=ccrs.PlateCarree())\n",
    "cb = fig.colorbar(cf, orientation='horizontal', aspect=65, shrink=1, pad=0.20, extendrect='True')\n",
    "cb.set_label('m', size='small')\n",
    "\n",
    "\n",
    "figname='./figs/z'+date\n",
    "fig.savefig(figname+'.png',bbox_inches='tight')"
   ]
  },
  {
   "cell_type": "raw",
   "metadata": {},
   "source": [
    "Champ total."
   ]
  },
  {
   "cell_type": "code",
   "execution_count": null,
   "metadata": {
    "scrolled": false
   },
   "outputs": [],
   "source": [
    "fig = plt.figure(figsize=(15,10))\n",
    "fig.suptitle(title, fontsize=16)\n",
    "\n",
    "ax=fig.add_subplot(111, projection=proj)\n",
    "plot_background(ax)\n",
    "ax.set_title(\"z\", fontsize=14)\n",
    "cf = ax.contourf(lon, lat, zday, levels_z, transform=ccrs.PlateCarree(), cmap='jet', extend='both')\n",
    "c = ax.contour(lon, lat, zday, levels_z, colors= 'black', linewidths=0.2, transform=ccrs.PlateCarree())\n",
    "cb = fig.colorbar(cf, orientation='horizontal', aspect=65, shrink=1, pad=0.20, extendrect='True')\n",
    "cb.set_label('m', size='small')\n",
    "\n",
    "figname='./figs/z0_'+date\n",
    "fig.savefig(figname+'.png',bbox_inches='tight')"
   ]
  },
  {
   "cell_type": "raw",
   "metadata": {},
   "source": [
    "Moyenne zonale."
   ]
  },
  {
   "cell_type": "code",
   "execution_count": null,
   "metadata": {
    "scrolled": false
   },
   "outputs": [],
   "source": [
    "fig = plt.figure(figsize=(15,10))\n",
    "fig.suptitle(title, fontsize=16)\n",
    "\n",
    "ax=fig.add_subplot(111, projection=proj)\n",
    "plot_background(ax)\n",
    "ax.set_title(\"$[z]$\", fontsize=14)\n",
    "cf = ax.contourf(lon, lat, zzmeanday, levels_z, transform=ccrs.PlateCarree(), cmap='jet', extend='both')\n",
    "c = ax.contour(lon, lat, zzmeanday, levels_z, colors= 'black', linewidths=0.2, transform=ccrs.PlateCarree())\n",
    "cb = fig.colorbar(cf, orientation='horizontal', aspect=65, shrink=1, pad=0.20, extendrect='True')\n",
    "cb.set_label('m', size='small')\n",
    "\n",
    "figname='./figs/z1_'+date\n",
    "fig.savefig(figname+'.png',bbox_inches='tight')"
   ]
  },
  {
   "cell_type": "raw",
   "metadata": {},
   "source": [
    "Anomalie zonale."
   ]
  },
  {
   "cell_type": "code",
   "execution_count": null,
   "metadata": {
    "scrolled": false
   },
   "outputs": [],
   "source": [
    "fig = plt.figure(figsize=(15,10))\n",
    "fig.suptitle(title, fontsize=16)\n",
    "\n",
    "ax=fig.add_subplot(111, projection=proj)\n",
    "plot_background(ax)\n",
    "ax.set_title(\"$z^* = z-[z]$\", fontsize=14)\n",
    "cf = ax.contourf(lon, lat, zstarday, levels_zanom, transform=ccrs.PlateCarree(), cmap='coolwarm', extend='both')\n",
    "c = ax.contour(lon, lat, zstarday, levels_zanom, colors= 'black', linewidths=0.2, transform=ccrs.PlateCarree())\n",
    "cb = fig.colorbar(cf, orientation='horizontal', aspect=65, shrink=1, pad=0.20, extendrect='True')\n",
    "cb.set_label('m', size='small')\n",
    "\n",
    "figname='./figs/z2_'+date\n",
    "fig.savefig(figname+'.png',bbox_inches='tight')"
   ]
  },
  {
   "cell_type": "raw",
   "metadata": {},
   "source": [
    "Moyenne temporelle."
   ]
  },
  {
   "cell_type": "code",
   "execution_count": null,
   "metadata": {
    "scrolled": false
   },
   "outputs": [],
   "source": [
    "fig = plt.figure(figsize=(15,10))\n",
    "fig.suptitle(title, fontsize=16)\n",
    "\n",
    "ax=fig.add_subplot(111, projection=proj)\n",
    "plot_background(ax)\n",
    "ax.set_title(\"$\\overline{z}$\", fontsize=14)\n",
    "cf = ax.contourf(lon, lat, zbar, levels_z, transform=ccrs.PlateCarree(), cmap='jet', extend='both')\n",
    "c = ax.contour(lon, lat, zbar, levels_z, colors= 'black', linewidths=0.2, transform=ccrs.PlateCarree())\n",
    "cb = fig.colorbar(cf, orientation='horizontal', aspect=65, shrink=1, pad=0.20, extendrect='True')\n",
    "cb.set_label('m', size='small')\n",
    "\n",
    "figname='./figs/z3_'+date\n",
    "fig.savefig(figname+'.png',bbox_inches='tight')"
   ]
  },
  {
   "cell_type": "raw",
   "metadata": {},
   "source": [
    "Anomalie transitoire."
   ]
  },
  {
   "cell_type": "code",
   "execution_count": null,
   "metadata": {
    "scrolled": false
   },
   "outputs": [],
   "source": [
    "fig = plt.figure(figsize=(15,10))\n",
    "fig.suptitle(title, fontsize=16)\n",
    "\n",
    "ax=fig.add_subplot(111, projection=proj)\n",
    "plot_background(ax)\n",
    "ax.set_title(\"$z' = z-\\overline{z}$\", fontsize=14)\n",
    "cf = ax.contourf(lon, lat, zprimeday, levels_zanom, transform=ccrs.PlateCarree(), cmap='coolwarm', extend='both')\n",
    "c = ax.contour(lon, lat, zprimeday, levels_zanom, colors= 'black', linewidths=0.2, transform=ccrs.PlateCarree())\n",
    "cb = fig.colorbar(cf, orientation='horizontal', aspect=65, shrink=1, pad=0.20, extendrect='True')\n",
    "cb.set_label('m', size='small')\n",
    "\n",
    "figname='./figs/z4_'+date\n",
    "fig.savefig(figname+'.png',bbox_inches='tight')"
   ]
  },
  {
   "cell_type": "markdown",
   "metadata": {},
   "source": [
    "<div class=\"alert alert-danger\">\n",
    "\n",
    "    \n",
    "<b>Coder la décomposition suivante : </b>\n",
    "    \n",
    "$$z=\\overline{[z]}+\\overline{z^*}+[z]'+z^{*'}$$\n",
    "\n",
    "Composante axisymétrique et stationnaire de la circulation : $$\\overline{[z]}$$\n",
    "Ecart stationnaire à la moyenne zonale : $$\\overline{z^*}$$\n",
    "Perturbation transitoire de la moyenne zonale : $$[z]'$$\n",
    "Perturbation transitoire non axisymétrique : $$z^{*'}$$\n",
    "\n",
    "</div>"
   ]
  },
  {
   "cell_type": "raw",
   "metadata": {},
   "source": [
    "Décomposition."
   ]
  },
  {
   "cell_type": "code",
   "execution_count": null,
   "metadata": {
    "scrolled": false
   },
   "outputs": [],
   "source": [
    "zzmeanbar =\n",
    "zstarbar =                      \n",
    "zzmeanprime =\n",
    "zstarprime =\n",
    "\n",
    "print(zstarbar.shape)\n",
    "print(zzmeanbar.shape)\n",
    "print(zzmeanprime.shape)\n",
    "print(zstarprime.shape)"
   ]
  },
  {
   "cell_type": "raw",
   "metadata": {},
   "source": [
    "Choix d'une date de la saison et sélection du champ et des anomalies pour cette date."
   ]
  },
  {
   "cell_type": "code",
   "execution_count": null,
   "metadata": {
    "scrolled": false
   },
   "outputs": [],
   "source": [
    "date='2021-01-01'\n",
    "zday = z_season.sel(time=date).squeeze()\n",
    "zzmeanprimeday = zzmeanprime.sel(time=date).squeeze()\n",
    "zstarprimeday = zstarprime.sel(time=date).squeeze()\n",
    "sum=zzmeanbar+zstarbar+zzmeanprimeday+zstarprimeday\n",
    "print(zzmeanprimeday.shape)"
   ]
  },
  {
   "cell_type": "raw",
   "metadata": {},
   "source": [
    "Vérification de la décomposition pour la date choisie."
   ]
  },
  {
   "cell_type": "code",
   "execution_count": null,
   "metadata": {
    "scrolled": false
   },
   "outputs": [],
   "source": [
    "levels_z = np.arange(4800,6050,50)\n",
    "levels_zanom = np.arange(-300,320,20)\n",
    "\n",
    "fig = plt.figure(figsize=(19,7))\n",
    "fig.suptitle(title, fontsize=16)\n",
    "\n",
    "ax=fig.add_subplot(231, projection=proj)\n",
    "plot_background(ax)\n",
    "ax.set_title(\"z\", fontsize=14)\n",
    "cf = ax.contourf(lon, lat, zday, levels_z, transform=ccrs.PlateCarree(), cmap='jet', extend='both')\n",
    "c = ax.contour(lon, lat, zday, levels_z, colors= 'black', linewidths=0.2, transform=ccrs.PlateCarree())\n",
    "cb = fig.colorbar(cf, orientation='horizontal', aspect=65, shrink=1, pad=0.20, extendrect='True')\n",
    "cb.set_label('m', size='small')\n",
    "\n",
    "ax=fig.add_subplot(232, projection=proj)\n",
    "plot_background(ax)\n",
    "ax.set_title(\"$\\overline{[z]}$\", fontsize=14)\n",
    "cf = ax.contourf(lon, lat, zzmeanbar, levels_z, transform=ccrs.PlateCarree(), cmap='jet', extend='both')\n",
    "c = ax.contour(lon, lat, zzmeanbar, levels_z, colors= 'black', linewidths=0.2, transform=ccrs.PlateCarree())\n",
    "cb = fig.colorbar(cf, orientation='horizontal', aspect=65, shrink=1, pad=0.20, extendrect='True')\n",
    "cb.set_label('m', size='small')\n",
    "\n",
    "ax=fig.add_subplot(233, projection=proj)\n",
    "plot_background(ax)\n",
    "ax.set_title(\"$\\overline{z^*}$\", fontsize=14)\n",
    "cf = ax.contourf(lon, lat, zstarbar, levels_zanom, transform=ccrs.PlateCarree(), cmap='coolwarm', extend='both')\n",
    "c = ax.contour(lon, lat, zstarbar, levels_zanom, colors= 'black', linewidths=0.2, transform=ccrs.PlateCarree())\n",
    "cb = fig.colorbar(cf, orientation='horizontal', aspect=65, shrink=1, pad=0.20, extendrect='True')\n",
    "cb.set_label('m', size='small')\n",
    "\n",
    "ax=fig.add_subplot(234, projection=proj)\n",
    "plot_background(ax)\n",
    "ax.set_title(\"$[z]'$\", fontsize=14)\n",
    "cf = ax.contourf(lon, lat, zzmeanprimeday, levels_zanom, transform=ccrs.PlateCarree(), cmap='coolwarm', extend='both')\n",
    "c = ax.contour(lon, lat, zzmeanprimeday, levels_zanom, colors= 'black', linewidths=0.2, transform=ccrs.PlateCarree())\n",
    "cb = fig.colorbar(cf, orientation='horizontal', aspect=65, shrink=1, pad=0.20, extendrect='True')\n",
    "cb.set_label('m', size='small')\n",
    "\n",
    "\n",
    "ax=fig.add_subplot(235, projection=proj)\n",
    "plot_background(ax)\n",
    "ax.set_title(\"$z^{*'}$\", fontsize=14)\n",
    "cf = ax.contourf(lon, lat, zstarprimeday, levels_zanom, transform=ccrs.PlateCarree(), cmap='coolwarm', extend='both')\n",
    "c = ax.contour(lon, lat, zstarprimeday, levels_zanom, colors= 'black', linewidths=0.2, transform=ccrs.PlateCarree())\n",
    "cb = fig.colorbar(cf, orientation='horizontal', aspect=65, shrink=1, pad=0.20, extendrect='True')\n",
    "cb.set_label('m', size='small')\n",
    "\n",
    "\n",
    "ax=fig.add_subplot(236, projection=proj)\n",
    "plot_background(ax)\n",
    "ax.set_title(\"$\\overline{[z]}+\\overline{z^*}+[z]'+z^{*'}$\", fontsize=14)\n",
    "cf = ax.contourf(lon, lat, sum, levels_z, transform=ccrs.PlateCarree(), cmap='jet', extend='both')\n",
    "c = ax.contour(lon, lat, sum, levels_z, colors= 'black', linewidths=0.2, transform=ccrs.PlateCarree())\n",
    "cb = fig.colorbar(cf, orientation='horizontal', aspect=65, shrink=1, pad=0.20, extendrect='True')\n",
    "cb.set_label('m', size='small')\n",
    "\n",
    "\n",
    "figname='./figs/z_decomp_'+date\n",
    "fig.savefig(figname+'.png',bbox_inches='tight')"
   ]
  },
  {
   "cell_type": "raw",
   "metadata": {},
   "source": [
    "Champ total."
   ]
  },
  {
   "cell_type": "code",
   "execution_count": null,
   "metadata": {},
   "outputs": [],
   "source": [
    "fig = plt.figure(figsize=(15,10))\n",
    "fig.suptitle(title, fontsize=16)\n",
    "\n",
    "ax=fig.add_subplot(111, projection=proj)\n",
    "plot_background(ax)\n",
    "ax.set_title(\"z\", fontsize=14)\n",
    "cf = ax.contourf(lon, lat, zday, levels_z, transform=ccrs.PlateCarree(), cmap='jet', extend='both')\n",
    "c = ax.contour(lon, lat, zday, levels_z, colors= 'black', linewidths=0.2, transform=ccrs.PlateCarree())\n",
    "cb = fig.colorbar(cf, orientation='horizontal', aspect=65, shrink=1, pad=0.20, extendrect='True')\n",
    "cb.set_label('m', size='small')\n",
    "\n",
    "figname='./figs/z_decomp0_'+date\n",
    "fig.savefig(figname+'.png',bbox_inches='tight')"
   ]
  },
  {
   "cell_type": "raw",
   "metadata": {},
   "source": [
    "Composante axisymétrique et stationnaire de la circulation."
   ]
  },
  {
   "cell_type": "code",
   "execution_count": null,
   "metadata": {},
   "outputs": [],
   "source": [
    "fig = plt.figure(figsize=(15,10))\n",
    "fig.suptitle(title, fontsize=16)\n",
    "\n",
    "ax=fig.add_subplot(111, projection=proj)\n",
    "plot_background(ax)\n",
    "ax.set_title(\"$\\overline{[z]}$\", fontsize=14)\n",
    "cf = ax.contourf(lon, lat, zzmeanbar, levels_z, transform=ccrs.PlateCarree(), cmap='jet', extend='both')\n",
    "c = ax.contour(lon, lat, zzmeanbar, levels_z, colors= 'black', linewidths=0.2, transform=ccrs.PlateCarree())\n",
    "cb = fig.colorbar(cf, orientation='horizontal', aspect=65, shrink=1, pad=0.20, extendrect='True')\n",
    "cb.set_label('m', size='small')\n",
    "\n",
    "figname='./figs/z_decomp1_'+date\n",
    "fig.savefig(figname+'.png',bbox_inches='tight')"
   ]
  },
  {
   "cell_type": "raw",
   "metadata": {},
   "source": [
    "Ecart stationnaire à la moyenne zonale."
   ]
  },
  {
   "cell_type": "code",
   "execution_count": null,
   "metadata": {},
   "outputs": [],
   "source": [
    "fig = plt.figure(figsize=(15,10))\n",
    "fig.suptitle(title, fontsize=16)\n",
    "\n",
    "ax=fig.add_subplot(111, projection=proj)\n",
    "plot_background(ax)\n",
    "ax.set_title(\"$\\overline{z^*}$\", fontsize=14)\n",
    "cf = ax.contourf(lon, lat, zstarbar, levels_zanom, transform=ccrs.PlateCarree(), cmap='coolwarm', extend='both')\n",
    "c = ax.contour(lon, lat, zstarbar, levels_zanom, colors= 'black', linewidths=0.2, transform=ccrs.PlateCarree())\n",
    "cb = fig.colorbar(cf, orientation='horizontal', aspect=65, shrink=1, pad=0.20, extendrect='True')\n",
    "cb.set_label('m', size='small')\n",
    "\n",
    "figname='./figs/z_decomp2_'+date\n",
    "fig.savefig(figname+'.png',bbox_inches='tight')"
   ]
  },
  {
   "cell_type": "raw",
   "metadata": {},
   "source": [
    "Perturbation transitoire de la moyenne zonale."
   ]
  },
  {
   "cell_type": "code",
   "execution_count": null,
   "metadata": {},
   "outputs": [],
   "source": [
    "fig = plt.figure(figsize=(15,10))\n",
    "fig.suptitle(title, fontsize=16)\n",
    "\n",
    "ax=fig.add_subplot(111, projection=proj)\n",
    "plot_background(ax)\n",
    "ax.set_title(\"$[z]'$\", fontsize=14)\n",
    "cf = ax.contourf(lon, lat, zzmeanprimeday, levels_zanom, transform=ccrs.PlateCarree(), cmap='coolwarm', extend='both')\n",
    "c = ax.contour(lon, lat, zzmeanprimeday, levels_zanom, colors= 'black', linewidths=0.2, transform=ccrs.PlateCarree())\n",
    "cb = fig.colorbar(cf, orientation='horizontal', aspect=65, shrink=1, pad=0.20, extendrect='True')\n",
    "cb.set_label('m', size='small')\n",
    "\n",
    "figname='./figs/z_decomp3_'+date\n",
    "fig.savefig(figname+'.png',bbox_inches='tight')"
   ]
  },
  {
   "cell_type": "raw",
   "metadata": {},
   "source": [
    "Perturbation transitoire non axisymétrique."
   ]
  },
  {
   "cell_type": "code",
   "execution_count": null,
   "metadata": {
    "scrolled": false
   },
   "outputs": [],
   "source": [
    "fig = plt.figure(figsize=(15,10))\n",
    "fig.suptitle(title, fontsize=16)\n",
    "\n",
    "ax=fig.add_subplot(111, projection=proj)\n",
    "plot_background(ax)\n",
    "ax.set_title(\"$z^{*'}$\", fontsize=14)\n",
    "cf = ax.contourf(lon, lat, zstarprimeday, levels_zanom, transform=ccrs.PlateCarree(), cmap='coolwarm', extend='both')\n",
    "c = ax.contour(lon, lat, zstarprimeday, levels_zanom, colors= 'black', linewidths=0.2, transform=ccrs.PlateCarree())\n",
    "cb = fig.colorbar(cf, orientation='horizontal', aspect=65, shrink=1, pad=0.20, extendrect='True')\n",
    "cb.set_label('m', size='small')\n",
    "\n",
    "figname='./figs/z_decomp4_'+date\n",
    "fig.savefig(figname+'.png',bbox_inches='tight')"
   ]
  },
  {
   "cell_type": "markdown",
   "metadata": {},
   "source": [
    "# Transports méridiens de chaleur"
   ]
  },
  {
   "cell_type": "raw",
   "metadata": {},
   "source": [
    "Lecture des données de vent méridien et de température."
   ]
  },
  {
   "cell_type": "code",
   "execution_count": null,
   "metadata": {
    "scrolled": false
   },
   "outputs": [],
   "source": [
    "ft    = xr.open_dataset(diri+\"era5_t500_daily_2021.nc\")\n",
    "fv    = xr.open_dataset(diri+\"era5_v500_daily_2021.nc\")\n",
    "fu    = xr.open_dataset(diri+\"era5_u500_daily_2021.nc\")\n",
    "\n",
    "lat  = fv.latitude.values\n",
    "print(ft)\n",
    "\n",
    "t = ft['t']\n",
    "v = fv['v']\n",
    "u = fu['u']\n",
    "\n",
    "t=lonflip(t)\n",
    "v=lonflip(v)\n",
    "u=lonflip(u)\n",
    "\n",
    "lon  = t.longitude.values\n",
    "\n",
    "print(t.shape)"
   ]
  },
  {
   "cell_type": "raw",
   "metadata": {},
   "source": [
    "Choix de la saison JFM."
   ]
  },
  {
   "cell_type": "code",
   "execution_count": null,
   "metadata": {
    "scrolled": false
   },
   "outputs": [],
   "source": [
    "date1='2021-01-01'\n",
    "date2='2021-03-31'"
   ]
  },
  {
   "cell_type": "raw",
   "metadata": {},
   "source": [
    "Données de vent et de température sur la période choisie moyenne globale avec pondération spatiale"
   ]
  },
  {
   "cell_type": "code",
   "execution_count": null,
   "metadata": {
    "scrolled": false
   },
   "outputs": [],
   "source": [
    "u_season = u.sel(time=slice(date1,date2))\n",
    "v_season = v.sel(time=slice(date1,date2))\n",
    "T0_season = t.sel(time=slice(date1,date2))\n",
    "T_season_global = T0_season.mean(dim='time').weighted(np.cos(np.deg2rad(T0_season.latitude))).mean(dim=('latitude','longitude'))\n",
    "T_season=T0_season-T_season_global\n",
    "print(v_season.shape)\n",
    "print(T_season.shape)"
   ]
  },
  {
   "cell_type": "markdown",
   "metadata": {},
   "source": [
    "<div class=\"alert alert-danger\">\n",
    "  \n",
    "<b>Calculer les flux méridiens de chaleur : </b>\n",
    "    \n",
    "<br>\n",
    "\n",
    "Transport méridiens de chaleur total :\n",
    "$$[\\overline{vT}]$$    \n",
    "    \n",
    "<br>\n",
    "    \n",
    "Transport méridien de chaleur par la circulation en moyenne zonale :\n",
    "$$\\overline{[v]} \\overline{[T]}$$\n",
    "\n",
    "<br>\n",
    "\n",
    "Transport méridien de chaleur par les perturbations transitoires :\n",
    "$$[\\overline{v'T'}]$$\n",
    "\n",
    "<br>\n",
    "    \n",
    "Transport méridien de chaleur  par les circulations stationnaires non axisymétriques :\n",
    "$$[\\overline{v^*}\\overline{T^*}]$$\n",
    "\n",
    "        \n",
    "</div>"
   ]
  },
  {
   "cell_type": "code",
   "execution_count": null,
   "metadata": {},
   "outputs": [],
   "source": [
    "vTbar = \n",
    "vTbarzmean = \n",
    "\n",
    "vbar = \n",
    "Tbar = \n",
    "vbarzmean = \n",
    "Tbarzmean = \n",
    "vbarzmean_Tbarzmean = \n",
    "\n",
    "vprime = \n",
    "Tprime = \n",
    "vprimeTprimebar = \n",
    "vprimeTprimebarzmean = \n",
    "\n",
    "vbarstar = \n",
    "Tbarstar = \n",
    "vbarstarTbarstarzmean = "
   ]
  },
  {
   "cell_type": "markdown",
   "metadata": {},
   "source": [
    "<div class=\"alert alert-danger\">\n",
    "  \n",
    "<b>Calculer les flux méridiens de quantité de mouvement zonal : </b>\n",
    "    \n",
    "<br>\n",
    "\n",
    "Transport méridiens de qdm total :\n",
    "$$[\\overline{uv}]$$    \n",
    "    \n",
    "<br>\n",
    "    \n",
    "Transport méridien de qdm par la circulation en moyenne zonale :\n",
    "$$\\overline{[u]} \\overline{[v]}$$\n",
    "\n",
    "<br>\n",
    "\n",
    "Transport méridien de qdm par les perturbations transitoires :\n",
    "$$[\\overline{u'v'}]$$\n",
    "\n",
    "<br>\n",
    "    \n",
    "Transport méridien de qdm  par les circulations stationnaires non axisymétriques :\n",
    "$$[\\overline{u^*}\\overline{v^*}]$$\n",
    "\n",
    "        \n",
    "</div>"
   ]
  },
  {
   "cell_type": "code",
   "execution_count": null,
   "metadata": {},
   "outputs": [],
   "source": [
    "uvbar = \n",
    "uvbarzmean = \n",
    "\n",
    "vbar = \n",
    "ubar = \n",
    "vbarzmean = \n",
    "ubarzmean = \n",
    "ubarzmean_vbarzmean = \n",
    "\n",
    "vprime = \n",
    "uprime = \n",
    "uprimevprimebar = \n",
    "uprimevprimebarzmean = \n",
    "\n",
    "vbarstar = \n",
    "ubarstar = \n",
    "ubarstarvbarstarzmean = "
   ]
  },
  {
   "cell_type": "raw",
   "metadata": {},
   "source": [
    "Pondération éventuele par le cosinus de la latitude."
   ]
  },
  {
   "cell_type": "code",
   "execution_count": null,
   "metadata": {},
   "outputs": [],
   "source": [
    "scale=np.cos(lat*np.pi/180.)\n",
    "\n",
    "total_vt = vTbarzmean\n",
    "mean_meridional_vt = vbarzmean_Tbarzmean\n",
    "transient_eddy_vt = vprimeTprimebarzmean\n",
    "stationary_eddy_vt = vbarstarTbarstarzmean\n",
    "\n",
    "print(total_vt.shape)"
   ]
  },
  {
   "cell_type": "code",
   "execution_count": null,
   "metadata": {},
   "outputs": [],
   "source": [
    "total_uv = uvbarzmean\n",
    "mean_meridional_uv = ubarzmean_vbarzmean\n",
    "transient_eddy_uv = uprimevprimebarzmean\n",
    "stationary_eddy_uv = ubarstarvbarstarzmean\n",
    "\n",
    "print(total_uv.shape)"
   ]
  },
  {
   "cell_type": "raw",
   "metadata": {},
   "source": [
    "Graphique vT."
   ]
  },
  {
   "cell_type": "code",
   "execution_count": null,
   "metadata": {},
   "outputs": [],
   "source": [
    "fig = plt.figure(figsize=(15,10))\n",
    "\n",
    "plt.xlabel('Latitude')\n",
    "plt.ylabel('Transport (K m/s)')\n",
    "plt.xticks(np.arange(-90, 120, 30), ('90S', '60S', '30S', 'Eq', '30N', '60N', '90N'))\n",
    "plt.title('Mean meridional heat transport decomposition at 500 hPa: '+date1+'-'+date2)\n",
    "plt.axhline(0, color='grey', linestyle=\"--\")\n",
    "plt.axvline(0, color='grey', linestyle=\"--\")\n",
    "plt.xlim(-90,90)\n",
    "plt.plot(lat, total_vt, color='k', linewidth=3, label='Total : $[\\overline{vT}]$')\n",
    "plt.plot(lat, mean_meridional_vt, color='red', label='Mean meridional : $[\\overline{v}][\\overline{T}]$')\n",
    "plt.plot(lat, transient_eddy_vt, color='blue', label='Transient eddy : $[\\overline{v^\\prime T^\\prime}]$')\n",
    "plt.plot(lat, stationary_eddy_vt, color='green', label='Stationary eddy : $[\\overline{v}^* \\overline{T}^*]$')\n",
    "plt.legend(loc='best')\n",
    "\n",
    "figname='./figs/eddy_heat_flux_decomposition_'+date1+'-'+date2\n",
    "plt.savefig(figname+'.png',bbox_inches='tight')\n",
    "plt.show()"
   ]
  },
  {
   "cell_type": "raw",
   "metadata": {},
   "source": [
    "Graphique uv."
   ]
  },
  {
   "cell_type": "code",
   "execution_count": null,
   "metadata": {},
   "outputs": [],
   "source": [
    "fig = plt.figure(figsize=(15,10))\n",
    "\n",
    "plt.xlabel('Latitude')\n",
    "plt.ylabel('Transport ($m^2/s^2$)')\n",
    "plt.xticks(np.arange(-90, 120, 30), ('90S', '60S', '30S', 'Eq', '30N', '60N', '90N'))\n",
    "plt.title('Mean meridional zonal momentum transport decomposition at 500 hPa: '+date1+'-'+date2)\n",
    "plt.axhline(0, color='grey', linestyle=\"--\")\n",
    "plt.axvline(0, color='grey', linestyle=\"--\")\n",
    "plt.xlim(-90,90)\n",
    "plt.plot(lat, total_uv, color='k', linewidth=3, label='Total : $[\\overline{uv}]$')\n",
    "plt.plot(lat, mean_meridional_uv, color='red', label='Mean meridional : $[\\overline{u}][\\overline{v}]$')\n",
    "plt.plot(lat, transient_eddy_uv, color='blue', label='Transient eddy : $[\\overline{u^\\prime v^\\prime}]$')\n",
    "plt.plot(lat, stationary_eddy_uv, color='green', label='Stationary eddy : $[\\overline{u}^* \\overline{v}^*]$')\n",
    "plt.legend(loc='best')\n",
    "\n",
    "figname='./figs/eddy_momentum_flux_decomposition_'+date1+'-'+date2\n",
    "plt.savefig(figname+'.png',bbox_inches='tight')\n",
    "plt.show()"
   ]
  },
  {
   "cell_type": "markdown",
   "metadata": {},
   "source": [
    "<div class=\"alert alert-danger\">\n",
    "  \n",
    "<b>Tracer les mêmes courbes pour une saison d'été</b>\n",
    "        \n",
    "</div>"
   ]
  }
 ],
 "metadata": {
  "kernelspec": {
   "display_name": "Python 3",
   "language": "python",
   "name": "python3"
  },
  "language_info": {
   "codemirror_mode": {
    "name": "ipython",
    "version": 3
   },
   "file_extension": ".py",
   "mimetype": "text/x-python",
   "name": "python",
   "nbconvert_exporter": "python",
   "pygments_lexer": "ipython3",
   "version": "3.7.11"
  }
 },
 "nbformat": 4,
 "nbformat_minor": 1
}
