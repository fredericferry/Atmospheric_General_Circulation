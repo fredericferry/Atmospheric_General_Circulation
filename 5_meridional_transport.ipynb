{
 "cells": [
  {
   "cell_type": "markdown",
   "metadata": {},
   "source": [
    "# Transports méridiens de chaleur et de quantité de mouvement\n",
    "\n",
    "**Auteur : FERRY Frédéric (DESR/ENM/C3M) - septembre 2021\n",
    "\n",
    "Les fichiers de données au format netcdf (moyennes quotidiennes NCEP/NCAR) doivent être récupérés par FTP (FileZilla) et placés dans le répertoire data :\n",
    "\n",
    "- Température : ftp://ftp.cdc.noaa.gov/Datasets/ncep.reanalysis.dailyavgs/pressure/air.XXXX.nc\n",
    "- Vent zonal : ftp://ftp.cdc.noaa.gov/Datasets/ncep.reanalysis.dailyavgs/pressure/uwnd.XXXX.nc\n",
    "- Vent méridien : ftp://ftp.cdc.noaa.gov/Datasets/ncep.reanalysis.dailyavgs/pressure/vwnd.XXXX.nc\n",
    "\n",
    "Il faut télécharger au moins la période 2000-2005 et ensuite concaténer les fichier netcdf avec les commandes NCO ncrcat ou CDO mergetime :\n",
    "\n",
    "- https://linux.die.net/man/1/ncrcat\n",
    "- https://code.mpimet.mpg.de/projects/cdo/embedded/index.html#x1-930002.2.6\n",
    "\n",
    "--> fichier t.nc, u.nc, v.nc"
   ]
  },
  {
   "cell_type": "markdown",
   "metadata": {},
   "source": [
    "<div class=\"alert alert-warning\">\n",
    "\n",
    "    \n",
    "<b>Transports méridiens de chaleur et de quantité de mouvement zonal par les perturbations transitoires : </b>\n",
    "$$[\\overline{u'v'}], [\\overline{v'T'}]$$\n",
    "\n",
    "<br>\n",
    "    \n",
    "<b>Transports méridiens de chaleur et de quantité de mouvement zonal par les circulations stationnaires non axisymétriques : </b>\n",
    "$$[\\overline{v^*}\\overline{T^*}], [\\overline{u^*}\\overline{v^*}]$$\n",
    "    \n",
    "</div>"
   ]
  },
  {
   "cell_type": "code",
   "execution_count": null,
   "metadata": {},
   "outputs": [],
   "source": [
    "%matplotlib inline\n",
    "\n",
    "import os\n",
    "import xarray as xr\n",
    "import numpy as np\n",
    "import matplotlib.pyplot as plt"
   ]
  },
  {
   "cell_type": "raw",
   "metadata": {},
   "source": [
    "Fonction pour les coupes verticales-méridiennes en moyenne zonale."
   ]
  },
  {
   "cell_type": "code",
   "execution_count": null,
   "metadata": {
    "scrolled": false
   },
   "outputs": [],
   "source": [
    "def plot_zonal_mean(ax):\n",
    "    ax.set_yscale('symlog')\n",
    "    ax.set_yticklabels(np.arange(1000, 0, -100))\n",
    "    ax.set_ylim(1000, 100)\n",
    "    ax.set_yticks(np.arange(1000, 0, -100))  \n",
    "    ax.set_xticklabels(np.arange(-90, 100, 10))\n",
    "    ax.set_xticks(np.arange(-90, 100, 10)) \n",
    "    return ax"
   ]
  },
  {
   "cell_type": "markdown",
   "metadata": {},
   "source": [
    "# Traitement des données"
   ]
  },
  {
   "cell_type": "raw",
   "metadata": {},
   "source": [
    "Choix des années pour les calculs de climatologies."
   ]
  },
  {
   "cell_type": "code",
   "execution_count": null,
   "metadata": {},
   "outputs": [],
   "source": [
    "year1='2000'\n",
    "year2='2005'\n",
    "seasons=['DJF','JJA','MAM','SON']"
   ]
  },
  {
   "cell_type": "raw",
   "metadata": {},
   "source": [
    "Lecture des données."
   ]
  },
  {
   "cell_type": "code",
   "execution_count": null,
   "metadata": {
    "scrolled": false
   },
   "outputs": [],
   "source": [
    "diri=\"./daily_ncep/\"\n",
    "\n",
    "ft    = xr.open_dataset(diri+\"t.nc\").sel(time=slice(year1,year2))\n",
    "fu    = xr.open_dataset(diri+\"u.nc\").sel(time=slice(year1,year2))\n",
    "fv    = xr.open_dataset(diri+\"v.nc\").sel(time=slice(year1,year2))\n",
    "\n",
    "lat  = fv.lat.values\n",
    "lon  = fv.lon.values\n",
    "lev = fv.level.values\n",
    "\n",
    "print(fv)\n",
    "print(lev)\n",
    "\n",
    "plev1=1000\n",
    "plev2=100\n",
    "iplev1 = list(lev).index(plev1)\n",
    "iplev2 = list(lev).index(plev2)"
   ]
  },
  {
   "cell_type": "markdown",
   "metadata": {},
   "source": [
    "# Flux méridiens par les transitoires"
   ]
  },
  {
   "cell_type": "raw",
   "metadata": {},
   "source": [
    "Calcul des transitoires."
   ]
  },
  {
   "cell_type": "markdown",
   "metadata": {},
   "source": [
    "$$u', v', T'$$"
   ]
  },
  {
   "cell_type": "code",
   "execution_count": null,
   "metadata": {
    "scrolled": false
   },
   "outputs": [],
   "source": [
    "fuprime=fu.groupby('time.dayofyear')-fu.groupby('time.dayofyear').mean('time')\n",
    "uprime=fuprime['uwnd']\n",
    "\n",
    "fvprime=fv.groupby('time.dayofyear')-fv.groupby('time.dayofyear').mean('time')\n",
    "vprime=fvprime['vwnd']\n",
    "\n",
    "ftprime=ft.groupby('time.dayofyear')-ft.groupby('time.dayofyear').mean('time')\n",
    "tprime=ftprime['air']"
   ]
  },
  {
   "cell_type": "raw",
   "metadata": {},
   "source": [
    "Multiplication par le cosinus de la latitude pour éviter les soucis aux pôles."
   ]
  },
  {
   "cell_type": "code",
   "execution_count": null,
   "metadata": {
    "scrolled": false
   },
   "outputs": [],
   "source": [
    "print(tprime.shape)\n",
    "scale=np.cos(lat[np.newaxis,np.newaxis,:,np.newaxis]*np.pi/180.)\n",
    "print(scale.shape)"
   ]
  },
  {
   "cell_type": "raw",
   "metadata": {},
   "source": [
    "Calcul des flux méridiens de chaleur et de qdm par les transitoires. Moyenne annuelle, saisonnière et zonale."
   ]
  },
  {
   "cell_type": "markdown",
   "metadata": {},
   "source": [
    "$$[\\overline{u'v'}], [\\overline{v'T'}]$$"
   ]
  },
  {
   "cell_type": "code",
   "execution_count": null,
   "metadata": {
    "scrolled": false
   },
   "outputs": [],
   "source": [
    "uprime_vprime=uprime*vprime*scale  # u'v'\n",
    "uprime_vprime=uprime_vprime.mean(axis=3) # moyenne zonale\n",
    "uprime_vprime_an=uprime_vprime.mean(axis=0) # moyenne annuelle\n",
    "uprime_vprime_season=uprime_vprime.groupby('time.season').mean('time') # moyenne saisonnière\n",
    "\n",
    "vprime_tprime=vprime*tprime*scale  # v'T'\n",
    "vprime_tprime=vprime_tprime.mean(axis=3) # moyenne zonale\n",
    "vprime_tprime_an=vprime_tprime.mean(axis=0) # moyenne annuelle\n",
    "vprime_tprime_season=vprime_tprime.groupby('time.season').mean('time') # moyenne saisonnière\n",
    "\n",
    "uprime_vprime_an_vavg = uprime_vprime_an[iplev1:iplev2,:].mean(axis=0)\n",
    "uprime_vprime_season_vavg = uprime_vprime_season[:,iplev1:iplev2,:].mean(axis=1)\n",
    "\n",
    "vprime_tprime_an_vavg = vprime_tprime_an[iplev1:iplev2,:].mean(axis=0)\n",
    "vprime_tprime_season_vavg = vprime_tprime_season[:,iplev1:iplev2,:].mean(axis=1)"
   ]
  },
  {
   "cell_type": "raw",
   "metadata": {},
   "source": [
    "Coupe verticale-méridienne en moyenne zonale des flux méridiens de chaleur."
   ]
  },
  {
   "cell_type": "code",
   "execution_count": null,
   "metadata": {
    "scrolled": false
   },
   "outputs": [],
   "source": [
    "levels_vT = np.arange(-7,8,1)\n",
    "\n",
    "fig = plt.figure(figsize=(12, 12))\n",
    "fig.suptitle(\"$[\\overline{v'T'}]$ : NCEP \"+year1+\"-\"+year2, fontsize=16)\n",
    "ax=fig.add_subplot(111)\n",
    "plot_zonal_mean(ax)\n",
    "cf = ax.contourf(lat, lev, vprime_tprime_an, levels_vT, cmap='coolwarm', extend='both')\n",
    "c = ax.contour(lat, lev, vprime_tprime_an, levels_vT, colors='black', linewidths=1)\n",
    "#plt.clabel(c, levels_tz, fmt='%1.2i')\n",
    "cb = fig.colorbar(cf, orientation='horizontal')\n",
    "cb.set_label('Km/s', size='small')\n",
    "\n",
    "figname='./figs/eddy_heat_flux_annual'\n",
    "plt.savefig(figname+'.png',bbox_inches='tight')\n",
    "plt.show()\n",
    "\n",
    "fig = plt.figure(figsize=(12, 12))\n",
    "fig.suptitle(\"$[\\overline{v'T'}]$ : NCEP \"+year1+\"-\"+year2, fontsize=16)\n",
    "\n",
    "ax=fig.add_subplot(211)\n",
    "ax.set_title('DJF', fontsize=14)\n",
    "plot_zonal_mean(ax)\n",
    "cf = ax.contourf(lat, lev, vprime_tprime_season[0,:], levels_vT, cmap='coolwarm', extend='both')\n",
    "c = ax.contour(lat, lev, vprime_tprime_season[0,:], levels_vT, colors='black', linewidths=1)\n",
    "#plt.clabel(c, levels_tz, fmt='%1.2i')\n",
    "cb = fig.colorbar(cf, orientation='horizontal')\n",
    "cb.set_label('Km/s', size='small')\n",
    "\n",
    "ax=fig.add_subplot(212)\n",
    "ax.set_title('JJA', fontsize=14)\n",
    "plot_zonal_mean(ax)\n",
    "cf = ax.contourf(lat, lev, vprime_tprime_season[1,:], levels_vT, cmap='coolwarm', extend='both')\n",
    "c = ax.contour(lat, lev, vprime_tprime_season[1,:], levels_vT, colors='black', linewidths=1)\n",
    "#plt.clabel(c, levels_tz, fmt='%1.2i')\n",
    "cb = fig.colorbar(cf, orientation='horizontal')\n",
    "cb.set_label('Km/s', size='small')\n",
    "\n",
    "figname='./figs/eddy_heat_flux_seasonal'\n",
    "plt.savefig(figname+'.png',bbox_inches='tight')\n",
    "plt.show()"
   ]
  },
  {
   "cell_type": "raw",
   "metadata": {},
   "source": [
    "Profil méridien en moyenne zonale et verticale des flux méridiens de chaleur."
   ]
  },
  {
   "cell_type": "code",
   "execution_count": null,
   "metadata": {
    "scrolled": false
   },
   "outputs": [],
   "source": [
    "fig = plt.figure(figsize=(15,10))\n",
    "\n",
    "plt.xlabel('Latitude')\n",
    "plt.ylabel('Transport (K m/s)')\n",
    "plt.xticks(np.arange(-90, 120, 30), ('90S', '60S', '30S', 'Eq', '30N', '60N', '90N'))\n",
    "plt.title(\"$[\\overline{v'T'}]$ - \"+str(plev1)+\"-\"+str(plev2)+ \"hPa average : NCEP \"+year1+\"-\"+year2)\n",
    "plt.axhline(0, color='black', linestyle=\"--\")\n",
    "plt.axvline(0, color='black', linestyle=\"--\")\n",
    "plt.plot(lat, vprime_tprime_an_vavg, label='Annual')\n",
    "plt.plot(lat, vprime_tprime_season_vavg[0,:], label='DJF')\n",
    "plt.plot(lat, vprime_tprime_season_vavg[1,:], label='JJA')\n",
    "plt.legend()\n",
    "\n",
    "figname='./figs/eddy_heat_mean'\n",
    "plt.savefig(figname+'.png',bbox_inches='tight')\n",
    "plt.show()"
   ]
  },
  {
   "cell_type": "raw",
   "metadata": {},
   "source": [
    "Coupe verticale-méridienne en moyenne zonale des flux méridiens de qdm."
   ]
  },
  {
   "cell_type": "code",
   "execution_count": null,
   "metadata": {
    "scrolled": false
   },
   "outputs": [],
   "source": [
    "levels_uv = np.arange(-24,26,2)\n",
    "\n",
    "fig = plt.figure(figsize=(12, 12))\n",
    "fig.suptitle(\"$[\\overline{u'v'}]$ : NCEP \"+year1+\"-\"+year2, fontsize=16)\n",
    "ax=fig.add_subplot(111)\n",
    "plot_zonal_mean(ax)\n",
    "cf = ax.contourf(lat, lev, uprime_vprime_an, levels_uv, cmap='coolwarm', extend='both')\n",
    "c = ax.contour(lat, lev, uprime_vprime_an, levels_uv, colors='black', linewidths=1)\n",
    "#plt.clabel(c, levels_tz, fmt='%1.2i')\n",
    "cb = fig.colorbar(cf, orientation='horizontal')\n",
    "cb.set_label('$m^2/s^2$', size='small')\n",
    "\n",
    "figname='./figs/eddy_momentum_flux_annual'\n",
    "plt.savefig(figname+'.png',bbox_inches='tight')\n",
    "plt.show()\n",
    "\n",
    "fig = plt.figure(figsize=(12, 12))\n",
    "fig.suptitle(\"$[\\overline{u'v'}]$ : NCEP \"+year1+\"-\"+year2, fontsize=16)\n",
    "\n",
    "ax=fig.add_subplot(211)\n",
    "ax.set_title('DJF', fontsize=14)\n",
    "plot_zonal_mean(ax)\n",
    "cf = ax.contourf(lat, lev, uprime_vprime_season[0,:], levels_uv, cmap='coolwarm', extend='both')\n",
    "c = ax.contour(lat, lev, uprime_vprime_season[0,:], levels_uv, colors='black', linewidths=1)\n",
    "#plt.clabel(c, levels_tz, fmt='%1.2i')\n",
    "cb = fig.colorbar(cf, orientation='horizontal')\n",
    "cb.set_label('$m^2/s^2$', size='small')\n",
    "\n",
    "ax=fig.add_subplot(212)\n",
    "ax.set_title('JJA', fontsize=14)\n",
    "plot_zonal_mean(ax)\n",
    "cf = ax.contourf(lat, lev, uprime_vprime_season[1,:], levels_uv, cmap='coolwarm', extend='both')\n",
    "c = ax.contour(lat, lev, uprime_vprime_season[1,:], levels_uv, colors='black', linewidths=1)\n",
    "#plt.clabel(c, levels_tz, fmt='%1.2i')\n",
    "cb = fig.colorbar(cf, orientation='horizontal')\n",
    "cb.set_label('$m^2/s^2$', size='small')\n",
    "\n",
    "figname='./figs/eddy_momentm_flux_seasonal'\n",
    "plt.savefig(figname+'.png',bbox_inches='tight')\n",
    "plt.show()"
   ]
  },
  {
   "cell_type": "raw",
   "metadata": {},
   "source": [
    "Profil méridien en moyenne zonale et verticale des flux méridiens de qdm."
   ]
  },
  {
   "cell_type": "code",
   "execution_count": null,
   "metadata": {
    "scrolled": false
   },
   "outputs": [],
   "source": [
    "fig = plt.figure(figsize=(15,10))\n",
    "\n",
    "plt.xlabel('Latitude')\n",
    "plt.ylabel('$Transport (m^2/s^2)$')\n",
    "plt.xticks(np.arange(-90, 120, 30), ('90S', '60S', '30S', 'Eq', '30N', '60N', '90N'))\n",
    "plt.title(\"$[\\overline{u'v'}]$ - \"+str(plev1)+\"-\"+str(plev2)+ \"hPa average : NCEP \"+year1+\"-\"+year2)\n",
    "plt.axhline(0, color='black', linestyle=\"--\")\n",
    "plt.axvline(0, color='black', linestyle=\"--\")\n",
    "plt.plot(lat, uprime_vprime_an_vavg, label='Annual')\n",
    "plt.plot(lat, uprime_vprime_season_vavg[0,:], label='DJF')\n",
    "plt.plot(lat, uprime_vprime_season_vavg[1,:], label='JJA')\n",
    "plt.legend()\n",
    "\n",
    "figname='./figs/eddy_momentum_flux_mean'\n",
    "plt.savefig(figname+'.png',bbox_inches='tight')\n",
    "\n",
    "plt.show()"
   ]
  },
  {
   "cell_type": "markdown",
   "metadata": {},
   "source": [
    "<div class=\"alert alert-danger\">\n",
    "\n",
    "    \n",
    "<b>En s'inspirant des codes ci-dessus, calculer et tracer les flux méridiens de chaleur et de quantité de mouvement zonal par les circulations stationnaires non axisymétriques : </b>\n",
    "    \n",
    "$$[\\overline{v^*}\\overline{T^*}], [\\overline{u^*}\\overline{v^*}]$$\n",
    "\n",
    "</div>"
   ]
  },
  {
   "cell_type": "markdown",
   "metadata": {},
   "source": [
    "# Flux méridiens par les circulations stationnaires non axisymétriques"
   ]
  }
 ],
 "metadata": {
  "kernelspec": {
   "display_name": "Python 3",
   "language": "python",
   "name": "python3"
  },
  "language_info": {
   "codemirror_mode": {
    "name": "ipython",
    "version": 3
   },
   "file_extension": ".py",
   "mimetype": "text/x-python",
   "name": "python",
   "nbconvert_exporter": "python",
   "pygments_lexer": "ipython3",
   "version": "3.7.11"
  }
 },
 "nbformat": 4,
 "nbformat_minor": 1
}
