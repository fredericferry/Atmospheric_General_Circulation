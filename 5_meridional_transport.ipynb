{
 "cells": [
  {
   "cell_type": "markdown",
   "metadata": {},
   "source": [
    "# Transports méridiens de chaleur et de quantité de mouvement\n",
    "\n",
    "**Auteur : FERRY Frédéric (DESR/ENM/C3M) - septembre 2021\n",
    "\n",
    "Les fichiers de données au format netcdf (moyennes quotidiennes NCEP/NCAR) doivent être récupérés par FTP (FileZilla) et placés dans le répertoire data :\n",
    "\n",
    "- Température : ftp://ftp.cdc.noaa.gov/Datasets/ncep.reanalysis.dailyavgs/pressure/air.XXXX.nc\n",
    "- Vent zonal : ftp://ftp.cdc.noaa.gov/Datasets/ncep.reanalysis.dailyavgs/pressure/uwnd.XXXX.nc\n",
    "- Vent méridien : ftp://ftp.cdc.noaa.gov/Datasets/ncep.reanalysis.dailyavgs/pressure/vwnd.XXXX.nc\n",
    "\n",
    "Il faut télécharger au moins la période 2000-2005 et ensuite concaténer les fichier netcdf avec les commandes NCO ncrcat ou CDO mergetime :\n",
    "\n",
    "- https://linux.die.net/man/1/ncrcat\n",
    "- https://code.mpimet.mpg.de/projects/cdo/embedded/index.html#x1-930002.2.6\n",
    "\n",
    "--> fichier t.nc, u.nc, v.nc"
   ]
  },
  {
   "cell_type": "markdown",
   "metadata": {},
   "source": [
    "<div class=\"alert alert-warning\">\n",
    "\n",
    "<b>Transports méridiens de chaleur et de quantité de mouvement zonal total : </b>\n",
    "$$[\\overline{vT}], [\\overline{uv}]$$    \n",
    "    \n",
    "<br>\n",
    "\n",
    "<b>Transports méridiens de chaleur et de quantité de mouvement zonal par les perturbations transitoires : </b>\n",
    "$$[\\overline{u'v'}], [\\overline{v'T'}]$$\n",
    "\n",
    "<br>\n",
    "    \n",
    "<b>Transports méridiens de chaleur et de quantité de mouvement zonal par les circulations stationnaires non axisymétriques : </b>\n",
    "$$[\\overline{v^*}\\overline{T^*}], [\\overline{u^*}\\overline{v^*}]$$\n",
    "\n",
    "<br>\n",
    "\n",
    "<b>Transports méridiens de chaleur et de quantité de mouvement zonal par la circulation en moyenne zonale : </b>\n",
    "$$\\overline{[v]} \\overline{[T]}, \\overline{[u]} \\overline{[v]}$$\n",
    "        \n",
    "</div>"
   ]
  },
  {
   "cell_type": "code",
   "execution_count": null,
   "metadata": {},
   "outputs": [],
   "source": [
    "%matplotlib inline\n",
    "\n",
    "import os\n",
    "import xarray as xr\n",
    "import numpy as np\n",
    "import matplotlib.pyplot as plt\n",
    "\n",
    "from netCDF4 import Dataset\n",
    "import h5py"
   ]
  },
  {
   "cell_type": "raw",
   "metadata": {},
   "source": [
    "Fonction pour les coupes verticales-méridiennes en moyenne zonale."
   ]
  },
  {
   "cell_type": "code",
   "execution_count": null,
   "metadata": {
    "scrolled": false
   },
   "outputs": [],
   "source": [
    "def plot_zonal_mean(ax):\n",
    "    ax.set_yscale('symlog')\n",
    "    ax.set_yticklabels(np.arange(1000, 0, -100))\n",
    "    ax.set_ylim(1000, 100)\n",
    "    ax.set_yticks(np.arange(1000, 0, -100))  \n",
    "    ax.set_xticklabels(np.arange(-90, 100, 10))\n",
    "    ax.set_xticks(np.arange(-90, 100, 10)) \n",
    "    return ax"
   ]
  },
  {
   "cell_type": "markdown",
   "metadata": {},
   "source": [
    "# Traitement des données"
   ]
  },
  {
   "cell_type": "raw",
   "metadata": {},
   "source": [
    "Choix des années pour les calculs de climatologies."
   ]
  },
  {
   "cell_type": "code",
   "execution_count": null,
   "metadata": {},
   "outputs": [],
   "source": [
    "year1='2015'\n",
    "year2='2020'\n",
    "seasons=['DJF','JJA','MAM','SON']\n",
    "plev1=1000\n",
    "plev2=100\n",
    "iplev1 = list(lev).index(plev1)\n",
    "iplev2 = list(lev).index(plev2)"
   ]
  },
  {
   "cell_type": "raw",
   "metadata": {},
   "source": [
    "Lecture des données."
   ]
  },
  {
   "cell_type": "code",
   "execution_count": null,
   "metadata": {
    "scrolled": false
   },
   "outputs": [],
   "source": [
    "diri=\"./daily_ncep/\"\n",
    "\n",
    "ft    = xr.open_dataset(diri+\"t.nc\").sel(time=slice(year1,year2)).sel(level=slice(plev1,plev2))\n",
    "fu    = xr.open_dataset(diri+\"u.nc\").sel(time=slice(year1,year2)).sel(level=slice(plev1,plev2))\n",
    "fv    = xr.open_dataset(diri+\"v.nc\").sel(time=slice(year1,year2)).sel(level=slice(plev1,plev2))\n",
    "\n",
    "lat  = fv.lat.values\n",
    "lon  = fv.lon.values\n",
    "lev = fv.level.values\n",
    "\n",
    "print(fv)\n",
    "print(lev)\n",
    "\n",
    "u = fu['uwnd']\n",
    "v = fv['vwnd']\n",
    "T = ft['air']"
   ]
  },
  {
   "cell_type": "markdown",
   "metadata": {},
   "source": [
    "# Fonctions pour les moyennes et les anomalies"
   ]
  },
  {
   "cell_type": "markdown",
   "metadata": {},
   "source": [
    "Moyenne temporelle : $$ \\overline{\\alpha} = \\frac{1}{T} \\int_0^T \\alpha dt $$\n",
    "\n",
    "Moyenne zonale : $$ \\left[ \\alpha \\right] = \\frac{1}{2\\pi} \\int_0^{2\\pi} \\alpha d\\lambda $$\n",
    "\n",
    "Anomalie temporelle : $$ \\alpha^\\prime = \\alpha - \\overline{\\alpha} $$\n",
    "\n",
    "Anomalie zonale : $$ \\alpha^* = \\alpha - \\left[ \\alpha \\right] $$"
   ]
  },
  {
   "cell_type": "code",
   "execution_count": null,
   "metadata": {
    "scrolled": false
   },
   "outputs": [],
   "source": [
    "def bar(data, interval=fu.time.dt.season):\n",
    "    return data.groupby(interval).mean(skipna=True)\n",
    "\n",
    "def bracket(data):\n",
    "    return data.mean(dim='lon', skipna=True)\n",
    "\n",
    "def prime(data, interval=fu.time.dt.season):\n",
    "    return data.groupby(interval) - bar(data, interval=interval)\n",
    "\n",
    "def star(data):\n",
    "    return data - bracket(data)\n",
    "\n",
    "def global_mean(data):\n",
    "    return data.weighted(np.cos(np.deg2rad(data.lat))).mean(dim=('lat','lon'), skipna=True)"
   ]
  },
  {
   "cell_type": "markdown",
   "metadata": {},
   "source": [
    "# Flux méridiens de chaleur et de qdm zonal"
   ]
  },
  {
   "cell_type": "markdown",
   "metadata": {},
   "source": [
    "<div class=\"alert alert-danger\">\n",
    "  \n",
    "<b>Calculer les flux méridiens de chaleur et de quantité de mouvement zonal : </b>\n",
    "    \n",
    "<br>\n",
    "\n",
    "Transports méridiens de chaleur et de quantité de mouvement zonal total :\n",
    "$$[\\overline{vT}], [\\overline{uv}]$$\n",
    "    \n",
    "<br>\n",
    "\n",
    "Transports méridiens de chaleur et de quantité de mouvement zonal par les perturbations transitoires :\n",
    "$$[\\overline{u'v'}], [\\overline{v'T'}]$$\n",
    "\n",
    "<br>\n",
    "    \n",
    "Transports méridiens de chaleur et de quantité de mouvement zonal par les circulations stationnaires non axisymétriques :\n",
    "$$[\\overline{v^*}\\overline{T^*}], [\\overline{u^*}\\overline{v^*}]$$\n",
    "\n",
    "<br>\n",
    "    \n",
    "Transports méridiens de chaleur et de quantité de mouvement zonal par la circulation en moyenne zonale :\n",
    "$$\\overline{[v]} \\overline{[T]}, \\overline{[u]} \\overline{[v]}$$\n",
    "    \n",
    "</div>"
   ]
  },
  {
   "cell_type": "code",
   "execution_count": null,
   "metadata": {
    "scrolled": false
   },
   "outputs": [],
   "source": [
    "vT = bracket(bar(v*T))\n",
    "vT_transient = bracket(bar(prime(v)*prime(T)))\n",
    "vT_stationary = bracket(star(bar(v)) * star(bar(T)))\n",
    "#vT_mmc = bracket(bar(v)) * bracket(bar(T) - global_mean(bar(T)))\n",
    "vT_mmc = bracket(bar(v)) * bracket(bar(T))\n",
    "\n",
    "uv = bracket(bar(u*v))\n",
    "uv_transient = bracket(bar(prime(u)*prime(v)))\n",
    "uv_stationary = bracket(star(bar(u)) * star(bar(v)))\n",
    "#uv_mmc = bracket(bar(v)) * bracket(bar(u) - global_mean(bar(u)))\n",
    "uv_mmc = bracket(bar(v)) * bracket(bar(u))\n",
    "\n",
    "print(vT_transient.shape)"
   ]
  },
  {
   "cell_type": "raw",
   "metadata": {},
   "source": [
    "On multiplie les flux par les cosinus de la latitude pour éviter les fortes valeurs aux pôles"
   ]
  },
  {
   "cell_type": "code",
   "execution_count": null,
   "metadata": {
    "scrolled": false
   },
   "outputs": [],
   "source": [
    "scale=np.cos(lat[np.newaxis,np.newaxis,:]*np.pi/180.)\n",
    "vT=vT*scale\n",
    "vT_transient=vT_transient*scale\n",
    "vT_stationary=vT_stationary*scale\n",
    "vT_mmc=vT_mmc*scale\n",
    "uv=uv*scale\n",
    "uv_transient=uv_transient*scale\n",
    "uv_stationary=uv_stationary*scale\n",
    "uv_mmc=uv_mmc*scale"
   ]
  },
  {
   "cell_type": "markdown",
   "metadata": {},
   "source": [
    "# Flux méridiens par les transitoires"
   ]
  },
  {
   "cell_type": "raw",
   "metadata": {},
   "source": [
    "Coupe verticale-méridienne en moyenne zonale des flux méridiens de chaleur."
   ]
  },
  {
   "cell_type": "code",
   "execution_count": null,
   "metadata": {
    "scrolled": false
   },
   "outputs": [],
   "source": [
    "levels_vT = np.arange(-15,17,2)\n",
    "levels_vT = np.arange(-7,8,1)\n",
    "\n",
    "fig = plt.figure(figsize=(12, 12))\n",
    "fig.suptitle(\"$[\\overline{v'T'}]$ : NCEP \"+year1+\"-\"+year2, fontsize=16)\n",
    "ax=fig.add_subplot(111)\n",
    "plot_zonal_mean(ax)\n",
    "cf = ax.contourf(lat, lev, vT_transient.mean('season'), levels_vT, cmap='coolwarm', extend='both')\n",
    "c = ax.contour(lat, lev, vT_transient.mean('season'), levels_vT, colors='black', linewidths=1)\n",
    "#plt.clabel(c, levels_tz, fmt='%1.2i')\n",
    "cb = fig.colorbar(cf, orientation='horizontal')\n",
    "cb.set_label('Km/s', size='small')\n",
    "\n",
    "figname='./figs/eddy_heat_flux_annual'\n",
    "plt.savefig(figname+'.png',bbox_inches='tight')\n",
    "plt.show()\n",
    "\n",
    "fig = plt.figure(figsize=(12, 12))\n",
    "fig.suptitle(\"$[\\overline{v'T'}]$ : NCEP \"+year1+\"-\"+year2, fontsize=16)\n",
    "\n",
    "ax=fig.add_subplot(211)\n",
    "ax.set_title('DJF', fontsize=14)\n",
    "plot_zonal_mean(ax)\n",
    "cf = ax.contourf(lat, lev, vT_transient[0,:,:], levels_vT, cmap='coolwarm', extend='both')\n",
    "c = ax.contour(lat, lev, vT_transient[0,:,:], levels_vT, colors='black', linewidths=1)\n",
    "#plt.clabel(c, levels_tz, fmt='%1.2i')\n",
    "cb = fig.colorbar(cf, orientation='horizontal')\n",
    "cb.set_label('Km/s', size='small')\n",
    "\n",
    "ax=fig.add_subplot(212)\n",
    "ax.set_title('JJA', fontsize=14)\n",
    "plot_zonal_mean(ax)\n",
    "cf = ax.contourf(lat, lev, vT_transient[1,:], levels_vT, cmap='coolwarm', extend='both')\n",
    "c = ax.contour(lat, lev, vT_transient[1,:], levels_vT, colors='black', linewidths=1)\n",
    "#plt.clabel(c, levels_tz, fmt='%1.2i')\n",
    "cb = fig.colorbar(cf, orientation='horizontal')\n",
    "cb.set_label('Km/s', size='small')\n",
    "\n",
    "figname='./figs/eddy_heat_flux_seasonal'\n",
    "plt.savefig(figname+'.png',bbox_inches='tight')\n",
    "plt.show()"
   ]
  },
  {
   "cell_type": "raw",
   "metadata": {},
   "source": [
    "Profil méridien en moyenne zonale et verticale des flux méridiens de chaleur."
   ]
  },
  {
   "cell_type": "code",
   "execution_count": null,
   "metadata": {
    "scrolled": false
   },
   "outputs": [],
   "source": [
    "fig = plt.figure(figsize=(15,10))\n",
    "\n",
    "plt.xlabel('Latitude')\n",
    "plt.ylabel('Transport (K m/s)')\n",
    "plt.xticks(np.arange(-90, 120, 30), ('90S', '60S', '30S', 'Eq', '30N', '60N', '90N'))\n",
    "plt.title(\"$[\\overline{v'T'}]$ - \"+str(plev1)+\"-\"+str(plev2)+ \"hPa average : NCEP \"+year1+\"-\"+year2)\n",
    "plt.axhline(0, color='black', linestyle=\"--\")\n",
    "plt.axvline(0, color='black', linestyle=\"--\")\n",
    "plt.plot(lat, vT_transient.mean('season').mean('level'), label='Annual')\n",
    "plt.plot(lat, vT_transient[0,:].mean('level'), label='DJF')\n",
    "plt.plot(lat, vT_transient[1,:].mean('level'), label='JJA')\n",
    "plt.legend()\n",
    "\n",
    "figname='./figs/eddy_heat_mean'\n",
    "plt.savefig(figname+'.png',bbox_inches='tight')\n",
    "plt.show()"
   ]
  },
  {
   "cell_type": "raw",
   "metadata": {},
   "source": [
    "Coupe verticale-méridienne en moyenne zonale des flux méridiens de qdm."
   ]
  },
  {
   "cell_type": "code",
   "execution_count": null,
   "metadata": {
    "scrolled": false
   },
   "outputs": [],
   "source": [
    "levels_uv = np.arange(-50,55,5)\n",
    "levels_uv = np.arange(-24,26,2)\n",
    "\n",
    "fig = plt.figure(figsize=(12, 12))\n",
    "fig.suptitle(\"$[\\overline{u'v'}]$ : NCEP \"+year1+\"-\"+year2, fontsize=16)\n",
    "ax=fig.add_subplot(111)\n",
    "plot_zonal_mean(ax)\n",
    "cf = ax.contourf(lat, lev, uv_transient.mean('season'), levels_uv, cmap='coolwarm', extend='both')\n",
    "c = ax.contour(lat, lev, uv_transient.mean('season'), levels_uv, colors='black', linewidths=1)\n",
    "#plt.clabel(c, levels_tz, fmt='%1.2i')\n",
    "cb = fig.colorbar(cf, orientation='horizontal')\n",
    "cb.set_label('$m^2/s^2$', size='small')\n",
    "\n",
    "fig = plt.figure(figsize=(12, 12))\n",
    "fig.suptitle(\"$[\\overline{u'v'}]$ : NCEP \"+year1+\"-\"+year2, fontsize=16)\n",
    "\n",
    "ax=fig.add_subplot(211)\n",
    "ax.set_title('DJF', fontsize=14)\n",
    "plot_zonal_mean(ax)\n",
    "cf = ax.contourf(lat, lev, uv_transient[0,:,:], levels_uv, cmap='coolwarm', extend='both')\n",
    "c = ax.contour(lat, lev, uv_transient[0,:], levels_uv, colors='black', linewidths=1)\n",
    "#plt.clabel(c, levels_tz, fmt='%1.2i')\n",
    "cb = fig.colorbar(cf, orientation='horizontal')\n",
    "cb.set_label('$m^2/s^2$', size='small')\n",
    "\n",
    "ax=fig.add_subplot(212)\n",
    "ax.set_title('JJA', fontsize=14)\n",
    "plot_zonal_mean(ax)\n",
    "cf = ax.contourf(lat, lev, uv_transient[1,:,:], levels_uv, cmap='coolwarm', extend='both')\n",
    "c = ax.contour(lat, lev, uv_transient[1,:,:], levels_uv, colors='black', linewidths=1)\n",
    "#plt.clabel(c, levels_tz, fmt='%1.2i')\n",
    "cb = fig.colorbar(cf, orientation='horizontal')\n",
    "cb.set_label('$m^2/s^2$', size='small')\n",
    "\n",
    "figname='./figs/eddy_momentum_flux_seasonal'\n",
    "plt.savefig(figname+'.png',bbox_inches='tight')\n",
    "plt.show()"
   ]
  },
  {
   "cell_type": "raw",
   "metadata": {},
   "source": [
    "Profil méridien en moyenne zonale et verticale des flux méridiens de qdm."
   ]
  },
  {
   "cell_type": "code",
   "execution_count": null,
   "metadata": {
    "scrolled": false
   },
   "outputs": [],
   "source": [
    "fig = plt.figure(figsize=(15,10))\n",
    "\n",
    "plt.xlabel('Latitude')\n",
    "plt.ylabel('Transport ($m^2/s^2$)')\n",
    "plt.xticks(np.arange(-90, 120, 30), ('90S', '60S', '30S', 'Eq', '30N', '60N', '90N'))\n",
    "plt.title(\"$[\\overline{u'v'}]$ - \"+str(plev1)+\"-\"+str(plev2)+ \"hPa average : NCEP \"+year1+\"-\"+year2)\n",
    "plt.axhline(0, color='black', linestyle=\"--\")\n",
    "plt.axvline(0, color='black', linestyle=\"--\")\n",
    "plt.plot(lat, uv_transient.mean('season').mean('level'), label='Annual')\n",
    "plt.plot(lat, uv_transient[0,:].mean('level'), label='DJF')\n",
    "plt.plot(lat, uv_transient[1,:].mean('level'), label='JJA')\n",
    "plt.legend()\n",
    "\n",
    "figname='./figs/eddy_momentum_mean'\n",
    "plt.savefig(figname+'.png',bbox_inches='tight')\n",
    "plt.show()"
   ]
  },
  {
   "cell_type": "markdown",
   "metadata": {},
   "source": [
    "# Flux méridiens par les circulations stationnaires non axisymétriques"
   ]
  },
  {
   "cell_type": "raw",
   "metadata": {},
   "source": [
    "Coupe verticale-méridienne en moyenne zonale des flux méridiens de chaleur."
   ]
  },
  {
   "cell_type": "code",
   "execution_count": null,
   "metadata": {
    "scrolled": false
   },
   "outputs": [],
   "source": [
    "levels_vT = np.arange(-15,17,2)\n",
    "levels_vT = np.arange(-7,8,1)\n",
    "\n",
    "fig = plt.figure(figsize=(12, 12))\n",
    "fig.suptitle(\"$[\\overline{v^*}\\overline{T^*}]$ : NCEP \"+year1+\"-\"+year2, fontsize=16)\n",
    "ax=fig.add_subplot(111)\n",
    "plot_zonal_mean(ax)\n",
    "cf = ax.contourf(lat, lev, vT_stationary.mean('season'), levels_vT, cmap='coolwarm', extend='both')\n",
    "c = ax.contour(lat, lev, vT_stationary.mean('season'), levels_vT, colors='black', linewidths=1)\n",
    "#plt.clabel(c, levels_tz, fmt='%1.2i')\n",
    "cb = fig.colorbar(cf, orientation='horizontal')\n",
    "cb.set_label('Km/s', size='small')\n",
    "\n",
    "figname='./figs/eddy_heat_flux_annual'\n",
    "plt.savefig(figname+'.png',bbox_inches='tight')\n",
    "plt.show()\n",
    "\n",
    "fig = plt.figure(figsize=(12, 12))\n",
    "fig.suptitle(\"$[\\overline{v^*}\\overline{T^*}]$ : NCEP \"+year1+\"-\"+year2, fontsize=16)\n",
    "\n",
    "ax=fig.add_subplot(211)\n",
    "ax.set_title('DJF', fontsize=14)\n",
    "plot_zonal_mean(ax)\n",
    "cf = ax.contourf(lat, lev, vT_stationary[0,:,:], levels_vT, cmap='coolwarm', extend='both')\n",
    "c = ax.contour(lat, lev, vT_stationary[0,:,:], levels_vT, colors='black', linewidths=1)\n",
    "#plt.clabel(c, levels_tz, fmt='%1.2i')\n",
    "cb = fig.colorbar(cf, orientation='horizontal')\n",
    "cb.set_label('Km/s', size='small')\n",
    "\n",
    "ax=fig.add_subplot(212)\n",
    "ax.set_title('JJA', fontsize=14)\n",
    "plot_zonal_mean(ax)\n",
    "cf = ax.contourf(lat, lev, vT_stationary[1,:], levels_vT, cmap='coolwarm', extend='both')\n",
    "c = ax.contour(lat, lev, vT_stationary[1,:], levels_vT, colors='black', linewidths=1)\n",
    "#plt.clabel(c, levels_tz, fmt='%1.2i')\n",
    "cb = fig.colorbar(cf, orientation='horizontal')\n",
    "cb.set_label('Km/s', size='small')\n",
    "\n",
    "figname='./figs/stat_heat_flux_seasonal'\n",
    "plt.savefig(figname+'.png',bbox_inches='tight')\n",
    "plt.show()"
   ]
  },
  {
   "cell_type": "raw",
   "metadata": {},
   "source": [
    "Profil méridien en moyenne zonale et verticale des flux méridiens de chaleur."
   ]
  },
  {
   "cell_type": "code",
   "execution_count": null,
   "metadata": {
    "scrolled": false
   },
   "outputs": [],
   "source": [
    "fig = plt.figure(figsize=(15,10))\n",
    "\n",
    "plt.xlabel('Latitude')\n",
    "plt.ylabel('Transport (K m/s)')\n",
    "plt.xticks(np.arange(-90, 120, 30), ('90S', '60S', '30S', 'Eq', '30N', '60N', '90N'))\n",
    "plt.title(\"$[\\overline{v^*}\\overline{T^*}]$ - \"+str(plev1)+\"-\"+str(plev2)+ \"hPa average : NCEP \"+year1+\"-\"+year2)\n",
    "plt.axhline(0, color='black', linestyle=\"--\")\n",
    "plt.axvline(0, color='black', linestyle=\"--\")\n",
    "plt.plot(lat, vT_stationary.mean('season').mean('level'), label='Annual')\n",
    "plt.plot(lat, vT_stationary[0,:].mean('level'), label='DJF')\n",
    "plt.plot(lat, vT_stationary[1,:].mean('level'), label='JJA')\n",
    "plt.legend()\n",
    "\n",
    "figname='./figs/stat_heat_mean'\n",
    "plt.savefig(figname+'.png',bbox_inches='tight')\n",
    "plt.show()"
   ]
  },
  {
   "cell_type": "raw",
   "metadata": {},
   "source": [
    "Coupe verticale-méridienne en moyenne zonale des flux méridiens de qdm."
   ]
  },
  {
   "cell_type": "code",
   "execution_count": null,
   "metadata": {
    "scrolled": false
   },
   "outputs": [],
   "source": [
    "levels_uv = np.arange(-50,55,5)\n",
    "levels_uv = np.arange(-24,26,2)\n",
    "\n",
    "fig = plt.figure(figsize=(12, 12))\n",
    "fig.suptitle(\"$[\\overline{u^*}\\overline{v^*}]$ : NCEP \"+year1+\"-\"+year2, fontsize=16)\n",
    "ax=fig.add_subplot(111)\n",
    "plot_zonal_mean(ax)\n",
    "cf = ax.contourf(lat, lev, uv_stationary.mean('season'), levels_uv, cmap='coolwarm', extend='both')\n",
    "c = ax.contour(lat, lev, uv_stationary.mean('season'), levels_uv, colors='black', linewidths=1)\n",
    "#plt.clabel(c, levels_tz, fmt='%1.2i')\n",
    "cb = fig.colorbar(cf, orientation='horizontal')\n",
    "cb.set_label('$m^2/s^2$', size='small')\n",
    "\n",
    "figname='./figs/eddy_momentum_flux_annual'\n",
    "plt.savefig(figname+'.png',bbox_inches='tight')\n",
    "plt.show()\n",
    "\n",
    "fig = plt.figure(figsize=(12, 12))\n",
    "fig.suptitle(\"$[\\overline{u^*}\\overline{v^*}]$ : NCEP \"+year1+\"-\"+year2, fontsize=16)\n",
    "\n",
    "ax=fig.add_subplot(211)\n",
    "ax.set_title('DJF', fontsize=14)\n",
    "plot_zonal_mean(ax)\n",
    "cf = ax.contourf(lat, lev, uv_stationary[0,:,:], levels_uv, cmap='coolwarm', extend='both')\n",
    "c = ax.contour(lat, lev, uv_stationary[0,:], levels_uv, colors='black', linewidths=1)\n",
    "#plt.clabel(c, levels_tz, fmt='%1.2i')\n",
    "cb = fig.colorbar(cf, orientation='horizontal')\n",
    "cb.set_label('$m^2/s^2$', size='small')\n",
    "\n",
    "ax=fig.add_subplot(212)\n",
    "ax.set_title('JJA', fontsize=14)\n",
    "plot_zonal_mean(ax)\n",
    "cf = ax.contourf(lat, lev, uv_stationary[1,:,:], levels_uv, cmap='coolwarm', extend='both')\n",
    "c = ax.contour(lat, lev, uv_stationary[1,:,:], levels_uv, colors='black', linewidths=1)\n",
    "#plt.clabel(c, levels_tz, fmt='%1.2i')\n",
    "cb = fig.colorbar(cf, orientation='horizontal')\n",
    "cb.set_label('$m^2/s^2$', size='small')\n",
    "\n",
    "figname='./figs/stat_momentum_flux_seasonal'\n",
    "plt.savefig(figname+'.png',bbox_inches='tight')\n",
    "plt.show()"
   ]
  },
  {
   "cell_type": "raw",
   "metadata": {},
   "source": [
    "Profil méridien en moyenne zonale et verticale des flux méridiens de qdm par les stationnaires non axisymétriques."
   ]
  },
  {
   "cell_type": "code",
   "execution_count": null,
   "metadata": {
    "scrolled": false
   },
   "outputs": [],
   "source": [
    "fig = plt.figure(figsize=(15,10))\n",
    "\n",
    "plt.xlabel('Latitude')\n",
    "plt.ylabel('$Transport (m^2/s^2)$')\n",
    "plt.xticks(np.arange(-90, 120, 30), ('90S', '60S', '30S', 'Eq', '30N', '60N', '90N'))\n",
    "plt.title(\"$[\\overline{u^*}\\overline{v^*}]$ - \"+str(plev1)+\"-\"+str(plev2)+ \"hPa average : NCEP \"+year1+\"-\"+year2)\n",
    "plt.axhline(0, color='black', linestyle=\"--\")\n",
    "plt.axvline(0, color='black', linestyle=\"--\")\n",
    "plt.plot(lat, uv_stationary.mean('season').mean('level'), label='Annual')\n",
    "plt.plot(lat, uv_stationary[0,:].mean('level'), label='DJF')\n",
    "plt.plot(lat, uv_stationary[1,:].mean('level'), label='JJA')\n",
    "plt.legend()\n",
    "\n",
    "figname='./figs/stat_momentum_flux_mean'\n",
    "plt.savefig(figname+'.png',bbox_inches='tight')\n",
    "\n",
    "plt.show()"
   ]
  },
  {
   "cell_type": "markdown",
   "metadata": {},
   "source": [
    "# Flux méridiens par les circulations stationnaires axisymétriques"
   ]
  },
  {
   "cell_type": "markdown",
   "metadata": {},
   "source": [
    "$$\\overline{[v]} \\overline{[T]}, \\overline{[u]} \\overline{[v]}$$"
   ]
  },
  {
   "cell_type": "raw",
   "metadata": {},
   "source": [
    "Coupe verticale-méridienne en moyenne zonale des flux méridiens de chaleur."
   ]
  },
  {
   "cell_type": "code",
   "execution_count": null,
   "metadata": {
    "scrolled": false
   },
   "outputs": [],
   "source": [
    "levels_vT = np.arange(-600,700,100)\n",
    "\n",
    "fig = plt.figure(figsize=(12, 12))\n",
    "fig.suptitle(\"$\\overline{[v]} \\overline{[T]}$ : NCEP \"+year1+\"-\"+year2, fontsize=16)\n",
    "ax=fig.add_subplot(111)\n",
    "plot_zonal_mean(ax)\n",
    "cf = ax.contourf(lat, lev, vT_mmc.mean('season'), levels_vT, cmap='coolwarm', extend='both')\n",
    "c = ax.contour(lat, lev, vT_mmc.mean('season'), levels_vT, colors='black', linewidths=1)\n",
    "#plt.clabel(c, levels_tz, fmt='%1.2i')\n",
    " \n",
    "cb = fig.colorbar(cf, orientation='horizontal')\n",
    "cb.set_label('Km/s', size='small')\n",
    "\n",
    "figname='./figs/zmean_heat_flux_annual'\n",
    "plt.savefig(figname+'.png',bbox_inches='tight')\n",
    "\n",
    "fig = plt.figure(figsize=(12, 12))\n",
    "fig.suptitle(\"$\\overline{[v]} \\overline{[T]}$ : NCEP \"+year1+\"-\"+year2, fontsize=16)\n",
    "\n",
    "ax=fig.add_subplot(211)\n",
    "ax.set_title('DJF', fontsize=14)\n",
    "plot_zonal_mean(ax)\n",
    "cf = ax.contourf(lat, lev, vT_mmc[0,:,:], levels_vT, cmap='coolwarm', extend='both')\n",
    "c = ax.contour(lat, lev, vT_mmc[0,:,:], levels_vT, colors='black', linewidths=1)\n",
    "#plt.clabel(c, levels_tz, fmt='%1.2i')\n",
    "cb = fig.colorbar(cf, orientation='horizontal')\n",
    "cb.set_label('Km/s', size='small')\n",
    "\n",
    "ax=fig.add_subplot(212)\n",
    "ax.set_title('JJA', fontsize=14)\n",
    "plot_zonal_mean(ax)\n",
    "cf = ax.contourf(lat, lev, vT_mmc[1,:], levels_vT, cmap='coolwarm', extend='both')\n",
    "c = ax.contour(lat, lev, vT_mmc[1,:], levels_vT, colors='black', linewidths=1)\n",
    "#plt.clabel(c, levels_tz, fmt='%1.2i')\n",
    "cb = fig.colorbar(cf, orientation='horizontal')\n",
    "cb.set_label('Km/s', size='small')\n",
    "\n",
    "figname='./figs/zmean_heat_flux_seasonal'\n",
    "plt.savefig(figname+'.png',bbox_inches='tight')\n",
    "plt.show()"
   ]
  },
  {
   "cell_type": "raw",
   "metadata": {},
   "source": [
    "Profil méridien en moyenne zonale et verticale des flux méridiens de chaleur."
   ]
  },
  {
   "cell_type": "code",
   "execution_count": null,
   "metadata": {
    "scrolled": false
   },
   "outputs": [],
   "source": [
    "fig = plt.figure(figsize=(15,10))\n",
    "\n",
    "plt.xlabel('Latitude')\n",
    "plt.ylabel('Transport (K m/s)')\n",
    "plt.xticks(np.arange(-90, 120, 30), ('90S', '60S', '30S', 'Eq', '30N', '60N', '90N'))\n",
    "plt.title(\"$\\overline{[v]} \\overline{[T]}$ - \"+str(plev1)+\"-\"+str(plev2)+ \"hPa average : NCEP \"+year1+\"-\"+year2)\n",
    "plt.axhline(0, color='black', linestyle=\"--\")\n",
    "plt.axvline(0, color='black', linestyle=\"--\")\n",
    "plt.plot(lat, vT_mmc.mean('season').mean('level'), label='Annual')\n",
    "plt.plot(lat, vT_mmc[0,:].mean('level'), label='DJF')\n",
    "plt.plot(lat, vT_mmc[1,:].mean('level'), label='JJA')\n",
    "plt.legend()\n",
    "\n",
    "figname='./figs/zmean_heat_mean'\n",
    "plt.savefig(figname+'.png',bbox_inches='tight')\n",
    "plt.show()"
   ]
  },
  {
   "cell_type": "raw",
   "metadata": {},
   "source": [
    "Coupe verticale-méridienne en moyenne zonale des flux méridiens de qdm."
   ]
  },
  {
   "cell_type": "code",
   "execution_count": null,
   "metadata": {
    "scrolled": false
   },
   "outputs": [],
   "source": [
    "levels_uv = np.arange(-50,55,5)\n",
    "levels_uv = np.arange(-24,26,2)\n",
    "\n",
    "fig = plt.figure(figsize=(12, 12))\n",
    "fig.suptitle(\"$\\overline{[u]} \\overline{[v]}$ : NCEP \"+year1+\"-\"+year2, fontsize=16)\n",
    "ax=fig.add_subplot(111)\n",
    "plot_zonal_mean(ax)\n",
    "cf = ax.contourf(lat, lev, uv_mmc.mean('season'), levels_uv, cmap='coolwarm', extend='both')\n",
    "c = ax.contour(lat, lev, uv_mmc.mean('season'), levels_uv, colors='black', linewidths=1)\n",
    "#plt.clabel(c, levels_tz, fmt='%1.2i')\n",
    " \n",
    "cb = fig.colorbar(cf, orientation='horizontal')\n",
    "cb.set_label('Km/s', size='small')\n",
    "\n",
    "figname='./figs/zmean_momentum_flux_annual'\n",
    "plt.savefig(figname+'.png',bbox_inches='tight')\n",
    "\n",
    "fig = plt.figure(figsize=(12, 12))\n",
    "fig.suptitle(\"$\\overline{[u]} \\overline{[v]}$ : NCEP \"+year1+\"-\"+year2, fontsize=16)\n",
    "\n",
    "ax=fig.add_subplot(211)\n",
    "ax.set_title('DJF', fontsize=14)\n",
    "plot_zonal_mean(ax)\n",
    "cf = ax.contourf(lat, lev, uv_mmc[0,:,:], levels_uv, cmap='coolwarm', extend='both')\n",
    "c = ax.contour(lat, lev, uv_mmc[0,:], levels_uv, colors='black', linewidths=1)\n",
    "#plt.clabel(c, levels_tz, fmt='%1.2i')\n",
    "cb = fig.colorbar(cf, orientation='horizontal')\n",
    "cb.set_label('$m^2/s^2$', size='small')\n",
    "\n",
    "ax=fig.add_subplot(212)\n",
    "ax.set_title('JJA', fontsize=14)\n",
    "plot_zonal_mean(ax)\n",
    "cf = ax.contourf(lat, lev, uv_mmc[1,:,:], levels_uv, cmap='coolwarm', extend='both')\n",
    "c = ax.contour(lat, lev, uv_mmc[1,:,:], levels_uv, colors='black', linewidths=1)\n",
    "#plt.clabel(c, levels_tz, fmt='%1.2i')\n",
    "cb = fig.colorbar(cf, orientation='horizontal')\n",
    "cb.set_label('$m^2/s^2$', size='small')\n",
    "\n",
    "figname='./figs/zmean_momentum_flux_seasonal'\n",
    "plt.savefig(figname+'.png',bbox_inches='tight')\n",
    "plt.show()"
   ]
  },
  {
   "cell_type": "raw",
   "metadata": {},
   "source": [
    "Profil méridien en moyenne zonale et verticale des flux de qdm par les circulations stationnaires axisymétriques."
   ]
  },
  {
   "cell_type": "code",
   "execution_count": null,
   "metadata": {
    "scrolled": false
   },
   "outputs": [],
   "source": [
    "fig = plt.figure(figsize=(15,10))\n",
    "\n",
    "plt.xlabel('Latitude')\n",
    "plt.ylabel('$Transport (m^2/s^2)$')\n",
    "plt.xticks(np.arange(-90, 120, 30), ('90S', '60S', '30S', 'Eq', '30N', '60N', '90N'))\n",
    "plt.title(\"$\\overline{[u]} \\overline{[v]}$ - \"+str(plev1)+\"-\"+str(plev2)+ \"hPa average : NCEP \"+year1+\"-\"+year2)\n",
    "plt.axhline(0, color='black', linestyle=\"--\")\n",
    "plt.axvline(0, color='black', linestyle=\"--\")\n",
    "plt.plot(lat, uv_mmc.mean('season').mean('level'), label='Annual')\n",
    "plt.plot(lat, uv_mmc[0,:].mean('level'), label='DJF')\n",
    "plt.plot(lat, uv_mmc[1,:].mean('level'), label='JJA')\n",
    "\n",
    "plt.legend()\n",
    "\n",
    "figname='./figs/zmean_momentum_flux'\n",
    "plt.savefig(figname+'.png',bbox_inches='tight')\n",
    "\n",
    "plt.show()"
   ]
  },
  {
   "cell_type": "code",
   "execution_count": null,
   "metadata": {},
   "outputs": [],
   "source": []
  }
 ],
 "metadata": {
  "kernelspec": {
   "display_name": "Python 3",
   "language": "python",
   "name": "python3"
  },
  "language_info": {
   "codemirror_mode": {
    "name": "ipython",
    "version": 3
   },
   "file_extension": ".py",
   "mimetype": "text/x-python",
   "name": "python",
   "nbconvert_exporter": "python",
   "pygments_lexer": "ipython3",
   "version": "3.7.11"
  }
 },
 "nbformat": 4,
 "nbformat_minor": 1
}
