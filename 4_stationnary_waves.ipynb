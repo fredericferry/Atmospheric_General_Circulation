{
 "cells": [
  {
   "cell_type": "markdown",
   "metadata": {},
   "source": [
    "# Ecart stationnaire à la moyenne zonale\n",
    "\n",
    "**Auteur : FERRY Frédéric (DESR/ENM/C3M) - septembre 2021\n",
    "\n",
    "Les fichiers de données au format netcdf (moyennes mensuelles NCEP) doivent être récupérés par FTP (FileZilla) et placés dans le répertoire data :\n",
    "\n",
    "Hauteur géopotentielle, vent zonal, vent méridien :\n",
    "- ftp://ftp.cdc.noaa.gov/Datasets/ncep.reanalysis.derived/pressure/hgt.mon.mean.nc\n",
    "- ftp://ftp.cdc.noaa.gov/Datasets/ncep.reanalysis.derived/pressure/uwnd.mon.mean.nc\n",
    "- ftp://ftp.cdc.noaa.gov/Datasets/ncep.reanalysis.derived/pressure/vwnd.mon.mean.nc"
   ]
  },
  {
   "cell_type": "code",
   "execution_count": null,
   "metadata": {},
   "outputs": [],
   "source": [
    "%matplotlib inline\n",
    "\n",
    "import os\n",
    "\n",
    "import xarray as xr\n",
    "import numpy as np\n",
    "\n",
    "import matplotlib.pyplot as plt\n",
    "from mpl_toolkits.axes_grid1 import AxesGrid\n",
    "import matplotlib.path as mpath\n",
    "\n",
    "from cartopy.util import add_cyclic_point\n",
    "import cartopy.crs as ccrs\n",
    "from cartopy.mpl.geoaxes import GeoAxes\n",
    "from cartopy.mpl.ticker import LongitudeFormatter, LatitudeFormatter\n",
    "\n",
    "import IPython.display as IPdisplay, matplotlib.font_manager as fm\n",
    "from PIL import Image\n",
    "import glob\n",
    "\n",
    "from scipy.integrate import cumtrapz\n",
    "\n",
    "import warnings\n",
    "warnings.filterwarnings('ignore')"
   ]
  },
  {
   "cell_type": "markdown",
   "metadata": {},
   "source": [
    "# Traitement des données"
   ]
  },
  {
   "cell_type": "raw",
   "metadata": {},
   "source": [
    "Lecture des données."
   ]
  },
  {
   "cell_type": "code",
   "execution_count": null,
   "metadata": {},
   "outputs": [],
   "source": [
    "diri=\"./data/\"\n",
    "fz    = xr.open_dataset(diri+\"hgt.mon.mean.nc\")\n",
    "fu    = xr.open_dataset(diri+\"uwnd.mon.mean.nc\")\n",
    "fv    = xr.open_dataset(diri+\"vwnd.mon.mean.nc\")\n",
    "print(fz)\n",
    "print(fu)\n",
    "print(fv)"
   ]
  },
  {
   "cell_type": "raw",
   "metadata": {},
   "source": [
    "Choix des années pour les calculs de climatologies."
   ]
  },
  {
   "cell_type": "code",
   "execution_count": null,
   "metadata": {},
   "outputs": [],
   "source": [
    "year1=input(\"année de départ : \")\n",
    "year2=input(\"année de fin : \")"
   ]
  },
  {
   "cell_type": "raw",
   "metadata": {},
   "source": [
    "Lecture des données pour la période retenue."
   ]
  },
  {
   "cell_type": "code",
   "execution_count": null,
   "metadata": {
    "scrolled": true
   },
   "outputs": [],
   "source": [
    "fz    = xr.open_dataset(diri+\"hgt.mon.mean.nc\").sel(time=slice(year1,year2))\n",
    "fu    = xr.open_dataset(diri+\"uwnd.mon.mean.nc\").sel(time=slice(year1,year2))\n",
    "fv    = xr.open_dataset(diri+\"vwnd.mon.mean.nc\").sel(time=slice(year1,year2))\n",
    "\n",
    "lat  = fz.lat.values\n",
    "lev = fz.level.values\n",
    "\n",
    "print(fz)\n",
    "print(lev)"
   ]
  },
  {
   "cell_type": "raw",
   "metadata": {},
   "source": [
    "Calcul des climatologies et extraction des variables."
   ]
  },
  {
   "cell_type": "code",
   "execution_count": null,
   "metadata": {
    "scrolled": true
   },
   "outputs": [],
   "source": [
    "seasons=['DJF','JJA','MAM','SON']\n",
    "\n",
    "fz_mean = fz.groupby('time.season').mean('time')\n",
    "fu_mean = fu.groupby('time.season').mean('time')\n",
    "fv_mean = fv.groupby('time.season').mean('time')\n",
    "\n",
    "fz_zmean = fz_mean.mean('lon')\n",
    "z0, z0_zmean, = xr.broadcast(fz_mean['hgt'],fz_zmean['hgt'])\n",
    "z0_anom=z0-z0_zmean # ecart a la moyenne zonale du géopotentiel\n",
    "u0 = fu_mean['uwnd']\n",
    "v0 = fv_mean['vwnd']\n",
    "\n",
    "print(z0.shape)"
   ]
  },
  {
   "cell_type": "raw",
   "metadata": {},
   "source": [
    "Fonction de conversion des longitudes 0 - 360 en -180 - 180."
   ]
  },
  {
   "cell_type": "code",
   "execution_count": null,
   "metadata": {
    "scrolled": true
   },
   "outputs": [],
   "source": [
    "def lonflip(da):\n",
    "    lon_name = 'lon'\n",
    "    da['_longitude_adjusted'] = xr.where(\n",
    "        da[lon_name] > 180,\n",
    "        da[ lon_name] - 360,\n",
    "        da[lon_name])\n",
    "    da = (\n",
    "        da\n",
    "        .swap_dims({lon_name: '_longitude_adjusted'})\n",
    "        .sel(**{'_longitude_adjusted': sorted(da._longitude_adjusted)})\n",
    "        .drop(lon_name))\n",
    "    da = da.rename({'_longitude_adjusted': lon_name})\n",
    "    return da"
   ]
  },
  {
   "cell_type": "raw",
   "metadata": {},
   "source": [
    "Conversion des longitudes de 0 à 360 en -180 à 180"
   ]
  },
  {
   "cell_type": "code",
   "execution_count": null,
   "metadata": {
    "scrolled": true
   },
   "outputs": [],
   "source": [
    "z=lonflip(z0)\n",
    "z_anom=lonflip(z0_anom)\n",
    "uu=lonflip(u0)\n",
    "vv=lonflip(v0)\n",
    "\n",
    "lon  = z.lon.values\n",
    "print(lon)\n",
    "\n",
    "# Conversion de u et v en numpy array pour tracé vecteurs\n",
    "u=np.array(uu)\n",
    "v=np.array(vv)"
   ]
  },
  {
   "cell_type": "markdown",
   "metadata": {},
   "source": [
    "# Fonctions graphiques"
   ]
  },
  {
   "cell_type": "raw",
   "metadata": {},
   "source": [
    "Fonction pour les cartes globales."
   ]
  },
  {
   "cell_type": "code",
   "execution_count": null,
   "metadata": {
    "scrolled": false
   },
   "outputs": [],
   "source": [
    "#proj=ccrs.PlateCarree()\n",
    "proj=ccrs.EqualEarth()\n",
    "\n",
    "def plot_background(ax):\n",
    "    ax.coastlines()\n",
    "    ax.gridlines(crs=ccrs.PlateCarree(), linewidth=0.5, color='gray', alpha=0.5, linestyle='-')\n",
    "    return ax"
   ]
  },
  {
   "cell_type": "raw",
   "metadata": {},
   "source": [
    "Fonction pour les coupes verticales."
   ]
  },
  {
   "cell_type": "code",
   "execution_count": null,
   "metadata": {
    "scrolled": false
   },
   "outputs": [],
   "source": [
    "def plot_zonal(ax):\n",
    "    ax.set_yscale('symlog')\n",
    "    ax.set_yticklabels(np.arange(1000, 0, -100))\n",
    "    ax.set_ylim(1000, 100)\n",
    "    ax.set_yticks(np.arange(1000, 0, -100))  \n",
    "    ax.set_xticklabels(np.arange(-180, 190, 10))\n",
    "    ax.set_xticks(np.arange(-180, 190, 10)) \n",
    "    return ax"
   ]
  },
  {
   "cell_type": "markdown",
   "metadata": {},
   "source": [
    "# Ecart à la moyenne zonale du géopotentiel à 200hPa"
   ]
  },
  {
   "cell_type": "raw",
   "metadata": {},
   "source": [
    "Carte globale de l'écart à la moyenne zonale du géopotentiel (DJF, JJA)."
   ]
  },
  {
   "cell_type": "code",
   "execution_count": null,
   "metadata": {
    "scrolled": false
   },
   "outputs": [],
   "source": [
    "plevz=200\n",
    "ilev = list(lev).index(plevz)\n",
    "levels_z_anom = np.arange(-200,220,20)\n",
    "\n",
    "\n",
    "axes_class = (GeoAxes, dict(map_projection=proj))\n",
    "fig = plt.figure(figsize=(15,15))\n",
    "fig.suptitle('Geopotential height (mgp) at '+str(plevz)+' hPa - anomaly from zonal mean : NCEP '+year1+'-'+year2, fontsize=16)\n",
    "\n",
    "axgr = AxesGrid(fig, 111, axes_class=axes_class,\n",
    "       nrows_ncols=(2, 1),\n",
    "       axes_pad=0.6,\n",
    "       cbar_location='right',\n",
    "       cbar_mode='single',\n",
    "       cbar_pad=0.2,\n",
    "       cbar_size='3%',\n",
    "       label_mode='')  # note the empty label_mode\n",
    "                   \n",
    "for i, ax in enumerate(axgr):\n",
    "   ax.set_title(seasons[i], fontsize=14)\n",
    "   plot_background(ax)\n",
    "   cf = ax.contourf(lon, lat, z_anom[i,ilev,:,:], levels_z_anom, transform=ccrs.PlateCarree(), cmap='coolwarm', extend='both')\n",
    "   c = ax.contour(lon, lat, z_anom[i,ilev,:,:], levels_z_anom, colors='black', linewidths=0.1, transform=ccrs.PlateCarree())\n",
    "   axgr.cbar_axes[i].colorbar(cf)\n",
    "\n",
    "figname='./figs/z'+str(plevz)+'_anomaly_global_climatology'\n",
    "fig.savefig(figname+'.png',bbox_inches='tight')\n",
    "\n",
    "plt.show()"
   ]
  },
  {
   "cell_type": "markdown",
   "metadata": {},
   "source": [
    "# Ecart à la moyenne zonale du géopotentiel - coupe verticale"
   ]
  },
  {
   "cell_type": "raw",
   "metadata": {},
   "source": [
    "Coupe verticale à 60N de l'écart à la moyenne zonale du géopotentiel (DJF, JJA)."
   ]
  },
  {
   "cell_type": "code",
   "execution_count": null,
   "metadata": {
    "scrolled": false
   },
   "outputs": [],
   "source": [
    "levels_z_anom = np.arange(-600,650,50)\n",
    "\n",
    "latN=60\n",
    "latS=-60\n",
    "\n",
    "print(z_anom.shape)\n",
    "ilatN = list(lat).index(latN)\n",
    "ilatS = list(lat).index(latS)\n",
    "\n",
    "fig = plt.figure(figsize=(12, 12))\n",
    "fig.suptitle('Geopotential height (mgp) - anomaly from zonal mean : NCEP '+year1+'-'+year2, fontsize=16)\n",
    "\n",
    "ax=fig.add_subplot(211)\n",
    "ax.set_title('DJF - lat='+str(latN), fontsize=14)\n",
    "plot_zonal(ax)\n",
    "cf = ax.contourf(lon, lev, z_anom[0,:,ilatN,:], levels_z_anom, cmap='coolwarm', extend='both')\n",
    "c = ax.contour(lon, lev, z_anom[0,:,ilatN,:], levels_z_anom, colors='black', linewidths=1)\n",
    "#plt.clabel(c, levels_tz, fmt='%1.2i')\n",
    "cb = fig.colorbar(cf, orientation='horizontal')\n",
    "cb.set_label('Km/s', size='small')\n",
    "\n",
    "ax=fig.add_subplot(212)\n",
    "ax.set_title('JJA - lat='+str(latS), fontsize=14)\n",
    "plot_zonal(ax)\n",
    "cf = ax.contourf(lon, lev, z_anom[1,:,ilatS,:], levels_z_anom, cmap='coolwarm', extend='both')\n",
    "c = ax.contour(lon, lev, z_anom[1,:,ilatS,:], levels_z_anom, colors='black', linewidths=1)\n",
    "#plt.clabel(c, levels_tz, fmt='%1.2i')\n",
    "cb = fig.colorbar(cf, orientation='horizontal')\n",
    "cb.set_label('Km/s', size='small')\n",
    "\n",
    "figname='./figs/z_anomaly_crossection_climatology'\n",
    "fig.savefig(figname+'.png',bbox_inches='tight')\n",
    "plt.show()"
   ]
  },
  {
   "cell_type": "markdown",
   "metadata": {},
   "source": [
    "# Décomposition du vent horizontal en fonction de courant et potentiel de vitesse"
   ]
  },
  {
   "cell_type": "markdown",
   "metadata": {},
   "source": [
    "<div class=\"alert alert-danger\">\n",
    "<b>MAC LINUX SEULEMENT (module windspharm)</b>\n",
    "\n",
    "</div>"
   ]
  },
  {
   "cell_type": "raw",
   "metadata": {},
   "source": [
    "Sélection de u et v à 200hPa, ajout de points cycliques en longitude."
   ]
  },
  {
   "cell_type": "code",
   "execution_count": null,
   "metadata": {},
   "outputs": [],
   "source": [
    "plev_sfvp=200\n",
    "ilev = list(lev).index(plev_sfvp)\n",
    "\n",
    "lons = fu_mean.coords['lon']\n",
    "lon_idx = u0.dims.index('lon')\n",
    "u2, lons2 = add_cyclic_point(u0.values, coord=lons, axis=lon_idx)\n",
    "v2, lons2 = add_cyclic_point(v0.values, coord=lons, axis=lon_idx)\n",
    "\n",
    "print(\"Original shape -\", u0.shape)\n",
    "print(\"New shape -\", u2.shape)\n",
    "\n",
    "uu=u2[:,ilev,:,:]\n",
    "vv=v2[:,ilev,:,:]"
   ]
  },
  {
   "cell_type": "raw",
   "metadata": {},
   "source": [
    "Fonction de courant et potentiel de vitesse à 200hPa."
   ]
  },
  {
   "cell_type": "code",
   "execution_count": null,
   "metadata": {},
   "outputs": [],
   "source": [
    "from windspharm.standard import VectorWind\n",
    "from windspharm.tools import prep_data, recover_data, order_latdim\n",
    "from windspharm.examples import example_data_path\n",
    "\n",
    "uwnd, uwnd_info = prep_data(uu, 'tyx')\n",
    "vwnd, vwnd_info = prep_data(vv, 'tyx')\n",
    "\n",
    "lats, uwnd, vwnd = order_latdim(lat, uwnd, vwnd)\n",
    "\n",
    "w = VectorWind(uwnd, vwnd)\n",
    "\n",
    "sf, vp = w.sfvp()\n",
    "uchi, vchi = w.irrotationalcomponent()\n",
    "upsi, vpsi = w.nondivergentcomponent()\n",
    "\n",
    "sf = recover_data(sf, uwnd_info)\n",
    "vp = recover_data(vp, uwnd_info)\n",
    "\n",
    "uchi = recover_data(uchi, uwnd_info)\n",
    "upsi = recover_data(upsi, uwnd_info)\n",
    "vchi = recover_data(vchi, uwnd_info)\n",
    "vpsi = recover_data(vpsi, uwnd_info)\n",
    "\n",
    "print(sf.shape)\n",
    "print(vp.shape)"
   ]
  },
  {
   "cell_type": "raw",
   "metadata": {},
   "source": [
    "Ecart à la moyenne zonale de la fonction de courant à 200hPa"
   ]
  },
  {
   "cell_type": "code",
   "execution_count": null,
   "metadata": {},
   "outputs": [],
   "source": [
    "sf_zmean = sf.mean(axis=2)\n",
    "print(sf_zmean.shape)\n",
    "sf_zmean2=sf_zmean[:,:,np.newaxis]\n",
    "print(sf_zmean2.shape)\n",
    "sf_anom=sf-sf_zmean2 # ecart a la moyenne zonale de la fonction de courant\n",
    "print(sf_anom.shape)"
   ]
  },
  {
   "cell_type": "raw",
   "metadata": {},
   "source": [
    "Fonction de courant (composante rotationnelle de l'écoulement) à 200hPa."
   ]
  },
  {
   "cell_type": "code",
   "execution_count": null,
   "metadata": {},
   "outputs": [],
   "source": [
    "levels_sf = np.arange(-150,160,10)\n",
    "\n",
    "axes_class = (GeoAxes, dict(map_projection=ccrs.PlateCarree()))\n",
    "fig = plt.figure(figsize=(15,8))\n",
    "fig.suptitle('Streamfunction ($10^6$m$^2$s$^{-1}$) at '+str(plev_sfvp)+' hPa : NCEP '+year1+'-'+year2, fontsize=16)\n",
    "\n",
    "axgr = AxesGrid(fig, 111, axes_class=axes_class,\n",
    "       nrows_ncols=(2, 2),\n",
    "       axes_pad=0.6,\n",
    "       cbar_location='right',\n",
    "       cbar_mode='single',\n",
    "       cbar_pad=0.2,\n",
    "       cbar_size='3%',\n",
    "       label_mode='')  # note the empty label_mode\n",
    "\n",
    "for i, ax in enumerate(axgr):\n",
    "   ax.set_xticks(np.linspace(-180, 180, 13), crs=ccrs.PlateCarree())\n",
    "   ax.set_yticks(np.linspace(-90, 90, 13), crs=ccrs.PlateCarree())\n",
    "   ax.axes.axis('tight')\n",
    "   lon_formatter = LongitudeFormatter(zero_direction_label=True)\n",
    "   lat_formatter = LatitudeFormatter()\n",
    "   ax.xaxis.set_major_formatter(lon_formatter)\n",
    "   ax.yaxis.set_major_formatter(lat_formatter)\n",
    "   ax.coastlines()\n",
    "   ax.set_title(seasons[i], fontsize=14)\n",
    "   cf = ax.contourf(lons2, lat, sf[i,:,:] * 1e-06, levels_sf, transform=ccrs.PlateCarree(),\n",
    "                    cmap='jet', extend='both')\n",
    "   c = ax.contour(lons2, lat, sf[i,:,:] * 1e-06, levels_sf, colors='black',\n",
    "                  linewidths=0.5, transform=ccrs.PlateCarree())    \n",
    "   axgr.cbar_axes[i].colorbar(cf)\n",
    "    \n",
    "figname='./figs/sf200_climatology'\n",
    "fig.savefig(figname+'.png',bbox_inches='tight')\n",
    "\n",
    "plt.show()"
   ]
  },
  {
   "cell_type": "raw",
   "metadata": {},
   "source": [
    "Ecart à la moyenne zonale de la fonction de courant à 200hPa."
   ]
  },
  {
   "cell_type": "code",
   "execution_count": null,
   "metadata": {},
   "outputs": [],
   "source": [
    "levels_sf_anom = np.arange(-30,35,5)\n",
    "\n",
    "axes_class = (GeoAxes, dict(map_projection=ccrs.PlateCarree()))\n",
    "fig = plt.figure(figsize=(15,8))\n",
    "fig.suptitle('Deviation from zonal mean of the streamfunction ($10^6$m$^2$s$^{-1}$) at '+str(plev_sfvp)+' hPa : NCEP '+year1+'-'+year2\n",
    "             , fontsize=16)\n",
    "\n",
    "axgr = AxesGrid(fig, 111, axes_class=axes_class,\n",
    "       nrows_ncols=(2, 2),\n",
    "       axes_pad=0.6,\n",
    "       cbar_location='right',\n",
    "       cbar_mode='single',\n",
    "       cbar_pad=0.2,\n",
    "       cbar_size='3%',\n",
    "       label_mode='')  # note the empty label_mode\n",
    "\n",
    "for i, ax in enumerate(axgr):\n",
    "   ax.set_xticks(np.linspace(-180, 180, 13), crs=ccrs.PlateCarree())\n",
    "   ax.set_yticks(np.linspace(-90, 90, 13), crs=ccrs.PlateCarree())\n",
    "   ax.axes.axis('tight')\n",
    "   lon_formatter = LongitudeFormatter(zero_direction_label=True)\n",
    "   lat_formatter = LatitudeFormatter()\n",
    "   ax.xaxis.set_major_formatter(lon_formatter)\n",
    "   ax.yaxis.set_major_formatter(lat_formatter)\n",
    "   ax.coastlines()\n",
    "   ax.set_title(seasons[i], fontsize=14)\n",
    "   cf = ax.contourf(lons2, lat, sf_anom[i,:,:] * 1e-06, levels=levels_sf_anom, transform=ccrs.PlateCarree(),\n",
    "                    cmap='coolwarm', extend='both')\n",
    "   c = ax.contour(lons2, lat, sf_anom[i,:,:] * 1e-06, levels=levels_sf_anom, colors='black',\n",
    "                  linewidths=0.5, transform=ccrs.PlateCarree())    \n",
    "   axgr.cbar_axes[i].colorbar(cf)\n",
    "\n",
    "plt.show()\n",
    "\n",
    "figname='./figs/sf200_anom_climatology'\n",
    "fig.savefig(figname+'.png',bbox_inches='tight')"
   ]
  },
  {
   "cell_type": "raw",
   "metadata": {},
   "source": [
    "Ecart à la moyenne zonale de la fonction de courant à 200hPa (HN)."
   ]
  },
  {
   "cell_type": "code",
   "execution_count": null,
   "metadata": {},
   "outputs": [],
   "source": [
    "def polar_circle(ax):\n",
    "    angle = np.linspace(0, 2*np.pi, 100)\n",
    "    center, radius = [0.5, 0.5], 0.5\n",
    "    verts = np.vstack([np.sin(angle), np.cos(angle)]).T\n",
    "    circle = mpath.Path(verts * radius + center)\n",
    "    ax.set_boundary(circle, transform=ax.transAxes)\n",
    "    return ax\n",
    "\n",
    "projection=ccrs.NorthPolarStereo()\n",
    "bounds_NP = [(-180., 180., 0., 90.)]\n",
    "\n",
    "axes_class = (GeoAxes, dict(map_projection=projection))\n",
    "fig = plt.figure(figsize=(15,8))\n",
    "fig.suptitle('Deviation from zonal mean of the streamfunction ($10^6$m$^2$s$^{-1}$) at '+str(plev_sfvp)+' hPa : NCEP '+year1+'-'+year2\n",
    "             , fontsize=16)\n",
    "\n",
    "axgr = AxesGrid(fig, 111, axes_class=axes_class,\n",
    "       nrows_ncols=(1, 2),\n",
    "       axes_pad=0.6,\n",
    "       cbar_location='right',\n",
    "       cbar_mode='single',\n",
    "       cbar_pad=0.2,\n",
    "       cbar_size='3%',\n",
    "       label_mode='')  # note the empty label_mode\n",
    "                   \n",
    "for i, ax in enumerate(axgr):\n",
    "    ax.set_title(seasons[i], fontsize=14)\n",
    "    ax.coastlines()\n",
    "    polar_circle(ax)\n",
    "    ax.set_extent(*bounds_NP, crs=ccrs.PlateCarree())\n",
    "    ax.gridlines(crs=ccrs.PlateCarree(), linewidth=0.5, color='gray', alpha=0.5, linestyle='-')\n",
    "    cf = ax.contourf(lons2, lat, sf_anom[i,:,:] * 1e-06, levels=levels_sf_anom, transform=ccrs.PlateCarree(),\n",
    "                     cmap='coolwarm', extend='both')\n",
    "    c = ax.contour(lons2, lat, sf_anom[i,:,:] * 1e-06, levels=levels_sf_anom, colors='black',\n",
    "                   linewidths=0.5, transform=ccrs.PlateCarree())  \n",
    "    axgr.cbar_axes[0].colorbar(cf)\n",
    "\n",
    "figname='./figs/sf200_anom_NH_climatology'\n",
    "fig.savefig(figname+'.png',bbox_inches='tight')\n",
    "\n",
    "plt.show()"
   ]
  },
  {
   "cell_type": "raw",
   "metadata": {},
   "source": [
    "Ecart à la moyenne zonale de la fonction de courant à 200hPa (HS)."
   ]
  },
  {
   "cell_type": "code",
   "execution_count": null,
   "metadata": {},
   "outputs": [],
   "source": [
    "projection=ccrs.SouthPolarStereo()\n",
    "bounds_NP = [(-180., 180., -90., 0.)] \n",
    "\n",
    "axes_class = (GeoAxes, dict(map_projection=projection))\n",
    "fig = plt.figure(figsize=(15,8))\n",
    "fig.suptitle('Deviation from zonal mean of the streamfunction ($10^6$m$^2$s$^{-1}$) at '+str(plev_sfvp)+' hPa : NCEP '+year1+'-'+year2\n",
    "             , fontsize=16)\n",
    "\n",
    "axgr = AxesGrid(fig, 111, axes_class=axes_class,\n",
    "       nrows_ncols=(1, 2),\n",
    "       axes_pad=0.6,\n",
    "       cbar_location='right',\n",
    "       cbar_mode='single',\n",
    "       cbar_pad=0.2,\n",
    "       cbar_size='3%',\n",
    "       label_mode='')  # note the empty label_mode\n",
    "                   \n",
    "for i, ax in enumerate(axgr):\n",
    "    ax.set_title(seasons[i], fontsize=14)\n",
    "    ax.coastlines()\n",
    "    polar_circle(ax)\n",
    "    ax.set_extent(*bounds_NP, crs=ccrs.PlateCarree())\n",
    "    ax.gridlines(crs=ccrs.PlateCarree(), linewidth=0.5, color='gray', alpha=0.5, linestyle='-')\n",
    "    cf = ax.contourf(lons2, lat, sf_anom[i,:,:] * 1e-06, levels=levels_sf_anom, transform=ccrs.PlateCarree(),\n",
    "                     cmap='coolwarm', extend='both')\n",
    "    c = ax.contour(lons2, lat, sf_anom[i,:,:] * 1e-06, levels=levels_sf_anom, colors='black',\n",
    "                   linewidths=0.5, transform=ccrs.PlateCarree())  \n",
    "    axgr.cbar_axes[0].colorbar(cf)\n",
    "\n",
    "figname='./figs/sf200_anom_SH_climatology'\n",
    "fig.savefig(figname+'.png',bbox_inches='tight')\n",
    "\n",
    "plt.show()"
   ]
  }
 ],
 "metadata": {
  "kernelspec": {
   "display_name": "Python 3",
   "language": "python",
   "name": "python3"
  },
  "language_info": {
   "codemirror_mode": {
    "name": "ipython",
    "version": 3
   },
   "file_extension": ".py",
   "mimetype": "text/x-python",
   "name": "python",
   "nbconvert_exporter": "python",
   "pygments_lexer": "ipython3",
   "version": "3.7.11"
  }
 },
 "nbformat": 4,
 "nbformat_minor": 1
}
