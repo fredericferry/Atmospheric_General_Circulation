{
 "cells": [
  {
   "cell_type": "markdown",
   "metadata": {},
   "source": [
    "# Filtrage temporel dans la gamme synoptique et énergie cinétique des perturbations (EKE)\n",
    "\n",
    "**Auteur : FERRY Frédéric (DESR/ENM/C3M) - septembre 2022**\n",
    "\n",
    "Les fichiers de données au format netcdf (données quotidiennes NCEP du vent zonal et du vent méridien à 300hPa pour l'année 2021) doivent être téléchargés et placés dans le répertoire data :\n",
    "\n",
    "ftp://ftp2.psl.noaa.gov/Datasets/ncep.reanalysis.dailyavgs/pressure/"
   ]
  },
  {
   "cell_type": "code",
   "execution_count": null,
   "metadata": {},
   "outputs": [],
   "source": [
    "import os\n",
    "import xarray as xr\n",
    "import matplotlib as mpl\n",
    "import matplotlib.pyplot as plt\n",
    "import numpy as np\n",
    "\n",
    "import cartopy.crs as ccrs\n",
    "from cartopy.util import add_cyclic_point\n",
    "import matplotlib.path as mpath\n",
    "\n",
    "import pandas as pd\n",
    "\n",
    "from tqdm import tqdm"
   ]
  },
  {
   "cell_type": "raw",
   "metadata": {},
   "source": [
    "Dossiers"
   ]
  },
  {
   "cell_type": "code",
   "execution_count": null,
   "metadata": {},
   "outputs": [],
   "source": [
    "dir_data='./daily_ncep/'\n",
    "dir_figs='./figs/'\n",
    "dir_anim='./anim/'\n",
    "if not os.path.exists(dir_figs):\n",
    "    os.makedirs(dir_figs)\n",
    "if not os.path.exists(dir_anim):\n",
    "    os.makedirs(dir_anim)"
   ]
  },
  {
   "cell_type": "markdown",
   "metadata": {},
   "source": [
    "# Traitement des données u, v, z"
   ]
  },
  {
   "cell_type": "raw",
   "metadata": {},
   "source": [
    "Selection des données u et v."
   ]
  },
  {
   "cell_type": "code",
   "execution_count": null,
   "metadata": {},
   "outputs": [],
   "source": [
    "year1='1980'\n",
    "year2='2021'\n",
    "\n",
    "fu    = xr.open_dataset(dir_data+'uwnd300.1979-2021.nc').sel(time=slice(year1,year2))\n",
    "fv    = xr.open_dataset(dir_data+'vwnd300.1979-2021.nc').sel(time=slice(year1,year2))\n",
    "fz    = xr.open_dataset(dir_data+'hgt500.1979-2021.nc').sel(time=slice(year1,year2))\n",
    "print(fu)\n",
    "lat  = fu.lat.values\n",
    "lon  = fu.lon.values"
   ]
  },
  {
   "cell_type": "raw",
   "metadata": {},
   "source": [
    "Climatologies et anomalies."
   ]
  },
  {
   "cell_type": "code",
   "execution_count": null,
   "metadata": {},
   "outputs": [],
   "source": [
    "print(' ----- Computing climatology ----- ')\n",
    "fu_clim = fu.groupby('time.dayofyear').mean('time')\n",
    "fv_clim = fv.groupby('time.dayofyear').mean('time')\n",
    "fz_clim = fz.groupby('time.dayofyear').mean('time')\n",
    "\n",
    "print(fu_clim)\n",
    "\n",
    "print(' ----- Computing daily anomalies ----- ')\n",
    "fuprime = fu.groupby('time.dayofyear') - fu_clim\n",
    "fvprime = fv.groupby('time.dayofyear') - fv_clim\n",
    "fzprime = fz.groupby('time.dayofyear') - fz_clim\n",
    "\n",
    "print(fuprime)"
   ]
  },
  {
   "cell_type": "markdown",
   "metadata": {},
   "source": [
    "# Filtrage de la gamme synoptique 2-10j"
   ]
  },
  {
   "cell_type": "raw",
   "metadata": {},
   "source": [
    "Variables"
   ]
  },
  {
   "cell_type": "code",
   "execution_count": null,
   "metadata": {},
   "outputs": [],
   "source": [
    "u=fuprime['uwnd']\n",
    "v=fvprime['vwnd']\n",
    "z=fzprime['hgt']\n",
    "print(u.shape)"
   ]
  },
  {
   "cell_type": "raw",
   "metadata": {},
   "source": [
    "Fonction de filtrage spatial"
   ]
  },
  {
   "cell_type": "code",
   "execution_count": null,
   "metadata": {},
   "outputs": [],
   "source": [
    "def low_pass_weights(window, cutoff):\n",
    "    \"\"\"Calculate weights for a low pass Lanczos filter.\n",
    "    Args:\n",
    "    window: int\n",
    "        The length of the filter window.\n",
    "    cutoff: float\n",
    "        The cutoff frequency in inverse time steps.\n",
    "    \"\"\"\n",
    "    order = ((window - 1) // 2 ) + 1\n",
    "    nwts = 2 * order + 1\n",
    "    w = np.zeros([nwts])\n",
    "    n = nwts // 2\n",
    "    w[n] = 2 * cutoff\n",
    "    k = np.arange(1., n)\n",
    "    sigma = np.sin(np.pi * k / n) * n / (np.pi * k)\n",
    "    firstfactor = np.sin(2. * np.pi * cutoff * k) / (np.pi * k)\n",
    "    w[n-1:0:-1] = firstfactor * sigma\n",
    "    w[n+1:-1] = firstfactor * sigma\n",
    "    return w[1:-1]"
   ]
  },
  {
   "cell_type": "raw",
   "metadata": {},
   "source": [
    "Construction des filtres passe-bas"
   ]
  },
  {
   "cell_type": "code",
   "execution_count": null,
   "metadata": {
    "scrolled": false
   },
   "outputs": [],
   "source": [
    "# window length for filters\n",
    "window = 50\n",
    "\n",
    "day1=2.\n",
    "day2=8.\n",
    "\n",
    "# construct low pass filters\n",
    "hfw = low_pass_weights(window, 1. / day1)\n",
    "lfw = low_pass_weights(window, 1. / day2)\n",
    "weight_high = xr.DataArray(hfw, dims = ['window'])\n",
    "weight_low = xr.DataArray(lfw, dims = ['window'])"
   ]
  },
  {
   "cell_type": "raw",
   "metadata": {},
   "source": [
    "Filtrage spatial 2-10j = différence d'un passe bas 2j et d'un passe bas 8j (attention : gourmand en calculs)."
   ]
  },
  {
   "cell_type": "code",
   "execution_count": null,
   "metadata": {
    "scrolled": false
   },
   "outputs": [],
   "source": [
    "# apply the filters using the rolling method with the weights\n",
    "lowpass_hf = u.rolling(time = len(hfw), center = True).construct('window').dot(weight_high)\n",
    "lowpass_lf = u.rolling(time = len(lfw), center = True).construct('window').dot(weight_low)\n",
    "# the bandpass is the difference of two lowpass filters.\n",
    "u2_10= lowpass_hf - lowpass_lf"
   ]
  },
  {
   "cell_type": "code",
   "execution_count": null,
   "metadata": {
    "scrolled": false
   },
   "outputs": [],
   "source": [
    "# apply the filters using the rolling method with the weights\n",
    "lowpass_hf = v.rolling(time = len(hfw), center = True).construct('window').dot(weight_high)\n",
    "lowpass_lf = v.rolling(time = len(lfw), center = True).construct('window').dot(weight_low)\n",
    "# the bandpass is the difference of two lowpass filters.\n",
    "v2_10= lowpass_hf - lowpass_lf"
   ]
  },
  {
   "cell_type": "code",
   "execution_count": null,
   "metadata": {
    "scrolled": false
   },
   "outputs": [],
   "source": [
    "# apply the filters using the rolling method with the weights\n",
    "lowpass_hf = z.rolling(time = len(hfw), center = True).construct('window').dot(weight_high)\n",
    "lowpass_lf = z.rolling(time = len(lfw), center = True).construct('window').dot(weight_low)\n",
    "# the bandpass is the difference of two lowpass filters.\n",
    "z2_10= lowpass_hf - lowpass_lf"
   ]
  },
  {
   "cell_type": "code",
   "execution_count": null,
   "metadata": {},
   "outputs": [],
   "source": [
    "print(z2_10.shape)"
   ]
  },
  {
   "cell_type": "markdown",
   "metadata": {},
   "source": [
    "# Illustration d'une séquence particulière (anomalie VS anomalie filtrée)"
   ]
  },
  {
   "cell_type": "raw",
   "metadata": {},
   "source": [
    "Extraction des données pour une période donnée."
   ]
  },
  {
   "cell_type": "code",
   "execution_count": null,
   "metadata": {
    "scrolled": false
   },
   "outputs": [],
   "source": [
    "date1='2021-01-01'\n",
    "date2='2021-01-31'\n",
    "\n",
    "fz_days=fz.sel(time=slice(date1,date2))\n",
    "dataz1 = fz_days['hgt']\n",
    "\n",
    "fz_days_anom=fzprime.sel(time=slice(date1,date2))\n",
    "dataz2 = fz_days_anom['hgt']\n",
    "\n",
    "dataz3=z2_10.sel(time=slice(date1,date2))\n",
    "\n",
    "time  = fz_days.time.values"
   ]
  },
  {
   "cell_type": "raw",
   "metadata": {},
   "source": [
    "Gestion des dates sous format chaîne de caractère."
   ]
  },
  {
   "cell_type": "code",
   "execution_count": null,
   "metadata": {},
   "outputs": [],
   "source": [
    "time_str=[x for x in range(len(time))]\n",
    "date_str=[x for x in range(len(time))]\n",
    "\n",
    "for i in range(len(time)):\n",
    "\ttime_str[i] = str(time[i])\n",
    "\tdate_str[i] = time_str[i][0:10]\n",
    "\n",
    "print(date_str)"
   ]
  },
  {
   "cell_type": "raw",
   "metadata": {},
   "source": [
    "Fonction de conversion des longitudes 0-360 en -180-180."
   ]
  },
  {
   "cell_type": "code",
   "execution_count": null,
   "metadata": {},
   "outputs": [],
   "source": [
    "def lonflip(da):\n",
    "    lon_name = 'lon'\n",
    "    da['_longitude_adjusted'] = xr.where(\n",
    "        da[lon_name] > 180,\n",
    "        da[lon_name] - 360,\n",
    "        da[lon_name])\n",
    "    da = (\n",
    "        da\n",
    "        .swap_dims({lon_name: '_longitude_adjusted'})\n",
    "        .sel(**{'_longitude_adjusted': sorted(da._longitude_adjusted)})\n",
    "        .drop(lon_name))\n",
    "    da = da.rename({'_longitude_adjusted': lon_name})\n",
    "    return da"
   ]
  },
  {
   "cell_type": "raw",
   "metadata": {},
   "source": [
    "Conversions longitudes pour le tracé des cartes (0 - 360 --> -180 - 180)."
   ]
  },
  {
   "cell_type": "code",
   "execution_count": null,
   "metadata": {},
   "outputs": [],
   "source": [
    "dataz1=lonflip(dataz1)\n",
    "dataz2=lonflip(dataz2)\n",
    "dataz3=lonflip(dataz3)\n",
    "\n",
    "lat1  = dataz1.lat.values\n",
    "lon1  = dataz1.lon.values"
   ]
  },
  {
   "cell_type": "raw",
   "metadata": {},
   "source": [
    "Ajout de points cycliques en longitude."
   ]
  },
  {
   "cell_type": "code",
   "execution_count": null,
   "metadata": {},
   "outputs": [],
   "source": [
    "print(\"Original shape -\", dataz1.shape)\n",
    "lon0 = dataz1.coords['lon']\n",
    "lon_idx = dataz1.dims.index('lon')\n",
    "dataz1, lon2 = add_cyclic_point(dataz1.values, coord=lon0, axis=lon_idx)\n",
    "dataz2, lon2 = add_cyclic_point(dataz2.values, coord=lon0, axis=lon_idx)\n",
    "dataz3, lon2 = add_cyclic_point(dataz3.values, coord=lon0, axis=lon_idx)\n",
    "print(\"New shape -\", dataz1.shape)"
   ]
  },
  {
   "cell_type": "raw",
   "metadata": {},
   "source": [
    "Echelles de valeur, palettes de couleurs."
   ]
  },
  {
   "cell_type": "code",
   "execution_count": null,
   "metadata": {},
   "outputs": [],
   "source": [
    "levels_z1 = np.arange(4800,6050,50)\n",
    "levels_z2 = np.arange(-500,550,50)\n",
    "cmap_z1='jet'\n",
    "cmap_z2='RdBu_r'"
   ]
  },
  {
   "cell_type": "raw",
   "metadata": {},
   "source": [
    "Fonction de création d'une animation à partir des fichiers png présents dans le dossier anim."
   ]
  },
  {
   "cell_type": "code",
   "execution_count": null,
   "metadata": {},
   "outputs": [],
   "source": [
    "def make_animation(gif_filepath):\n",
    "    from PIL import Image\n",
    "    import os\n",
    "    from IPython.display import Image as IPImage\n",
    "    from IPython.display import display\n",
    "    import time\n",
    "    \n",
    "    image_folder = './anim/' # répertoire contenant les fichiers PNG\n",
    "    output_file = gif_filepath # nom du fichier de sortie\n",
    "    animation_speed = 0.9 # vitesse de l'animation en secondes\n",
    "    \n",
    "    # Liste tous les fichiers PNG dans le répertoire image_folder\n",
    "    files = sorted(os.listdir(image_folder))\n",
    "    image_files = [f for f in files if f.endswith('.png')]\n",
    "    \n",
    "    # Ouvre chaque fichier PNG et ajoute l'image à une liste\n",
    "    images = []\n",
    "    for filename in image_files:\n",
    "        img = Image.open(os.path.join(image_folder, filename))\n",
    "        images.append(img)\n",
    "    \n",
    "    # Crée l'animation GIF\n",
    "    images[0].save(output_file, save_all=True, append_images=images[1:], duration=int(animation_speed*1000), loop=0)\n",
    "    # Affiche l'animation GIF dans Jupyter\n",
    "    with open(output_file,'rb') as f:\n",
    "        display(IPImage(data=f.read(), format='png'))\n",
    "    # Efface les fichiers PNG\n",
    "    for filename in image_files:\n",
    "        os.remove(image_folder+filename)"
   ]
  },
  {
   "cell_type": "raw",
   "metadata": {},
   "source": [
    "Tracé des graphiques de Z500 + anomalie pour la période choisie (fichiers png individuels)."
   ]
  },
  {
   "cell_type": "code",
   "execution_count": null,
   "metadata": {},
   "outputs": [],
   "source": [
    "proj=ccrs.NorthPolarStereo()\n",
    "bounds = [(-180, 180, 30, 90)]\n",
    "\n",
    "plt_title1 = 'Geopotential height (mgp) at 500 hPa : '\n",
    "\n",
    "for i in tqdm(range(len(time))):\n",
    "    #print(date_str[i])\n",
    "    fig = plt.figure(figsize=(15., 8.))\n",
    "    fig.suptitle(plt_title1+date_str[i], fontsize=16)\n",
    "    ax = fig.add_subplot(1, 2, 1, projection=proj)\n",
    "    ax.set_title('Daily field', loc='center')\n",
    "    ax.coastlines()\n",
    "    \n",
    "    ax.set_extent(*bounds, crs=ccrs.PlateCarree())\n",
    "    \n",
    "    # Compute a circle in axes coordinates, which we can use as a boundary\n",
    "    # for the map. We can pan/zoom as much as we like - the boundary will be\n",
    "    # permanently circular.\n",
    "    angle = np.linspace(0, 2*np.pi, 100)\n",
    "    center, radius = [0.5, 0.5], 0.5\n",
    "    verts = np.vstack([np.sin(angle), np.cos(angle)]).T\n",
    "    circle = mpath.Path(verts * radius + center)\n",
    "    ax.set_boundary(circle, transform=ax.transAxes)\n",
    "    \n",
    "    cf = ax.contourf(lon2, lat1, dataz1[i,:,:], levels_z1, transform=ccrs.PlateCarree(), cmap=cmap_z1, extend='both')\n",
    "    cb = fig.colorbar(cf, orientation='horizontal', aspect=65, shrink=1, pad=0.10, extendrect='True')\n",
    "    cb.set_label('mgp', size='large')\n",
    "    \n",
    "    ax = fig.add_subplot(1, 2, 2, projection=proj)\n",
    "    ax.set_title('Anomaly', loc='center')\n",
    "    ax.coastlines()\n",
    "    # Compute a circle in axes coordinates, which we can use as a boundary\n",
    "    # for the map. We can pan/zoom as much as we like - the boundary will be\n",
    "    # permanently circular.\n",
    "    angle = np.linspace(0, 2*np.pi, 100)\n",
    "    center, radius = [0.5, 0.5], 0.5\n",
    "    verts = np.vstack([np.sin(angle), np.cos(angle)]).T\n",
    "    circle = mpath.Path(verts * radius + center)\n",
    "    ax.set_boundary(circle, transform=ax.transAxes)\n",
    "    ax.set_extent(*bounds, crs=ccrs.PlateCarree())\n",
    "    cf = ax.contourf(lon2, lat1, dataz2[i,:,:], levels_z2, transform=ccrs.PlateCarree(), cmap=cmap_z2, extend='both')\n",
    "    \n",
    "    cb = fig.colorbar(cf, orientation='horizontal', aspect=65, shrink=1, pad=0.10, extendrect='True')\n",
    "    cb.set_label('mgp', size='large')\n",
    "    \n",
    "    plt.clf()\n",
    "    plt.close()\n",
    "    \n",
    "    figname=dir_anim+'Z500_polar_'+date_str[i]\n",
    "    fig.savefig(figname+'.png', bbox_inches='tight')"
   ]
  },
  {
   "cell_type": "raw",
   "metadata": {},
   "source": [
    "Réalisation de l'animation mensuelle Z500."
   ]
  },
  {
   "cell_type": "code",
   "execution_count": null,
   "metadata": {},
   "outputs": [],
   "source": [
    "gif_filepath = dir_anim+'Z500_polar_'+date1+'-'+date2+'.gif'\n",
    "make_animation(gif_filepath)"
   ]
  },
  {
   "cell_type": "raw",
   "metadata": {},
   "source": [
    "Tracé des graphiques de Z500 + anomalie filtrée pour la période choisie (fichiers png individuels)."
   ]
  },
  {
   "cell_type": "code",
   "execution_count": null,
   "metadata": {},
   "outputs": [],
   "source": [
    "proj=ccrs.NorthPolarStereo()\n",
    "bounds = [(-180, 180, 30, 90)]\n",
    "\n",
    "plt_title1 = 'Geopotential height (mgp) at 500 hPa : '\n",
    "\n",
    "for i in tqdm(range(len(time))):\n",
    "    #print(date_str[i])\n",
    "    fig = plt.figure(figsize=(15., 8.))\n",
    "    fig.suptitle(plt_title1+date_str[i], fontsize=16)\n",
    "    ax = fig.add_subplot(1, 2, 1, projection=proj)\n",
    "    ax.set_title('Daily field', loc='center')\n",
    "    ax.coastlines()\n",
    "    \n",
    "    ax.set_extent(*bounds, crs=ccrs.PlateCarree())\n",
    "    \n",
    "    # Compute a circle in axes coordinates, which we can use as a boundary\n",
    "    # for the map. We can pan/zoom as much as we like - the boundary will be\n",
    "    # permanently circular.\n",
    "    angle = np.linspace(0, 2*np.pi, 100)\n",
    "    center, radius = [0.5, 0.5], 0.5\n",
    "    verts = np.vstack([np.sin(angle), np.cos(angle)]).T\n",
    "    circle = mpath.Path(verts * radius + center)\n",
    "    ax.set_boundary(circle, transform=ax.transAxes)\n",
    "    \n",
    "    cf = ax.contourf(lon2, lat1, dataz1[i,:,:], levels_z1, transform=ccrs.PlateCarree(), cmap=cmap_z1, extend='both')\n",
    "    cb = fig.colorbar(cf, orientation='horizontal', aspect=65, shrink=1, pad=0.10, extendrect='True')\n",
    "    cb.set_label('mgp', size='large')\n",
    "    \n",
    "    ax = fig.add_subplot(1, 2, 2, projection=proj)\n",
    "    ax.set_title('2-8 day filtered anomaly', loc='center')\n",
    "    ax.coastlines()\n",
    "    # Compute a circle in axes coordinates, which we can use as a boundary\n",
    "    # for the map. We can pan/zoom as much as we like - the boundary will be\n",
    "    # permanently circular.\n",
    "    angle = np.linspace(0, 2*np.pi, 100)\n",
    "    center, radius = [0.5, 0.5], 0.5\n",
    "    verts = np.vstack([np.sin(angle), np.cos(angle)]).T\n",
    "    circle = mpath.Path(verts * radius + center)\n",
    "    ax.set_boundary(circle, transform=ax.transAxes)\n",
    "    ax.set_extent(*bounds, crs=ccrs.PlateCarree())\n",
    "    cf = ax.contourf(lon2, lat1, dataz3[i,:,:], levels_z2, transform=ccrs.PlateCarree(), cmap=cmap_z2, extend='both')\n",
    "    \n",
    "    cb = fig.colorbar(cf, orientation='horizontal', aspect=65, shrink=1, pad=0.10, extendrect='True')\n",
    "    cb.set_label('mgp', size='large')\n",
    "    \n",
    "    plt.close()\n",
    "    \n",
    "    figname=dir_anim+'Z500_polar_filtered_'+date_str[i]\n",
    "    fig.savefig(figname+'.png', bbox_inches='tight')"
   ]
  },
  {
   "cell_type": "raw",
   "metadata": {},
   "source": [
    "Réalisation de l'animation mensuelle Z500."
   ]
  },
  {
   "cell_type": "code",
   "execution_count": null,
   "metadata": {},
   "outputs": [],
   "source": [
    "gif_filepath = dir_anim+'Z500_polar_filtered_'+date1+'-'+date2+'.gif'\n",
    "make_animation(gif_filepath)"
   ]
  },
  {
   "cell_type": "markdown",
   "metadata": {},
   "source": [
    "# Calcul de l'EKE et climatologies saisonnières"
   ]
  },
  {
   "cell_type": "raw",
   "metadata": {},
   "source": [
    "Choix de la saison : JJA ou DJF."
   ]
  },
  {
   "cell_type": "code",
   "execution_count": null,
   "metadata": {},
   "outputs": [],
   "source": [
    "season_name=input(\"DJF or JJA ? \")"
   ]
  },
  {
   "cell_type": "raw",
   "metadata": {},
   "source": [
    "Index de dates."
   ]
  },
  {
   "cell_type": "code",
   "execution_count": null,
   "metadata": {
    "scrolled": false
   },
   "outputs": [],
   "source": [
    "# Période totale des données\n",
    "d1=fu.time.values[0]\n",
    "d2=fu.time.values[-1]\n",
    "dates = pd.date_range(d1, d2, freq='D')\n",
    "print(dates)\n",
    "\n",
    "# Select Season\n",
    "if season_name == 'DJF':\n",
    "    months=np.any([dates.month==12,dates.month==1,dates.month==2],axis=0)\n",
    "if season_name == 'JJA':\n",
    "    months=np.any([dates.month==6,dates.month==7,dates.month==8],axis=0)\n",
    "\n",
    "dates2=dates[months]\n",
    "print(dates2)"
   ]
  },
  {
   "cell_type": "raw",
   "metadata": {},
   "source": [
    "Données saisonnières de u et v (filtrées 2-8j)."
   ]
  },
  {
   "cell_type": "code",
   "execution_count": null,
   "metadata": {
    "scrolled": false
   },
   "outputs": [],
   "source": [
    "uprime_season = u2_10.sel(time=dates2)\n",
    "vprime_season = v2_10.sel(time=dates2)\n",
    "print(uprime_season)"
   ]
  },
  {
   "cell_type": "markdown",
   "metadata": {},
   "source": [
    "## Calcul de l'EKE sur les saisons et de la moyenne saisonnière."
   ]
  },
  {
   "cell_type": "markdown",
   "metadata": {},
   "source": [
    "<div class=\"alert alert-danger\">\n",
    "<p>Calculer l'énergie cinétique des perturbations (eke) à partir des données saisonnières filtrées dans la gamme 2-10j (uprime_season et vprime_season). </p>\n",
    "<p>Calculer la moyenne saisonnière de l'énergie cinétique des pertubations (eke_mean). Attention à ne pas prendre en compte les valeurs manquantes liées au filtrage temporel (skipna = True). </p>\n",
    "</div>"
   ]
  },
  {
   "cell_type": "code",
   "execution_count": null,
   "metadata": {
    "scrolled": false
   },
   "outputs": [],
   "source": [
    "eke=\n",
    "eke_mean="
   ]
  },
  {
   "cell_type": "raw",
   "metadata": {},
   "source": [
    "Climatologie de l'EKE."
   ]
  },
  {
   "cell_type": "code",
   "execution_count": null,
   "metadata": {
    "scrolled": false
   },
   "outputs": [],
   "source": [
    "if season_name == 'DJF':\n",
    "    levels=np.arange(40,155,5)\n",
    "    \n",
    "if season_name == 'JJA':\n",
    "    levels=np.arange(40,155,5)\n",
    "    #levels=np.arange(40,125,5)\n",
    "    \n",
    "proj=ccrs.PlateCarree(central_longitude=180)\n",
    "\n",
    "def plot_background(ax):\n",
    "    ax.coastlines()\n",
    "    ax.gridlines(draw_labels=True)\n",
    "    ax.set_global()\n",
    "    return ax\n",
    "\n",
    "fig = plt.figure(figsize=(15., 12.))\n",
    "\n",
    "ax = fig.add_subplot(111, projection=proj)\n",
    "plot_background(ax)\n",
    "ax.set_title('Eddy (2-8 day filtered) Kinetic Energy (EKE) at 300 hPa : '+season_name, fontsize=10)\n",
    "cf = ax.contourf(lon, lat, eke_mean, levels, transform=ccrs.PlateCarree(), cmap='YlOrRd', extend='max')\n",
    "cb = fig.colorbar(cf, orientation='horizontal', aspect=65, shrink=1, pad=0.1, extendrect='True')\n",
    "cb.set_label('$m^2s^{-2}$', size='small')\n",
    "\n",
    "figname='./figs/eke_'+season_name\n",
    "fig.savefig(figname+'.png')\n",
    "plt.show()"
   ]
  }
 ],
 "metadata": {
  "kernelspec": {
   "display_name": "Python 3",
   "language": "python",
   "name": "python3"
  },
  "language_info": {
   "codemirror_mode": {
    "name": "ipython",
    "version": 3
   },
   "file_extension": ".py",
   "mimetype": "text/x-python",
   "name": "python",
   "nbconvert_exporter": "python",
   "pygments_lexer": "ipython3",
   "version": "3.7.11"
  }
 },
 "nbformat": 4,
 "nbformat_minor": 1
}
