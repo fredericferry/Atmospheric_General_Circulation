{
 "cells": [
  {
   "cell_type": "markdown",
   "metadata": {},
   "source": [
    "# Circulation méridienne de Hadley\n",
    "\n",
    "**Auteur : FERRY Frédéric (DESR/ENM/C3M) - septembre 2021\n",
    "\n",
    "Les fichiers de données au format netcdf (moyennes mensuelles NCEP) doivent être récupérés par FTP (FileZilla) et placés dans le répertoire data :\n",
    "\n",
    "Vent méridien, vitesse verticale :\n",
    "- ftp://ftp.cdc.noaa.gov/Datasets/ncep.reanalysis.derived/pressure/vwnd.mon.mean.nc\n",
    "- ftp://ftp.cdc.noaa.gov/Datasets/ncep.reanalysis.derived/pressure/omega.mon.mean.nc"
   ]
  },
  {
   "cell_type": "code",
   "execution_count": null,
   "metadata": {},
   "outputs": [],
   "source": [
    "%matplotlib inline\n",
    "\n",
    "import os\n",
    "\n",
    "import xarray as xr\n",
    "import numpy as np\n",
    "\n",
    "import matplotlib.pyplot as plt\n",
    "from mpl_toolkits.axes_grid1 import AxesGrid\n",
    "import matplotlib.path as mpath\n",
    "\n",
    "import IPython.display as IPdisplay, matplotlib.font_manager as fm\n",
    "from PIL import Image\n",
    "import glob\n",
    "\n",
    "from scipy.integrate import cumtrapz\n",
    "\n",
    "import warnings\n",
    "warnings.filterwarnings('ignore')"
   ]
  },
  {
   "cell_type": "markdown",
   "metadata": {},
   "source": [
    "# Traitement des données de vent méridien et de vitesse verticale"
   ]
  },
  {
   "cell_type": "raw",
   "metadata": {},
   "source": [
    "Lecture des données."
   ]
  },
  {
   "cell_type": "code",
   "execution_count": null,
   "metadata": {
    "scrolled": false
   },
   "outputs": [],
   "source": [
    "diri=\"./data/\"\n",
    "fv    = xr.open_dataset(diri+\"vwnd.mon.mean.nc\")\n",
    "fw    = xr.open_dataset(diri+\"omega.mon.mean.nc\")\n",
    "print(fv)\n",
    "print(fw)"
   ]
  },
  {
   "cell_type": "raw",
   "metadata": {},
   "source": [
    "Choix des années pour les calculs de climatologies."
   ]
  },
  {
   "cell_type": "code",
   "execution_count": null,
   "metadata": {},
   "outputs": [],
   "source": [
    "year1=input(\"année de départ : \")\n",
    "year2=input(\"année de fin : \")"
   ]
  },
  {
   "cell_type": "raw",
   "metadata": {},
   "source": [
    "Lecture des données pour la période retenue (entre les niveaux verticaux 1000hPa-100hPa)."
   ]
  },
  {
   "cell_type": "code",
   "execution_count": null,
   "metadata": {
    "scrolled": true
   },
   "outputs": [],
   "source": [
    "fv    = xr.open_dataset(diri+\"vwnd.mon.mean.nc\").sel(time=slice(year1,year2)).sel(level=slice(1000,100))\n",
    "fw    = xr.open_dataset(diri+\"omega.mon.mean.nc\").sel(time=slice(year1,year2)).sel(level=slice(1000,100))\n",
    "\n",
    "lat  = fv.lat.values\n",
    "lev = fv.level.values\n",
    "\n",
    "print(lat)\n",
    "print(lev)"
   ]
  },
  {
   "cell_type": "raw",
   "metadata": {},
   "source": [
    "Calcul des climatologies mensuelles, saisonnières et annuelles des variables + moyenne zonale."
   ]
  },
  {
   "cell_type": "code",
   "execution_count": null,
   "metadata": {
    "scrolled": false
   },
   "outputs": [],
   "source": [
    "seasons=['DJF','JJA','MAM','SON']\n",
    "months=['January','February','March','April', 'May', 'June', 'July',\n",
    "        'August', 'September', 'October', 'November', 'December']\n",
    "\n",
    "# moyenne saisonnière\n",
    "fv_mean = fv.groupby('time.season').mean('time')\n",
    "fw_mean = fw.groupby('time.season').mean('time')\n",
    "v_season = fv_mean['vwnd']\n",
    "w_season = fw_mean['omega']\n",
    "\n",
    "# moyenne mensuelle\n",
    "fv_mean_month = fv.groupby('time.month').mean('time')\n",
    "v_month = fv_mean_month['vwnd']\n",
    "\n",
    "# moyenne zonale\n",
    "vz_season = v_season.mean(axis=3)\n",
    "wz_season = w_season.mean(axis=3)\n",
    "vz_month = v_month.mean(axis=3)\n",
    "\n",
    "# moyenne annuelle\n",
    "vz_annual=np.mean(vz_season, axis=0)\n",
    "wz_annual=np.mean(wz_season, axis=0)\n",
    "\n",
    "print(vz_annual)\n",
    "print(vz_month)\n",
    "print(vz_annual)"
   ]
  },
  {
   "cell_type": "markdown",
   "metadata": {},
   "source": [
    "# Tracés"
   ]
  },
  {
   "cell_type": "raw",
   "metadata": {},
   "source": [
    "Echelles de valeurs."
   ]
  },
  {
   "cell_type": "code",
   "execution_count": null,
   "metadata": {
    "scrolled": true
   },
   "outputs": [],
   "source": [
    "levels_wz = np.arange(-0.05,0.052,0.002)\n",
    "levels_vz =[-7.0, -6.5, -6.0, -5.5, -5.0, -4.5, -4.0, -3.5, -3.0,\n",
    " -2.5, -2.0, -1.5, -1.0, -0.5, 0.5, 1.0, 1.5, 2.0, 2.5,\n",
    "  3.0, 3.5, 4.0, 4.5, 5.0, 5.5, 6.0, 6.5, 7]"
   ]
  },
  {
   "cell_type": "raw",
   "metadata": {},
   "source": [
    "Fonction pour les coupes verticales-méridiennes en moyenne zonale."
   ]
  },
  {
   "cell_type": "code",
   "execution_count": null,
   "metadata": {
    "scrolled": false
   },
   "outputs": [],
   "source": [
    "def plot_zonal_mean(ax):\n",
    "    ax.set_yscale('symlog')\n",
    "    ax.set_yticklabels(np.arange(1000, 0, -100))\n",
    "    ax.set_ylim(1000, 100)\n",
    "    ax.set_yticks(np.arange(1000, 0, -100))  \n",
    "    ax.set_xticklabels(np.arange(-90, 100, 10))\n",
    "    ax.set_xticks(np.arange(-90, 100, 10)) \n",
    "    return ax"
   ]
  },
  {
   "cell_type": "raw",
   "metadata": {},
   "source": [
    "Coupe verticale du vent méridien et de la vitesse verticale (moyenne anuelle). "
   ]
  },
  {
   "cell_type": "code",
   "execution_count": null,
   "metadata": {
    "scrolled": false
   },
   "outputs": [],
   "source": [
    "lat1=int(input(\"latitude sud pour la coupe en moyenne zonale :\"))\n",
    "lat2=int(input(\"latitude nord pour la coupe en moyenne zonale :\"))\n",
    "\n",
    "fig = plt.figure(figsize=(15., 8.))\n",
    "ax = fig.add_subplot(1, 1, 1)\n",
    "fig.suptitle('Meridional wind (m/s) and vertical velocity : NCEP '+year1+'-'+year2, fontsize=16)\n",
    "\n",
    "ax.set_title('Annual mean', fontsize=14)\n",
    "plot_zonal_mean(ax)\n",
    "ax.set_xlim(lat1, lat2)\n",
    "cf = ax.contourf(lat, lev, wz_annual[:,:], levels_wz, cmap='seismic', extend='both')\n",
    "c = ax.contour(lat, lev, vz_annual[:,:], levels_vz, colors='black', linewidths=1)\n",
    "plt.clabel(c, levels_vz, fmt='%1.1f')\n",
    "\n",
    "cb = fig.colorbar(cf, orientation='horizontal', aspect=65, shrink=0.5, pad=0.05)\n",
    "cb.set_label('Pa/s', size='small')\n",
    "\n",
    "figname='./figs/wv_zmean_annual_climatology'\n",
    "fig.savefig(figname+'.png',bbox_inches='tight')\n",
    "\n",
    "plt.show()"
   ]
  },
  {
   "cell_type": "raw",
   "metadata": {},
   "source": [
    "Coupe verticale du vent méridien et de la vitesse verticale (DJF, MAM, JJA, SON). "
   ]
  },
  {
   "cell_type": "code",
   "execution_count": null,
   "metadata": {
    "scrolled": false
   },
   "outputs": [],
   "source": [
    "fig, axarr = plt.subplots(nrows=2, ncols=2, figsize=(15, 7), constrained_layout=True)\n",
    "axlist = axarr.flatten()\n",
    "fig.suptitle('Vertical velocity (Pa/s) and meridional wind (m/s) - zonal mean : NCEP '+year1+'-'+year2, fontsize=16)\n",
    "\n",
    "for i, ax in enumerate(axlist):\n",
    "\t\n",
    " ax.set_title(seasons[i], fontsize=14)\n",
    " plot_zonal_mean(ax)\n",
    " ax.set_xlim(lat1, lat2)\n",
    " cf = ax.contourf(lat, lev, wz_season[i,:,:], levels_wz, cmap='seismic', extend='both')\n",
    " c = ax.contour(lat, lev, vz_season[i,:,:], levels_vz, colors='black', linewidths=1)\n",
    " plt.clabel(c, levels_vz, fmt='%1.1f')\n",
    "\n",
    "cb = fig.colorbar(cf, ax=axlist[axlist.shape[0]-1], orientation='horizontal', shrink=0.74, pad=0)\n",
    "cb.set_label('Pa/s', size='small')\n",
    "\n",
    "figname='./figs/wv_zmean_climatology'\n",
    "fig.savefig(figname+'.png',bbox_inches='tight')\n",
    "\n",
    "plt.show()"
   ]
  },
  {
   "cell_type": "markdown",
   "metadata": {},
   "source": [
    "# Diagnostic de la fonction de courant méridienne\n",
    "\n",
    "Le flux élémentaire de masse vers le nord (unité $kg.s^{-1}$) à travers une ligne de latitude $\\phi$ s'écrit :\n",
    "\n",
    "$$ d\\psi = a \\cos\\phi d\\lambda ~ v ~ \\frac{dp}{g} $$\n",
    "\n",
    "\n",
    "$a$ : rayon de la Terre ; $g$ : accélération de la gravité\n",
    "\n",
    "\n",
    "Ainsi, le flux de masse vers le nord total à travers $\\phi$ au-dessus d'un niveau de pression $p$ est donné par :\n",
    "\n",
    "\\begin{align*} \n",
    "\\psi(p) &= \\int_0^{2\\pi} \\int_0^p a \\cos\\phi d\\lambda ~ v ~ \\frac{dp}{g} \\\\\n",
    "&= 2\\pi a \\frac{\\cos\\phi}{g} \\int_0^p [v] dp \n",
    "\\end{align*}\n",
    "\n",
    "L'équation de continuité (conservation de la masse) en coordonnée pression et en moyenne zonale s'écrit :\n",
    "\n",
    "$$ \\frac{1}{a \\cos\\phi} \\frac{\\partial}{\\partial \\phi} \\left( [\\overline{v}] \\cos\\phi \\right) + \\frac{\\partial [\\overline{\\omega}]}{\\partial p} = 0 $$\n",
    "\n",
    "Ainsi, le vecteur de composantes $[\\overline{v}], [\\overline{\\omega}]$ est non-divergent. On peut donc l'interpréter par une fonction de courant scalaire $\\psi$, la **fonction de courant de transport de masse**:\n",
    "\n",
    "\\begin{align*}\n",
    "2\\pi a \\cos\\phi [\\overline{v}] &= \\frac{\\partial \\psi}{\\partial p} \\\\\n",
    "2\\pi a^2 \\cos\\phi \\left( [\\overline{\\omega}]\\right) = -\\frac{\\partial \\psi}{\\partial \\phi}\n",
    "\\end{align*}\n",
    "\n",
    "cohérente avec la définition de $\\psi$ ci dessus\n",
    "\n",
    "On peut donc calculer et tracer la fonction de courant uniquement à partir de données de vent méridien à partir de la formule :\n",
    "\n",
    "$$ \\psi(lev,lat) = \\frac{2\\pi a \\cos\\phi}{g} \\int_0^p [\\overline{v}](lev,lat) dp $$\n",
    "\n",
    "Les contours de $\\psi$ peuvent être interprétés comme des isolignes de la **circulation méridienne moyenne**, c'est-à-dire, la circulation de masse en moyenne zonale et temporelle dans un plan latitude-pression."
   ]
  },
  {
   "cell_type": "markdown",
   "metadata": {},
   "source": [
    "<div class=\"alert alert-danger\">\n",
    "<b>Utiliser la fonction integrate.cumtrapz de scipy ou la méthode cumulative_integrate de xarray pour implémenter le calcul de la fonction de courant méridienne $\\psi$.</b>\n",
    "    \n",
    "- https://docs.xarray.dev/en/stable/generated/xarray.Dataset.html\n",
    "- https://docs.scipy.org/doc/scipy-1.4.1/reference/generated/scipy.integrate.cumtrapz.html\n",
    "    \n",
    "<br>\n",
    "    \n",
    "$\\psi(lev,lat)=\\frac{2\\pi r_e cos(lat)}{g}\\int_0^P [v](lev,lat)dP$\n",
    "\n",
    "</div>"
   ]
  },
  {
   "cell_type": "raw",
   "metadata": {},
   "source": [
    "Calcul de la fonction de courant méridienne."
   ]
  },
  {
   "cell_type": "code",
   "execution_count": null,
   "metadata": {
    "scrolled": true
   },
   "outputs": [],
   "source": []
  },
  {
   "cell_type": "markdown",
   "metadata": {},
   "source": [
    "# Tracés"
   ]
  },
  {
   "cell_type": "raw",
   "metadata": {},
   "source": [
    "Echelles de valeurs"
   ]
  },
  {
   "cell_type": "code",
   "execution_count": null,
   "metadata": {
    "scrolled": true
   },
   "outputs": [],
   "source": [
    "levels_psi = np.arange(-18,19,1)\n",
    "levels_psi_an = np.arange(-10,11,1)\n",
    "levels_psi2 =[-18, -17, -16, -15, -14, -13, -12, -11, -10, -9, -8, -7,\n",
    " -6, -5, -4, -3, -2, -1, 1, 2, 3, 4,\n",
    "  5, 6, 7, 8, 9, 10, 11, 12, 13, 14, 15, 16, 17, 18]"
   ]
  },
  {
   "cell_type": "raw",
   "metadata": {},
   "source": [
    "Coupe verticale de la fonction de courant méridienne (moyenne anuelle). "
   ]
  },
  {
   "cell_type": "code",
   "execution_count": null,
   "metadata": {
    "scrolled": false
   },
   "outputs": [],
   "source": [
    "lat1=int(input(\"latitude sud pour la coupe en moyenne zonale :\"))\n",
    "lat2=int(input(\"latitude nord pour la coupe en moyenne zonale :\"))\n",
    "\n",
    "fig = plt.figure(figsize=(15., 8.))\n",
    "ax = fig.add_subplot(1, 1, 1)\n",
    "fig.suptitle('Mass meridional streamfunction : NCEP '+year1+'-'+year2, fontsize=16)\n",
    "\n",
    "ax.set_title('Annual mean', fontsize=14)\n",
    "plot_zonal_mean(ax)\n",
    "ax.set_xlim(lat1, lat2)\n",
    "cf = ax.contourf(lat, lev, psi_annual[:,:], levels_psi_an, cmap='PuOr_r', extend='both')\n",
    "c = ax.contour(lat, lev, psi_annual[:,:], levels_psi2, colors='black', linewidths=1)\n",
    "plt.clabel(c, levels_psi2, fmt='%2.1i')\n",
    "\n",
    "cb = fig.colorbar(cf, orientation='horizontal', aspect=65, shrink=0.5, pad=0.05)\n",
    "cb.set_label('10$^{10}$ kg/s', size='small')\n",
    "\n",
    "figname='./figs/psi_zmean_annual_climatology'\n",
    "fig.savefig(figname+'.png',bbox_inches='tight')\n",
    "\n",
    "plt.show()"
   ]
  },
  {
   "cell_type": "raw",
   "metadata": {},
   "source": [
    "Coupe verticale de la fonction de courant méridienne (DJF, MAM, JJA, SON). "
   ]
  },
  {
   "cell_type": "code",
   "execution_count": null,
   "metadata": {
    "scrolled": false
   },
   "outputs": [],
   "source": [
    "fig, axarr = plt.subplots(nrows=2, ncols=2, figsize=(15, 7), constrained_layout=True)\n",
    "axlist = axarr.flatten()\n",
    "fig.suptitle('Mass meridional streamfunction : NCEP '+year1+'-'+year2, fontsize=16)\n",
    "\n",
    "for i, ax in enumerate(axlist):\n",
    "    ax.set_title(seasons[i], fontsize=14)\n",
    "    plot_zonal_mean(ax)\n",
    "    ax.set_xlim(lat1, lat2)\n",
    "    cf = ax.contourf(lat, lev, psi_season[i,:,:], levels_psi, cmap='PuOr_r', extend='both')\n",
    "    c = ax.contour(lat, lev, psi_season[i,:,:], levels_psi2, colors='black', linewidths=1)\n",
    "    plt.clabel(c, levels_psi2, fmt='%2.1i')\n",
    "\n",
    "cb = fig.colorbar(cf, orientation='horizontal', shrink=0.74, pad=0)\n",
    "cb.set_label('10$^{10}$ kg/s', size='small')\n",
    "\n",
    "figname='./figs/psi_zmean_climatology'\n",
    "fig.savefig(figname+'.png',bbox_inches='tight')\n",
    "\n",
    "plt.show()"
   ]
  },
  {
   "cell_type": "raw",
   "metadata": {},
   "source": [
    "Coupe verticale de la fonction de courant méridienne (cartes mensuelles). "
   ]
  },
  {
   "cell_type": "code",
   "execution_count": null,
   "metadata": {
    "scrolled": false
   },
   "outputs": [],
   "source": [
    "for i in range(12): \n",
    "    #print(months[i])\n",
    "    fig = plt.figure(figsize=(15., 8.))\n",
    "    fig.suptitle('Mass meridional streamfunction : NCEP '+year1+'-'+year2, fontsize=16)\n",
    "    ax = fig.add_subplot(1, 1, 1)\n",
    "    ax.set_title(months[i], fontsize=14)\n",
    "    plot_zonal_mean(ax)\n",
    "    ax.set_xlim(lat1, lat2)\n",
    "    \n",
    "    cf = ax.contourf(lat, lev, psi_month[i,:,:], levels_psi, cmap='PuOr_r', extend='both')\n",
    "    c = ax.contour(lat, lev, psi_month[i,:,:], levels_psi2, colors='black', linewidths=1)\n",
    "    plt.clabel(c, levels_psi2, fmt='%2.1i')\n",
    "    cb = fig.colorbar(cf, orientation='horizontal', aspect=65, shrink=0.5, pad=0.05)\n",
    "    cb.set_label('10$^{10}$ kg/s', size='small')\n",
    "    \n",
    "    if i<10:\n",
    "        figname='./anim/psi_zmean_monclim_0'+str(i)\n",
    "    if i>=10:\n",
    "        figname='./anim/psi_zmean_monclim_'+str(i)    \n",
    "    fig.savefig(figname+'.png',bbox_inches='tight')\n",
    "    plt.close()"
   ]
  },
  {
   "cell_type": "raw",
   "metadata": {},
   "source": [
    "Fonction de création d'une animation à partir des png présents dans le dossier anim."
   ]
  },
  {
   "cell_type": "code",
   "execution_count": null,
   "metadata": {
    "scrolled": false
   },
   "outputs": [],
   "source": [
    "def make_animation():\n",
    "    nbimages=12\n",
    "    # create a tuple of display durations, one for each frame\n",
    "    first_last = 1000 #show the first and last frames for 100 ms\n",
    "    standard_duration = 1000 #show all other frames for 5 ms\n",
    "    durations = tuple([first_last] + [standard_duration] * (nbimages - 2) + [first_last])\n",
    "    # load all the static images into a list\n",
    "    images = [Image.open(image) for image in sorted(glob.glob('{}/*.png'.format('./anim/')))]\n",
    "    # save as an animated gif\n",
    "    gif = images[0]\n",
    "    gif.info['duration'] = durations #ms per frame\n",
    "    gif.info['loop'] = 0 #how many times to loop (0=infinite)\n",
    "    gif.save(fp=gif_filepath, format='gif', save_all=True, append_images=images[1:])\n",
    "    # verify that the number of frames in the gif equals the number of image files and durations\n",
    "    Image.open(gif_filepath).n_frames == len(images) == len(durations)\n",
    "    cmd = 'rm ./anim/*.png'\n",
    "    os.system(cmd)\n",
    "    return Image"
   ]
  },
  {
   "cell_type": "raw",
   "metadata": {},
   "source": [
    "Réalisation de l'animation au pas de temps mensuel."
   ]
  },
  {
   "cell_type": "code",
   "execution_count": null,
   "metadata": {
    "scrolled": false
   },
   "outputs": [],
   "source": [
    "gif_filepath = './anim/psi_zmean_monclim.gif'\n",
    "make_animation()\n",
    "IPdisplay.Image(url=gif_filepath)"
   ]
  }
 ],
 "metadata": {
  "kernelspec": {
   "display_name": "Python 3",
   "language": "python",
   "name": "python3"
  },
  "language_info": {
   "codemirror_mode": {
    "name": "ipython",
    "version": 3
   },
   "file_extension": ".py",
   "mimetype": "text/x-python",
   "name": "python",
   "nbconvert_exporter": "python",
   "pygments_lexer": "ipython3",
   "version": "3.7.11"
  }
 },
 "nbformat": 4,
 "nbformat_minor": 1
}
