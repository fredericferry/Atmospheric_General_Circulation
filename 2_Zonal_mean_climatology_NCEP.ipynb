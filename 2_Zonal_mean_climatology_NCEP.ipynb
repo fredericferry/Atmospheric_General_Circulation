{
 "cells": [
  {
   "cell_type": "markdown",
   "metadata": {},
   "source": [
    "# Climatologie en moyenne zonale de l'atmosphère\n",
    "\n",
    "**Auteur : FERRY Frédéric (DESR/ENM/C3M) - septembre 2022**\n",
    "\n",
    "Les fichiers de données au format netcdf (moyennes mensuelles NCEP/NCAR) doivent être téléchargés et placés dans le répertoire data :\n",
    "\n",
    "- Température, vent zonal, vent méridien, vitesse verticale, humidité spécifique :\n",
    "https://downloads.psl.noaa.gov/Datasets/ncep.reanalysis/Monthlies/pressure/\n",
    "\n",
    "- Précipitations :\n",
    "https://downloads.psl.noaa.gov/Datasets/gpcp/"
   ]
  },
  {
   "cell_type": "code",
   "execution_count": null,
   "metadata": {},
   "outputs": [],
   "source": [
    "import xarray as xr\n",
    "import numpy as np\n",
    "import netCDF4\n",
    "\n",
    "import matplotlib.pyplot as plt\n",
    "from matplotlib.ticker import ScalarFormatter"
   ]
  },
  {
   "cell_type": "markdown",
   "metadata": {},
   "source": [
    "# Traitement des données"
   ]
  },
  {
   "cell_type": "raw",
   "metadata": {},
   "source": [
    "Choix des années pour les calculs de climatologies."
   ]
  },
  {
   "cell_type": "code",
   "execution_count": null,
   "metadata": {},
   "outputs": [],
   "source": [
    "year1='1990'\n",
    "year2='2019'"
   ]
  },
  {
   "cell_type": "raw",
   "metadata": {},
   "source": [
    "Lecture des données."
   ]
  },
  {
   "cell_type": "code",
   "execution_count": null,
   "metadata": {
    "scrolled": false
   },
   "outputs": [],
   "source": [
    "diri=\"./monthly_ncep/\"\n",
    "ft    = xr.open_dataset(diri+\"air.mon.mean.nc\").sel(time=slice(year1,year2))+273.15\n",
    "fu    = xr.open_dataset(diri+\"uwnd.mon.mean.nc\").sel(time=slice(year1,year2))\n",
    "fv    = xr.open_dataset(diri+\"vwnd.mon.mean.nc\").sel(time=slice(year1,year2))\n",
    "fw    = xr.open_dataset(diri+\"omega.mon.mean.nc\").sel(time=slice(year1,year2))\n",
    "fq    = xr.open_dataset(diri+\"shum.mon.mean.nc\").sel(time=slice(year1,year2))/1000\n",
    "fpr = xr.open_dataset(diri+\"precip.mon.mean.nc\").sel(time=slice(year1,year2))\n",
    "\n",
    "# Latitudes, niveaux verticaux\n",
    "lat  = ft.lat.values\n",
    "lats=fpr.lat.values\n",
    "lev = ft.level.values\n",
    "levw = fw.level.values\n",
    "levq = fq.level.values\n",
    "\n",
    "print(ft)\n",
    "print(fw)"
   ]
  },
  {
   "cell_type": "raw",
   "metadata": {},
   "source": [
    "Calcul des climatologies et extraction des variables."
   ]
  },
  {
   "cell_type": "code",
   "execution_count": null,
   "metadata": {
    "scrolled": true
   },
   "outputs": [],
   "source": [
    "seasons=['DJF','JJA','MAM','SON']\n",
    "months=['Jan','Feb','Mar','Apr', 'May', 'Jun', 'Jul', 'Aug', 'Sep', 'Oct', 'Nov', 'Dec']\n",
    "\n",
    "ft_mean = ft.groupby('time.season').mean('time')\n",
    "fu_mean = fu.groupby('time.season').mean('time')\n",
    "fv_mean = fv.groupby('time.season').mean('time')\n",
    "fw_mean = fw.groupby('time.season').mean('time')\n",
    "fq_mean = fq.groupby('time.season').mean('time')\n",
    "fpr_mean = fpr.groupby('time.season').mean('time')\n",
    "\n",
    "t0 = ft_mean['air']\n",
    "u0 = fu_mean['uwnd']\n",
    "v0 = fv_mean['vwnd']\n",
    "w = fw_mean['omega']\n",
    "q0 = fq_mean['shum']*1000\n",
    "pr0 = fpr_mean['precip']"
   ]
  },
  {
   "cell_type": "markdown",
   "metadata": {},
   "source": [
    "<div class=\"alert alert-danger\">\n",
    "<p>Coder le diagnostic de la température potentielle à partir du tableau de température t0 et du tableau de pression P_array</p>\n",
    "</div>"
   ]
  },
  {
   "cell_type": "raw",
   "metadata": {},
   "source": [
    "Diagnostic de la température potentielle."
   ]
  },
  {
   "cell_type": "code",
   "execution_count": null,
   "metadata": {
    "scrolled": true
   },
   "outputs": [],
   "source": [
    "print(t0.shape) # saison,niveau,lat,lon\n",
    "P_array=lev[np.newaxis,:,np.newaxis,np.newaxis]*100\n",
    "theta="
   ]
  },
  {
   "cell_type": "raw",
   "metadata": {},
   "source": [
    "Calcul des moyennnes zonales."
   ]
  },
  {
   "cell_type": "code",
   "execution_count": null,
   "metadata": {
    "scrolled": true
   },
   "outputs": [],
   "source": [
    "# Moyennes zonales\n",
    "tz = t0.mean('lon')\n",
    "uz = u0.mean('lon')\n",
    "vz = v0.mean('lon')\n",
    "wz = w.mean('lon')\n",
    "qz = q0.mean('lon')\n",
    "prz=pr0.mean('lon')\n",
    "thetaz = theta.mean('lon')\n",
    "print(tz.shape) # saison,niveau,lat\n",
    "\n",
    "# Moyennes annuelles\n",
    "uz_annual=uz.mean('season')\n",
    "vz_annual=vz.mean('season')\n",
    "wz_annual=wz.mean('season')\n",
    "prz_annual=prz.mean('season')\n",
    "\n",
    "print(uz_annual.shape) # level,lat"
   ]
  },
  {
   "cell_type": "markdown",
   "metadata": {},
   "source": [
    "# Fonctions graphiques"
   ]
  },
  {
   "cell_type": "raw",
   "metadata": {},
   "source": [
    "Fonctions pour les coupes verticales-méridiennes en moyenne zonale."
   ]
  },
  {
   "cell_type": "code",
   "execution_count": null,
   "metadata": {
    "scrolled": false
   },
   "outputs": [],
   "source": [
    "# on s'arrête à 100hPa sur la varticale\n",
    "def plot_zonal_mean(ax):\n",
    "    ax.set_yscale('symlog')\n",
    "    ax.set_ylim(1000, 100)\n",
    "    ax.set_xticks(np.arange(-90, 120, 30))\n",
    "    ax.set_yticks(np.arange(1000, 0, -100))\n",
    "    ax.tick_params(labelsize=8)\n",
    "    ax.yaxis.set_major_formatter(ScalarFormatter())\n",
    "    ax.set_xlabel('Latitude')\n",
    "    ax.set_ylabel('Pressure level')\n",
    "    return ax\n",
    "\n",
    "# on s'arrête à 10hPa sur la verticale\n",
    "def plot_zonal_mean2(ax):\n",
    "    ax.set_yscale('symlog')\n",
    "    ax.set_ylim(1000, 10)\n",
    "    ax.set_xticks(np.arange(-90, 120, 30))\n",
    "    ax.set_yticks(np.arange(1000, 0, -100))\n",
    "    ax.tick_params(labelsize=8)\n",
    "    ax.yaxis.set_major_formatter(ScalarFormatter())\n",
    "    ax.set_xlabel('Latitude')\n",
    "    ax.set_ylabel('Pressure level')\n",
    "    return ax"
   ]
  },
  {
   "cell_type": "raw",
   "metadata": {},
   "source": [
    "Echelles de valeurs."
   ]
  },
  {
   "cell_type": "code",
   "execution_count": null,
   "metadata": {
    "scrolled": true
   },
   "outputs": [],
   "source": [
    "levels_tz = np.arange(180,320,10)\n",
    "levels_thetaz1 = np.arange(200,920,20)\n",
    "levels_thetaz2 = np.arange(200,510,10)\n",
    "levels_uz1 = np.arange(-40,42.5,2.5)\n",
    "levels_uz2 = np.arange(-50,52.5,2.5)\n",
    "levels_uz_an = np.arange(0,55,5)\n",
    "levels_wz = np.arange(-0.05,0.052,0.002)\n",
    "levels_vz =[-7.0, -6.5, -6.0, -5.5, -5.0, -4.5, -4.0, -3.5, -3.0,\n",
    " -2.5, -2.0, -1.5, -1.0, -0.5, 0.5, 1.0, 1.5, 2.0, 2.5,\n",
    "  3.0, 3.5, 4.0, 4.5, 5.0, 5.5, 6.0, 6.5, 7]\n",
    "levels_qz = np.arange(0,20,1)"
   ]
  },
  {
   "cell_type": "markdown",
   "metadata": {},
   "source": [
    "# Température"
   ]
  },
  {
   "cell_type": "raw",
   "metadata": {},
   "source": [
    "Coupe verticale-méridienne en moyenne zonale de la température (DJF, JJA)."
   ]
  },
  {
   "cell_type": "code",
   "execution_count": null,
   "metadata": {
    "scrolled": false
   },
   "outputs": [],
   "source": [
    "fig, axarr = plt.subplots(nrows=2, ncols=1, figsize=(15, 15), constrained_layout=True)\n",
    "axlist = axarr.flatten()\n",
    "fig.suptitle('Temperature - zonal mean : NCEP '+year1+'-'+year2, fontsize=16)\n",
    "\n",
    "for i, ax in enumerate(axlist):\n",
    "    ax.set_title(seasons[i], fontsize=14)\n",
    "    plot_zonal_mean2(ax)\n",
    "    cf = ax.contourf(lat, lev, tz[i,:,:], levels_tz, cmap='jet', extend='both')\n",
    "    c = ax.contour(lat, lev, tz[i,:,:], levels_tz, colors='black', linewidths=1)\n",
    "    plt.clabel(c, levels_tz, fmt='%1.2i')\n",
    " \n",
    "cb = fig.colorbar(cf, ax=axlist[axlist.shape[0]-1], orientation='horizontal', shrink=0.74, pad=0)\n",
    "cb.set_label('mgp', size='small')\n",
    "\n",
    "figname='./figs/t_zmean_climatology'\n",
    "plt.savefig(figname+'.png',bbox_inches='tight')\n",
    "\n",
    "plt.show()"
   ]
  },
  {
   "cell_type": "markdown",
   "metadata": {},
   "source": [
    "# Vent zonal"
   ]
  },
  {
   "cell_type": "raw",
   "metadata": {},
   "source": [
    "Coupe verticale-méridienne en moyenne zonale du vent zonal (DJF, JJA) dans la troposphère."
   ]
  },
  {
   "cell_type": "code",
   "execution_count": null,
   "metadata": {
    "scrolled": false
   },
   "outputs": [],
   "source": [
    "fig, axarr = plt.subplots(nrows=2, ncols=1, figsize=(15, 15), constrained_layout=True)\n",
    "axlist = axarr.flatten()\n",
    "fig.suptitle('Zonal wind - zonal mean : NCEP '+year1+'-'+year2, fontsize=16)\n",
    "\n",
    "for i, ax in enumerate(axlist):\n",
    "    ax.set_title(seasons[i], fontsize=14)\n",
    "    plot_zonal_mean(ax)\n",
    "    cf = ax.contourf(lat, lev, uz[i,:,:], levels_uz1, cmap='jet', extend='both')\n",
    "    c = ax.contour(lat, lev, uz[i,:,:], levels_uz1, colors='black', linewidths=1)\n",
    "    plt.clabel(c, levels_uz1, fmt='%2.1i')\n",
    " \n",
    "cb = fig.colorbar(cf, ax=axlist[axlist.shape[0]-1], orientation='horizontal', shrink=0.74, pad=0)\n",
    "cb.set_label('m/s', size='small')\n",
    "\n",
    "figname='./figs/u_zmean_climatology'\n",
    "plt.savefig(figname+'.png',bbox_inches='tight')\n",
    "\n",
    "plt.show()"
   ]
  },
  {
   "cell_type": "raw",
   "metadata": {},
   "source": [
    "Coupe verticale-méridienne en moyenne zonale du vent zonal (DJF, JJA) dans la troposphère + stratosphère."
   ]
  },
  {
   "cell_type": "code",
   "execution_count": null,
   "metadata": {
    "scrolled": false
   },
   "outputs": [],
   "source": [
    "fig, axarr = plt.subplots(nrows=2, ncols=1, figsize=(15, 15), constrained_layout=True)\n",
    "axlist = axarr.flatten()\n",
    "fig.suptitle('Zonal wind - zonal mean : NCEP '+year1+'-'+year2, fontsize=16)\n",
    "\n",
    "for i, ax in enumerate(axlist):\n",
    "    ax.set_title(seasons[i], fontsize=14)\n",
    "    plot_zonal_mean2(ax)\n",
    "    cf = ax.contourf(lat, lev, uz[i,:,:], levels_uz2, cmap='jet', extend='both')\n",
    "    c = ax.contour(lat, lev, uz[i,:,:], levels_uz2, colors='black', linewidths=1)\n",
    "    plt.clabel(c, levels_uz2, fmt='%2.1i')\n",
    "\n",
    "cb = fig.colorbar(cf, ax=axlist[axlist.shape[0]-1], orientation='horizontal', shrink=0.74, pad=0)\n",
    "cb.set_label('m/s', size='small')\n",
    "\n",
    "figname='./figs/u_zmean_climatology2'\n",
    "plt.savefig(figname+'.png',bbox_inches='tight')\n",
    "\n",
    "plt.show()"
   ]
  },
  {
   "cell_type": "markdown",
   "metadata": {},
   "source": [
    "# Température potentielle"
   ]
  },
  {
   "cell_type": "raw",
   "metadata": {},
   "source": [
    "Coupe en moyenne zonale de la température potentielle (DJF, JJA)."
   ]
  },
  {
   "cell_type": "code",
   "execution_count": null,
   "metadata": {},
   "outputs": [],
   "source": [
    "fig, axarr = plt.subplots(nrows=2, ncols=1, figsize=(15, 15), constrained_layout=True)\n",
    "axlist = axarr.flatten()\n",
    "fig.suptitle('Potential temperature - zonal mean : NCEP '+year1+'-'+year2, fontsize=16)\n",
    "\n",
    "for i, ax in enumerate(axlist):\n",
    "    ax.set_title(seasons[i], fontsize=14)\n",
    "    plot_zonal_mean2(ax)\n",
    "    cf = ax.contourf(lat, lev, thetaz[i,:,:], levels_thetaz1, cmap='jet', extend='both')\n",
    "    c2 = ax.contour(lat, lev, thetaz[i,:,:], levels_thetaz1, colors='black', linewidths=1)\n",
    "    plt.clabel(c2, levels_thetaz1, fmt='%1.2i')\n",
    "\n",
    "cf = fig.colorbar(cf, ax=axlist[axlist.shape[0]-1], orientation='horizontal', shrink=0.74, pad=0)\n",
    "cf.set_label('K', size='small')\n",
    "\n",
    "fig.set_constrained_layout_pads(w_pad=0., h_pad=0.1, hspace=0., wspace=0.)\n",
    "\n",
    "figname='./figs/theta_zmean_climatology'\n",
    "fig.savefig(figname+'.png',bbox_inches='tight')\n",
    "\n",
    "plt.show()"
   ]
  },
  {
   "cell_type": "markdown",
   "metadata": {},
   "source": [
    "# Equilibre du vent thermique de la circulation en moyenne zonale"
   ]
  },
  {
   "cell_type": "raw",
   "metadata": {},
   "source": [
    "Coupe en moyenne zonale de la température potentielle et du vent zonal (DJF, JJA)."
   ]
  },
  {
   "cell_type": "code",
   "execution_count": null,
   "metadata": {},
   "outputs": [],
   "source": [
    "fig, axarr = plt.subplots(nrows=2, ncols=1, figsize=(15, 15), constrained_layout=True)\n",
    "axlist = axarr.flatten()\n",
    "fig.suptitle('Zonal wind and potential temperature - zonal mean : NCEP '+year1+'-'+year2, fontsize=16)\n",
    "\n",
    "for i, ax in enumerate(axlist):\n",
    "    ax.set_title(seasons[i], fontsize=14)\n",
    "    plot_zonal_mean(ax)\n",
    "    cf = ax.contourf(lat, lev, uz[i,:,:], levels_uz1, cmap='jet', extend='both')\n",
    "    c2 = ax.contour(lat, lev, thetaz[i,:,:], levels_thetaz2, colors='black', linewidths=1)\n",
    "    plt.clabel(c2, levels_thetaz2, fmt='%1.2i')\n",
    "\n",
    "cf = fig.colorbar(cf, ax=axlist[axlist.shape[0]-1], orientation='horizontal', shrink=0.74, pad=0)\n",
    "cf.set_label('K', size='small')\n",
    "\n",
    "fig.set_constrained_layout_pads(w_pad=0., h_pad=0.1, hspace=0., wspace=0.)\n",
    "\n",
    "figname='./figs/theta_u_zmean_climatology'\n",
    "fig.savefig(figname+'.png',bbox_inches='tight')\n",
    "\n",
    "plt.show()"
   ]
  },
  {
   "cell_type": "raw",
   "metadata": {},
   "source": [
    "Coupe en moyenne zonale et annuelle de la température potentielle et de la température."
   ]
  },
  {
   "cell_type": "code",
   "execution_count": null,
   "metadata": {},
   "outputs": [],
   "source": [
    "levels_thetaz = np.arange(200,500,10)\n",
    "tz_mean=tz.mean('season')\n",
    "thetaz_mean=thetaz.mean('season')\n",
    "\n",
    "print(tz.shape)\n",
    "print(tz_mean.shape)\n",
    "print(thetaz_mean.shape)\n",
    "\n",
    "fig = plt.figure(figsize=(15., 8.))\n",
    "fig.suptitle('Temperature and potential temperature - zonal mean : NCEP '+year1+'-'+year2, fontsize=16)\n",
    "ax = fig.add_subplot(1, 1, 1)\n",
    "plot_zonal_mean(ax)\n",
    "c1 = ax.contour(lat, lev, tz_mean, levels_tz, colors='blue', linewidths=1)\n",
    "plt.clabel(c1, levels_tz, fmt='%1.2i')\n",
    "c2 = ax.contour(lat, lev, thetaz_mean, levels_thetaz, colors='black', linewidths=1)\n",
    "plt.clabel(c2, levels_thetaz, fmt='%1.2i')\n",
    "\n",
    "figname='./figs/t_theta_zmean_climatology'\n",
    "fig.savefig(figname+'.png',bbox_inches='tight')\n",
    "\n",
    "plt.show()"
   ]
  },
  {
   "cell_type": "markdown",
   "metadata": {},
   "source": [
    "<div class=\"alert alert-danger\">\n",
    "<p>Représenter sur un diagramme Cpln(θ) - T les 4 points situés à l'équateur à 1000hPa et 200hPa et au pôle sud à 1000hPa et 200hPa. Que peut-on en conclure sur la machine thermique atmosphérique (moteur ou pompe à chaleur) ?\n",
    "    </p>\n",
    "</div>"
   ]
  },
  {
   "cell_type": "raw",
   "metadata": {},
   "source": [
    "Machine thermique atmosphérique"
   ]
  },
  {
   "cell_type": "code",
   "execution_count": null,
   "metadata": {},
   "outputs": [],
   "source": []
  },
  {
   "cell_type": "markdown",
   "metadata": {},
   "source": [
    "# Zoom sur le vent zonal équatorial (QBO)"
   ]
  },
  {
   "cell_type": "markdown",
   "metadata": {},
   "source": [
    "<div class=\"alert alert-danger\">\n",
    "Produire un graphique de l'évolution du vent zonal dans la stratosphère (entre 70hPa et 10hPa) au dessus de l'équateur. On exploitera le Dataset fu qui contient les séries mensuelles globales de vent zonal (variale uwnd). On utilisera aussi les méthodes sel et mean pour sélectionner la latitude et effectuer la moyenne zonale.\n",
    "</div>"
   ]
  },
  {
   "cell_type": "raw",
   "metadata": {},
   "source": [
    "Zoom sur le vent zonal équatorial (QBO)."
   ]
  },
  {
   "cell_type": "code",
   "execution_count": null,
   "metadata": {},
   "outputs": [],
   "source": [
    "print(fu)"
   ]
  },
  {
   "cell_type": "raw",
   "metadata": {},
   "source": [
    "Variabilité interannuelle du vent zonal."
   ]
  },
  {
   "cell_type": "code",
   "execution_count": null,
   "metadata": {},
   "outputs": [],
   "source": [
    "#Cartes en moyenne annuelle\n",
    "fuyear=xr.open_dataset(diri+\"uwnd.mon.mean.nc\").sel(time=slice(year1,year2)).groupby('time.year').mean('time')\n",
    "uyear = fuyear['uwnd']\n",
    "\n",
    "#moyenne zonale\n",
    "uyearz=uyear.mean(axis=3)\n",
    "\n",
    "#variance temporelle (np.var)\n",
    "uyear_var=np.var(uyearz,axis=0)\n",
    "\n",
    "print(uyear_var.shape)"
   ]
  },
  {
   "cell_type": "code",
   "execution_count": null,
   "metadata": {
    "scrolled": false
   },
   "outputs": [],
   "source": [
    "levels_var = np.arange(0,160,5)\n",
    "\n",
    "fig = plt.figure(figsize=(15, 10))\n",
    "fig.suptitle('', fontsize=16)\n",
    "ax=fig.add_subplot(111)\n",
    "ax.set_title('Interannual variability of zonal wind - NCEP '+year1+'-'+year2, fontsize=14)\n",
    "plot_zonal_mean2(ax)\n",
    "cf = ax.contourf(lat, lev, uyear_var, levels_var, cmap='jet', extend='both')\n",
    "#plt.clabel(c, levels, fmt='%1.2i')\n",
    "cb = fig.colorbar(cf, orientation='horizontal')\n",
    "cb.set_label('Variance (m$^2$/s$^2$)', size='small')\n",
    "\n",
    "figname='./figs/u_zmean_year_variance'\n",
    "plt.savefig(figname+'.png',bbox_inches='tight')\n",
    "\n",
    "plt.show()"
   ]
  },
  {
   "cell_type": "markdown",
   "metadata": {},
   "source": [
    "# Vent méridien et vitesse verticale"
   ]
  },
  {
   "cell_type": "raw",
   "metadata": {},
   "source": [
    "Coupe verticale en moyenne zonale du vent méridien et de la vitesse verticale entre 60S et 60N (moyenne annuelle)."
   ]
  },
  {
   "cell_type": "code",
   "execution_count": null,
   "metadata": {
    "scrolled": false
   },
   "outputs": [],
   "source": [
    "fig = plt.figure(figsize=(15., 10.))\n",
    "ax = fig.add_subplot(1, 1, 1)\n",
    "fig.suptitle('Vertical velocity (Pa/s), meridional wind (m/s) and zonal wind (m/s) - zonal mean : NCEP '+year1+'-'+year2, fontsize=12)\n",
    "\n",
    "ax.set_title('Annual mean', fontsize=8)\n",
    "plot_zonal_mean(ax)\n",
    "ax.set_xlim(-60, 60)\n",
    "cf = ax.contourf(lat, levw, wz_annual[:,:], levels_wz, cmap='seismic', extend='both')\n",
    "c = ax.contour(lat, lev, vz_annual[:,:], levels_vz, colors='black', linewidths=1)\n",
    "plt.clabel(c, levels_vz, fmt='%1.1f')\n",
    "c2 = ax.contour(lat, lev, uz_annual[:,:], levels_uz_an, colors='green', linewidths=0.5)\n",
    "plt.clabel(c2, levels_uz_an, fmt='%2.1i')\n",
    "\n",
    "cb = fig.colorbar(cf, orientation='horizontal', aspect=65, shrink=0.75, pad=0.15)\n",
    "cb.set_label('Pa/s', size='small')\n",
    "\n",
    "figname='./figs/wv_zmean_annual_climatology'\n",
    "fig.savefig(figname+'.png',bbox_inches='tight')\n",
    "\n",
    "plt.show()"
   ]
  },
  {
   "cell_type": "raw",
   "metadata": {},
   "source": [
    "Coupe verticale en moyenne zonale du vent méridien et de la vitesse verticale entre 60S et 60N (DJF, MAM, JJA, SON)."
   ]
  },
  {
   "cell_type": "code",
   "execution_count": null,
   "metadata": {
    "scrolled": false
   },
   "outputs": [],
   "source": [
    "fig, axarr = plt.subplots(nrows=2, ncols=2, figsize=(15, 8), constrained_layout=True)\n",
    "axlist = axarr.flatten()\n",
    "fig.suptitle('Vertical velocity (Pa/s) and meridional wind (m/s) - zonal mean : NCEP '+year1+'-'+year2, fontsize=12)\n",
    "\n",
    "for i, ax in enumerate(axlist):\n",
    "    ax.set_title(seasons[i], fontsize=8)\n",
    "    plot_zonal_mean(ax)\n",
    "    ax.set_xlim(-60, 60)\n",
    "    cf = ax.contourf(lat, levw, wz[i,:,:], levels_wz, cmap='seismic', extend='both')\n",
    "    c = ax.contour(lat, lev, vz[i,:,:], levels_vz, colors='black', linewidths=1)\n",
    "    plt.clabel(c, levels_vz, fmt='%1.1f')\n",
    "\n",
    "cb = fig.colorbar(cf, ax=axlist[axlist.shape[0]-1], orientation='horizontal', shrink=1, pad=0)\n",
    "cb.ax.tick_params(labelsize=8) \n",
    "cb.set_label('Pa/s', size='small')\n",
    "\n",
    "figname='./figs/wv_zmean_climatology'\n",
    "fig.savefig(figname+'.png',bbox_inches='tight')\n",
    "\n",
    "plt.show()"
   ]
  },
  {
   "cell_type": "markdown",
   "metadata": {},
   "source": [
    "# Humidité et précipitations"
   ]
  },
  {
   "cell_type": "raw",
   "metadata": {},
   "source": [
    "Coupe verticale méridienne en moyenne zonale de l'humidité spécifique (DJF, JJA)."
   ]
  },
  {
   "cell_type": "code",
   "execution_count": null,
   "metadata": {
    "scrolled": false
   },
   "outputs": [],
   "source": [
    "fig, axarr = plt.subplots(nrows=2, ncols=1, figsize=(15, 15), constrained_layout=True)\n",
    "axlist = axarr.flatten()\n",
    "fig.suptitle('Specific humidity - zonal mean : '+year1+'-'+year2, fontsize=16)\n",
    "\n",
    "for i, ax in enumerate(axlist):\n",
    "    ax.set_title(seasons[i], fontsize=14)\n",
    "    ax.set_yscale('symlog')\n",
    "    ax.set_yticklabels(np.arange(1000, 300, -100))\n",
    "    ax.set_ylim(1000, 300)\n",
    "    ax.set_yticks(np.arange(1000, 300, -100))  \n",
    "    ax.set_xticklabels(np.arange(-90, 100, 10))\n",
    "    ax.set_xticks(np.arange(-90, 100, 10))    \n",
    "    cf = ax.contourf(lat, levq, qz[i,:,:], levels_qz, cmap='jet', extend='both')\n",
    "    c = ax.contour(lat, levq, qz[i,:,:], levels_qz, colors='black', linewidths=1)\n",
    "    plt.clabel(c, levels_qz, fmt='%2.1i')\n",
    " \n",
    "cf = fig.colorbar(cf, ax=axlist[axlist.shape[0]-1], orientation='horizontal', shrink=0.74, pad=0)\n",
    "cf.set_label('g/kg', size='small')\n",
    "\n",
    "fig.set_constrained_layout_pads(w_pad=0., h_pad=0.1, hspace=0., wspace=0.)\n",
    "\n",
    "\n",
    "figname='./figs/q_zmean_climatology'\n",
    "plt.savefig(figname+'.png',bbox_inches='tight')\n",
    "\n",
    "plt.show()"
   ]
  },
  {
   "cell_type": "markdown",
   "metadata": {},
   "source": [
    "<div class=\"alert alert-danger\">\n",
    "Produire un graphique des précipitations en moyenne zonale en moyennes saisonnières (DJF-JJA-MAM-SON) et annuelle. On exploitera le tableau pr(season,lat,lon) qui contient les climatologies saisonnières globales des précipitations GPCP.\n",
    "</div>"
   ]
  },
  {
   "cell_type": "raw",
   "metadata": {},
   "source": [
    "Precipitations en moyenne zonale."
   ]
  },
  {
   "cell_type": "code",
   "execution_count": null,
   "metadata": {
    "scrolled": false
   },
   "outputs": [],
   "source": [
    "print(prz_annual.shape)\n",
    "print(prz.shape)"
   ]
  }
 ],
 "metadata": {
  "kernelspec": {
   "display_name": "Python 3",
   "language": "python",
   "name": "python3"
  },
  "language_info": {
   "codemirror_mode": {
    "name": "ipython",
    "version": 3
   },
   "file_extension": ".py",
   "mimetype": "text/x-python",
   "name": "python",
   "nbconvert_exporter": "python",
   "pygments_lexer": "ipython3",
   "version": "3.7.11"
  }
 },
 "nbformat": 4,
 "nbformat_minor": 1
}
