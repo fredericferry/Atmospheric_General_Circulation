{
 "cells": [
  {
   "cell_type": "markdown",
   "metadata": {},
   "source": [
    "# Circulation méridienne de Hadley\n",
    "\n",
    "Auteur : FERRY Frédéric (DESR/ENM/C3M) - janvier 2021\n",
    "\n",
    "Les fichiers de données au format netcdf (moyennes mensuelles NCEP/NCAR) doivent être téléchargés et placés dans le répertoire data :\n",
    "\n",
    "Vent méridien, vitesse verticale :\n",
    "- https://downloads.psl.noaa.gov/Datasets/ncep.reanalysis.derived/pressure/vwnd.mon.mean.nc\n",
    "- https://downloads.psl.noaa.gov/Datasets/ncep.reanalysis.derived/pressure/omega.mon.mean.nc"
   ]
  },
  {
   "cell_type": "code",
   "execution_count": null,
   "metadata": {},
   "outputs": [],
   "source": [
    "%matplotlib inline\n",
    "\n",
    "import os\n",
    "\n",
    "import xarray as xr\n",
    "import numpy as np\n",
    "\n",
    "import matplotlib.pyplot as plt\n",
    "from mpl_toolkits.axes_grid1 import AxesGrid\n",
    "import matplotlib.path as mpath\n",
    "\n",
    "import IPython.display as IPdisplay, matplotlib.font_manager as fm\n",
    "from PIL import Image\n",
    "import glob\n",
    "\n",
    "from scipy.integrate import cumtrapz\n",
    "\n",
    "import warnings\n",
    "warnings.filterwarnings('ignore')"
   ]
  },
  {
   "cell_type": "raw",
   "metadata": {},
   "source": [
    "Constantes."
   ]
  },
  {
   "cell_type": "code",
   "execution_count": null,
   "metadata": {},
   "outputs": [],
   "source": [
    "re=6.37e6\n",
    "g=9.81"
   ]
  },
  {
   "cell_type": "markdown",
   "metadata": {},
   "source": [
    "# Traitement des données"
   ]
  },
  {
   "cell_type": "raw",
   "metadata": {},
   "source": [
    "Choix des années pour les calculs de climatologies."
   ]
  },
  {
   "cell_type": "code",
   "execution_count": null,
   "metadata": {},
   "outputs": [],
   "source": [
    "year1='1990'\n",
    "year2='2019'"
   ]
  },
  {
   "cell_type": "raw",
   "metadata": {},
   "source": [
    "Lecture des données avec xarray (entre les niveaux verticaux 1000hPa-100hPa et les latitudes 60S-60N)."
   ]
  },
  {
   "cell_type": "code",
   "execution_count": null,
   "metadata": {
    "scrolled": true
   },
   "outputs": [],
   "source": [
    "diri=\"./data/\"\n",
    "fv    = xr.open_dataset(diri+\"vwnd.mon.mean.nc\").sel(time=slice(year1,year2)).sel(level=slice(1000,100)).sel(lat=slice(60,-60))\n",
    "fw    = xr.open_dataset(diri+\"omega.mon.mean.nc\").sel(time=slice(year1,year2)).sel(level=slice(1000,100)).sel(lat=slice(60,-60))\n",
    "\n",
    "lat  = fv.lat.values\n",
    "lev = fv.level.values\n",
    "\n",
    "print(lat)\n",
    "print(lev)"
   ]
  },
  {
   "cell_type": "raw",
   "metadata": {},
   "source": [
    "Calcul des climatologies, extraction des variables, moyenne zonale."
   ]
  },
  {
   "cell_type": "code",
   "execution_count": null,
   "metadata": {
    "scrolled": true
   },
   "outputs": [],
   "source": [
    "seasons=['DJF','JJA','MAM','SON']\n",
    "months=['January','February','March','April', 'May', 'June', 'July',\n",
    "        'August', 'September', 'October', 'November', 'December']\n",
    "\n",
    "fv_mean = fv.groupby('time.season').mean('time')\n",
    "fw_mean = fw.groupby('time.season').mean('time')\n",
    "\n",
    "v_season = fv_mean['vwnd']\n",
    "w_season = fw_mean['omega']\n",
    "\n",
    "fv_mean_month = fv.groupby('time.month').mean('time')\n",
    "v_month = fv_mean_month['vwnd']\n",
    "\n",
    "# moyenne zonale\n",
    "vz_season = v_season.mean(axis=3)\n",
    "wz_season = w_season.mean(axis=3)\n",
    "vz_month = v_month.mean(axis=3)\n",
    "\n",
    "# moyenne annuelle\n",
    "vz_annual=np.mean(vz_season, axis=0)\n",
    "wz_annual=np.mean(wz_season, axis=0)"
   ]
  },
  {
   "cell_type": "raw",
   "metadata": {},
   "source": [
    "Calcul de la fonction de courant méridienne.\n",
    "Ψm (lev,lat) = (2πacosφ)/g * ∫ v dp"
   ]
  },
  {
   "cell_type": "code",
   "execution_count": null,
   "metadata": {
    "scrolled": true
   },
   "outputs": [],
   "source": [
    "psi_season = cumtrapz(vz_season,x=lev*100,axis=1,initial=0) # [m.Pa/s]\n",
    "psi_season = 2*np.pi*re/g*psi_season *np.cos(lat[np.newaxis,np.newaxis,:]*np.pi/180.) #[kg/s]\n",
    "psi_season=psi_season*1e-10 #[10^10 kg/s]\n",
    "psi_annual=np.mean(psi_season, axis=0)\n",
    "\n",
    "psi_month = cumtrapz(vz_month,x=lev*100,axis=1,initial=0) # [m.Pa/s]\n",
    "psi_month = 2*np.pi*re/g*psi_month *np.cos(lat[np.newaxis,np.newaxis,:]*np.pi/180.) #[kg/s]\n",
    "psi_month=psi_month*1e-10 #[10^10 kg/s]"
   ]
  },
  {
   "cell_type": "markdown",
   "metadata": {},
   "source": [
    "# Tracés"
   ]
  },
  {
   "cell_type": "raw",
   "metadata": {},
   "source": [
    "Echelles de valeurs"
   ]
  },
  {
   "cell_type": "code",
   "execution_count": null,
   "metadata": {
    "scrolled": true
   },
   "outputs": [],
   "source": [
    "print(np.min(vz_season))\n",
    "print(np.max(vz_season))\n",
    "print(np.min(wz_season))\n",
    "print(np.max(wz_season))\n",
    "\n",
    "levels_wz = np.arange(-0.05,0.052,0.002)\n",
    "levels_vz =[-7.0, -6.5, -6.0, -5.5, -5.0, -4.5, -4.0, -3.5, -3.0,\n",
    " -2.5, -2.0, -1.5, -1.0, -0.5, 0.5, 1.0, 1.5, 2.0, 2.5,\n",
    "  3.0, 3.5, 4.0, 4.5, 5.0, 5.5, 6.0, 6.5, 7]\n",
    "\n",
    "print(np.min(psi_season))\n",
    "print(np.max(psi_season))\n",
    "\n",
    "levels_psi = np.arange(-18,19,1)\n",
    "levels_psi_an = np.arange(-10,11,1)\n",
    "levels_psi2 =[-18, -17, -16, -15, -14, -13, -12, -11, -10, -9, -8, -7,\n",
    " -6, -5, -4, -3, -2, -1, 1, 2, 3, 4,\n",
    "  5, 6, 7, 8, 9, 10, 11, 12, 13, 14, 15, 16, 17, 18]"
   ]
  },
  {
   "cell_type": "raw",
   "metadata": {},
   "source": [
    "Fonction pour les coupes verticales-méridiennes en moyenne zonale."
   ]
  },
  {
   "cell_type": "code",
   "execution_count": null,
   "metadata": {
    "scrolled": false
   },
   "outputs": [],
   "source": [
    "def plot_zonal_mean(ax):\n",
    "    ax.set_yscale('symlog')\n",
    "    ax.set_yticklabels(np.arange(1000, 0, -100))\n",
    "    ax.set_ylim(1000, 100)\n",
    "    ax.set_yticks(np.arange(1000, 0, -100))  \n",
    "    ax.set_xticklabels(np.arange(-90, 100, 10))\n",
    "    ax.set_xticks(np.arange(-90, 100, 10)) \n",
    "    return ax"
   ]
  },
  {
   "cell_type": "raw",
   "metadata": {},
   "source": [
    "Vent méridien et vitesse verticale"
   ]
  },
  {
   "cell_type": "code",
   "execution_count": null,
   "metadata": {
    "scrolled": true
   },
   "outputs": [],
   "source": [
    "plt_title='Meridional wind (m/s) and vertical velocity : NCEP '+year1+'-'+year2\n",
    "units='Pa/s'\n",
    "cmap='jet'"
   ]
  },
  {
   "cell_type": "raw",
   "metadata": {},
   "source": [
    "Coupe verticale du vent méridien et de la vitesse verticale entre 60S et 60N (moyenne anuelle). "
   ]
  },
  {
   "cell_type": "code",
   "execution_count": null,
   "metadata": {
    "scrolled": false
   },
   "outputs": [],
   "source": [
    "fig = plt.figure(figsize=(15., 8.))\n",
    "ax = fig.add_subplot(1, 1, 1)\n",
    "fig.suptitle(plt_title, fontsize=16)\n",
    "\n",
    "ax.set_title('Annual mean', fontsize=14)\n",
    "plot_zonal_mean(ax)\n",
    "ax.set_xlim(-60, 60)\n",
    "cf = ax.contourf(lat, levw, wz_annual[:,:], levels_wz, cmap='seismic', extend='both')\n",
    "c = ax.contour(lat, lev, vz_annual[:,:], levels_vz, colors='black', linewidths=1)\n",
    "plt.clabel(c, levels_vz, fmt='%1.1f')\n",
    "\n",
    "cb = fig.colorbar(cf, orientation='horizontal', aspect=65, shrink=0.5, pad=0.05)\n",
    "cb.set_label('Pa/s', size='small')\n",
    "\n",
    "figname='./figs/wv_zmean_annual_climatology'\n",
    "fig.savefig(figname+'.png',bbox_inches='tight')\n",
    "\n",
    "plt.show()"
   ]
  },
  {
   "cell_type": "raw",
   "metadata": {},
   "source": [
    "Coupe verticale entre 60S et 60N (DJF, MAM, JJA, SON). "
   ]
  },
  {
   "cell_type": "code",
   "execution_count": null,
   "metadata": {
    "scrolled": false
   },
   "outputs": [],
   "source": [
    "fig, axarr = plt.subplots(nrows=2, ncols=2, figsize=(15, 7), constrained_layout=True)\n",
    "axlist = axarr.flatten()\n",
    "fig.suptitle('Vertical velocity (Pa/s) and meridional wind (m/s) - zonal mean : NCEP '+year1+'-'+year2, fontsize=16)\n",
    "\n",
    "for i, ax in enumerate(axlist):\n",
    "\t\n",
    " ax.set_title(seasons[i], fontsize=14)\n",
    " plot_zonal_mean(ax)\n",
    " ax.set_xlim(-60, 60)\n",
    " cf = ax.contourf(lat, levw, wz_season[i,:,:], levels_wz, cmap='seismic', extend='both')\n",
    " c = ax.contour(lat, lev, vz_season[i,:,:], levels_vz, colors='black', linewidths=1)\n",
    " plt.clabel(c, levels_vz, fmt='%1.1f')\n",
    "\n",
    "cb = fig.colorbar(cf, ax=axlist[axlist.shape[0]-1], orientation='horizontal', shrink=0.74, pad=0)\n",
    "cb.set_label('Pa/s', size='small')\n",
    "\n",
    "figname='./figs/wv_zmean_climatology'\n",
    "fig.savefig(figname+'.png',bbox_inches='tight')\n",
    "\n",
    "plt.show()"
   ]
  },
  {
   "cell_type": "raw",
   "metadata": {},
   "source": [
    "Fonction de courant méridienne"
   ]
  },
  {
   "cell_type": "code",
   "execution_count": null,
   "metadata": {
    "scrolled": true
   },
   "outputs": [],
   "source": [
    "plt_title='Mass meridional streamfunction : NCEP '+year1+'-'+year2\n",
    "units='10$^{10}$ kg/s'\n",
    "cmap='PuOr_r'"
   ]
  },
  {
   "cell_type": "raw",
   "metadata": {},
   "source": [
    "Coupe verticale de la fonction de courant méridienne entre 60S et 60N (moyenne anuelle). "
   ]
  },
  {
   "cell_type": "code",
   "execution_count": null,
   "metadata": {
    "scrolled": false
   },
   "outputs": [],
   "source": [
    "fig = plt.figure(figsize=(15., 8.))\n",
    "ax = fig.add_subplot(1, 1, 1)\n",
    "fig.suptitle(plt_title, fontsize=16)\n",
    "\n",
    "ax.set_title('Annual mean', fontsize=14)\n",
    "plot_zonal_mean(ax)\n",
    "ax.set_xlim(-60, 60)\n",
    "cf = ax.contourf(lat, lev, psi_annual[:,:], levels_psi_an, cmap=cmap, extend='both')\n",
    "c = ax.contour(lat, lev, psi_annual[:,:], levels_psi2, colors='black', linewidths=1)\n",
    "plt.clabel(c, levels_psi2, fmt='%2.1i')\n",
    "\n",
    "cb = fig.colorbar(cf, orientation='horizontal', aspect=65, shrink=0.5, pad=0.05)\n",
    "cb.set_label(units, size='small')\n",
    "\n",
    "figname='./figs/psi_zmean_annual_climatology'\n",
    "fig.savefig(figname+'.png',bbox_inches='tight')\n",
    "\n",
    "plt.show()"
   ]
  },
  {
   "cell_type": "raw",
   "metadata": {},
   "source": [
    "Coupe verticale de la fonction de courant méridienne entre 60S et 60N (DJF, MAM, JJA, SON). "
   ]
  },
  {
   "cell_type": "code",
   "execution_count": null,
   "metadata": {
    "scrolled": false
   },
   "outputs": [],
   "source": [
    "fig, axarr = plt.subplots(nrows=2, ncols=2, figsize=(15, 7), constrained_layout=True)\n",
    "axlist = axarr.flatten()\n",
    "fig.suptitle(plt_title, fontsize=16)\n",
    "\n",
    "for i, ax in enumerate(axlist):\n",
    "    ax.set_title(seasons[i], fontsize=14)\n",
    "    plot_zonal_mean(ax)\n",
    "    ax.set_xlim(-60, 60)\n",
    "    cf = ax.contourf(lat, lev, psi_season[i,:,:], levels_psi, cmap=cmap, extend='both')\n",
    "    c = ax.contour(lat, lev, psi_season[i,:,:], levels_psi2, colors='black', linewidths=1)\n",
    "    plt.clabel(c, levels_psi2, fmt='%2.1i')\n",
    "\n",
    "cb = fig.colorbar(cf, orientation='horizontal', shrink=0.74, pad=0)\n",
    "cb.set_label(units, size='small')\n",
    "\n",
    "figname='./figs/psi_zmean_climatology'\n",
    "fig.savefig(figname+'.png',bbox_inches='tight')\n",
    "\n",
    "plt.show()"
   ]
  },
  {
   "cell_type": "raw",
   "metadata": {},
   "source": [
    "Coupe verticale de la fonction de courant méridienne entre 60S et 60N (cartes mensuelles). "
   ]
  },
  {
   "cell_type": "code",
   "execution_count": null,
   "metadata": {
    "scrolled": false
   },
   "outputs": [],
   "source": [
    "for i in range(12): \n",
    "    #print(months[i])\n",
    "    fig = plt.figure(figsize=(15., 8.))\n",
    "    fig.suptitle(plt_title, fontsize=16)\n",
    "    ax = fig.add_subplot(1, 1, 1)\n",
    "    ax.set_title(months[i], fontsize=14)\n",
    "    plot_zonal_mean(ax)\n",
    "    ax.set_xlim(-60, 60)\n",
    "    \n",
    "    cf = ax.contourf(lat, lev, psi_month[i,:,:], levels_psi, cmap=cmap, extend='both')\n",
    "    c = ax.contour(lat, lev, psi_month[i,:,:], levels_psi2, colors='black', linewidths=1)\n",
    "    plt.clabel(c, levels_psi2, fmt='%2.1i')\n",
    "    cb = fig.colorbar(cf, orientation='horizontal', aspect=65, shrink=0.5, pad=0.05)\n",
    "    cb.set_label(units, size='small')\n",
    "    \n",
    "    if i<10:\n",
    "        figname='./anim/psi_zmean_monclim_0'+str(i)\n",
    "    if i>=10:\n",
    "        figname='./anim/psi_zmean_monclim_'+str(i)    \n",
    "    fig.savefig(figname+'.png',bbox_inches='tight')\n",
    "    plt.close()"
   ]
  },
  {
   "cell_type": "raw",
   "metadata": {},
   "source": [
    "Fonction de création d'une animation à partir des png présents dans le dossier anim."
   ]
  },
  {
   "cell_type": "code",
   "execution_count": null,
   "metadata": {
    "scrolled": false
   },
   "outputs": [],
   "source": [
    "def make_animation():\n",
    "    nbimages=12\n",
    "    # create a tuple of display durations, one for each frame\n",
    "    first_last = 1000 #show the first and last frames for 100 ms\n",
    "    standard_duration = 1000 #show all other frames for 5 ms\n",
    "    durations = tuple([first_last] + [standard_duration] * (nbimages - 2) + [first_last])\n",
    "    # load all the static images into a list\n",
    "    images = [Image.open(image) for image in sorted(glob.glob('{}/*.png'.format('./anim/')))]\n",
    "    # save as an animated gif\n",
    "    gif = images[0]\n",
    "    gif.info['duration'] = durations #ms per frame\n",
    "    gif.info['loop'] = 0 #how many times to loop (0=infinite)\n",
    "    gif.save(fp=gif_filepath, format='gif', save_all=True, append_images=images[1:])\n",
    "    # verify that the number of frames in the gif equals the number of image files and durations\n",
    "    Image.open(gif_filepath).n_frames == len(images) == len(durations)\n",
    "    cmd = 'rm ./anim/*.png'\n",
    "    os.system(cmd)\n",
    "    return Image"
   ]
  },
  {
   "cell_type": "raw",
   "metadata": {},
   "source": [
    "Réalisation de l'animation au pas de temps mensuel."
   ]
  },
  {
   "cell_type": "code",
   "execution_count": null,
   "metadata": {
    "scrolled": false
   },
   "outputs": [],
   "source": [
    "gif_filepath = './anim/psi_zmean_monclim.gif'\n",
    "make_animation()\n",
    "IPdisplay.Image(url=gif_filepath)"
   ]
  },
  {
   "cell_type": "code",
   "execution_count": null,
   "metadata": {},
   "outputs": [],
   "source": []
  }
 ],
 "metadata": {
  "kernelspec": {
   "display_name": "Python 3 (ipykernel)",
   "language": "python",
   "name": "python3"
  },
  "language_info": {
   "codemirror_mode": {
    "name": "ipython",
    "version": 3
   },
   "file_extension": ".py",
   "mimetype": "text/x-python",
   "name": "python",
   "nbconvert_exporter": "python",
   "pygments_lexer": "ipython3",
   "version": "3.8.10"
  }
 },
 "nbformat": 4,
 "nbformat_minor": 1
}
