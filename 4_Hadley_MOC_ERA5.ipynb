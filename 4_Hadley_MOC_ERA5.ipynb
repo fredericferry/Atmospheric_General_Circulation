{
 "cells": [
  {
   "cell_type": "markdown",
   "metadata": {},
   "source": [
    "# Circulation méridienne de Hadley (données ERA5)\n",
    "\n",
    "**Auteur : FERRY Frédéric (DESR/ENM/C3M) - septembre 2022**\n",
    "\n",
    "Les fichiers de données au format netcdf (moyennes mensuelles ERA5 du vent méridien et de la vitesse verticale) doivent être récupérés et placés dans le répertoire data :\n",
    "\n",
    "- https://cds.climate.copernicus.eu/cdsapp#!/dataset/reanalysis-era5-pressure-levels-monthly-means?tab=form\n",
    "\n",
    "Fichiers à retraiter avec CDO (https://code.mpimet.mpg.de/projects/cdo) pour baisser la résolution spatiale à 2° et réduire la taille des fichiers :\n",
    "\n",
    "- cdo remapbil,r180x90 era5_v.1979-2018.mon.mean.nc era5_v.1979-2018.mon.mean.2deg.nc\n",
    "- cdo remapbil,r180x90 era5_w.1979-2018.mon.mean.nc era5_w.1979-2018.mon.mean.1deg.nc"
   ]
  },
  {
   "cell_type": "code",
   "execution_count": null,
   "metadata": {},
   "outputs": [],
   "source": [
    "import xarray as xr\n",
    "import numpy as np\n",
    "import matplotlib.pyplot as plt\n",
    "from scipy.integrate import cumtrapz"
   ]
  },
  {
   "cell_type": "markdown",
   "metadata": {},
   "source": [
    "# Traitement des données de vent méridien et de vitesse verticale"
   ]
  },
  {
   "cell_type": "raw",
   "metadata": {},
   "source": [
    "Lecture des données."
   ]
  },
  {
   "cell_type": "code",
   "execution_count": null,
   "metadata": {
    "scrolled": false
   },
   "outputs": [],
   "source": [
    "diri=\"./monthly_era5/\"\n",
    "fv    = xr.open_dataset(diri+\"era5_v.1979-2018.mon.mean.2deg.nc\")\n",
    "fw    = xr.open_dataset(diri+\"era5_w.1979-2018.mon.mean.2deg.nc\")\n",
    "print(fv)\n",
    "print(fw)"
   ]
  },
  {
   "cell_type": "raw",
   "metadata": {},
   "source": [
    "Choix des années pour les calculs de climatologies."
   ]
  },
  {
   "cell_type": "code",
   "execution_count": null,
   "metadata": {},
   "outputs": [],
   "source": [
    "year1='1978'\n",
    "year2='2018'"
   ]
  },
  {
   "cell_type": "raw",
   "metadata": {},
   "source": [
    "Lecture des données pour la période retenue (entre les niveaux verticaux 1000hPa-100hPa)."
   ]
  },
  {
   "cell_type": "code",
   "execution_count": null,
   "metadata": {
    "scrolled": true
   },
   "outputs": [],
   "source": [
    "fv    = xr.open_dataset(diri+\"era5_v.1979-2018.mon.mean.2deg.nc\").sel(time=slice(year1,year2)).sel(level=slice(100,1000))\n",
    "fw    = xr.open_dataset(diri+\"era5_w.1979-2018.mon.mean.2deg.nc\").sel(time=slice(year1,year2)).sel(level=slice(100,1000))\n",
    "\n",
    "lat  = fv.lat.values\n",
    "lev = fv.level.values\n",
    "\n",
    "print(lat)\n",
    "print(lev)"
   ]
  },
  {
   "cell_type": "raw",
   "metadata": {},
   "source": [
    "Calcul des climatologies mensuelles, saisonnières et annuelles des variables + moyenne zonale."
   ]
  },
  {
   "cell_type": "code",
   "execution_count": null,
   "metadata": {
    "scrolled": false
   },
   "outputs": [],
   "source": [
    "seasons=['DJF','JJA','MAM','SON']\n",
    "months=['January','February','March','April', 'May', 'June', 'July',\n",
    "        'August', 'September', 'October', 'November', 'December']\n",
    "\n",
    "# moyenne saisonnière\n",
    "fv_mean = fv.groupby('time.season').mean('time')\n",
    "fw_mean = fw.groupby('time.season').mean('time')\n",
    "v_season = fv_mean['v']\n",
    "w_season = fw_mean['w']\n",
    "\n",
    "# moyenne mensuelle\n",
    "fv_mean_month = fv.groupby('time.month').mean('time')\n",
    "v_month = fv_mean_month['v']\n",
    "\n",
    "# moyenne zonale\n",
    "vz_season = v_season.mean('lon')\n",
    "wz_season = w_season.mean('lon')\n",
    "vz_month = v_month.mean('lon')\n",
    "\n",
    "# moyenne annuelle\n",
    "vz_annual=vz_season.mean('season')\n",
    "wz_annual=wz_season.mean('season')\n",
    "\n",
    "print(vz_annual)\n",
    "print(vz_month)\n",
    "print(vz_annual)"
   ]
  },
  {
   "cell_type": "markdown",
   "metadata": {},
   "source": [
    "# Tracés"
   ]
  },
  {
   "cell_type": "raw",
   "metadata": {},
   "source": [
    "Echelles de valeurs."
   ]
  },
  {
   "cell_type": "code",
   "execution_count": null,
   "metadata": {
    "scrolled": true
   },
   "outputs": [],
   "source": [
    "levels_wz = np.arange(-0.05,0.052,0.002)\n",
    "levels_vz =[-7.0, -6.5, -6.0, -5.5, -5.0, -4.5, -4.0, -3.5, -3.0,\n",
    " -2.5, -2.0, -1.5, -1.0, -0.5, 0.5, 1.0, 1.5, 2.0, 2.5,\n",
    "  3.0, 3.5, 4.0, 4.5, 5.0, 5.5, 6.0, 6.5, 7]"
   ]
  },
  {
   "cell_type": "raw",
   "metadata": {},
   "source": [
    "Fonction pour les coupes verticales-méridiennes en moyenne zonale."
   ]
  },
  {
   "cell_type": "code",
   "execution_count": null,
   "metadata": {
    "scrolled": false
   },
   "outputs": [],
   "source": [
    "def plot_zonal_mean(ax):\n",
    "    ax.set_yscale('symlog')\n",
    "    ax.set_yticklabels(np.arange(1000, 0, -100))\n",
    "    ax.set_ylim(1000, 100)\n",
    "    ax.set_xlim(-90, 90)\n",
    "    ax.set_yticks(np.arange(1000, 0, -100))  \n",
    "    ax.set_xticklabels(np.arange(-90, 100, 10))\n",
    "    ax.set_xticks(np.arange(-90, 100, 10)) \n",
    "    return ax"
   ]
  },
  {
   "cell_type": "raw",
   "metadata": {},
   "source": [
    "Coupe verticale du vent méridien et de la vitesse verticale (moyenne anuelle). "
   ]
  },
  {
   "cell_type": "code",
   "execution_count": null,
   "metadata": {
    "scrolled": false
   },
   "outputs": [],
   "source": [
    "fig = plt.figure(figsize=(15., 8.))\n",
    "ax = fig.add_subplot(1, 1, 1)\n",
    "fig.suptitle('Meridional wind (m/s) and vertical velocity : ERA5 '+year1+'-'+year2, fontsize=16)\n",
    "\n",
    "ax.set_title('Annual mean', fontsize=14)\n",
    "plot_zonal_mean(ax)\n",
    "cf = ax.contourf(lat, lev, wz_annual[:,:], levels_wz, cmap='seismic', extend='both')\n",
    "c = ax.contour(lat, lev, vz_annual[:,:], levels_vz, colors='black', linewidths=1)\n",
    "plt.clabel(c, levels_vz, fmt='%1.1f')\n",
    "\n",
    "cb = fig.colorbar(cf, orientation='horizontal', aspect=65, shrink=0.5, pad=0.05)\n",
    "cb.set_label('Pa/s', size='small')\n",
    "\n",
    "figname='./figs/wv_zmean_annual_climatology'\n",
    "fig.savefig(figname+'.png',bbox_inches='tight')\n",
    "\n",
    "plt.show()"
   ]
  },
  {
   "cell_type": "raw",
   "metadata": {},
   "source": [
    "Coupe verticale du vent méridien et de la vitesse verticale (DJF, MAM, JJA, SON). "
   ]
  },
  {
   "cell_type": "code",
   "execution_count": null,
   "metadata": {
    "scrolled": false
   },
   "outputs": [],
   "source": [
    "fig, axarr = plt.subplots(nrows=2, ncols=2, figsize=(15, 7), constrained_layout=True)\n",
    "axlist = axarr.flatten()\n",
    "fig.suptitle('Vertical velocity (Pa/s) and meridional wind (m/s) - zonal mean : ERA5 '+year1+'-'+year2, fontsize=16)\n",
    "\n",
    "for i, ax in enumerate(axlist):\n",
    "\t\n",
    " ax.set_title(seasons[i], fontsize=14)\n",
    " plot_zonal_mean(ax)\n",
    " cf = ax.contourf(lat, lev, wz_season[i,:,:], levels_wz, cmap='seismic', extend='both')\n",
    " c = ax.contour(lat, lev, vz_season[i,:,:], levels_vz, colors='black', linewidths=1)\n",
    " plt.clabel(c, levels_vz, fmt='%1.1f')\n",
    "\n",
    "cb = fig.colorbar(cf, ax=axlist[axlist.shape[0]-1], orientation='horizontal', shrink=0.74, pad=0)\n",
    "cb.set_label('Pa/s', size='small')\n",
    "\n",
    "figname='./figs/wv_zmean_climatology'\n",
    "fig.savefig(figname+'.png',bbox_inches='tight')\n",
    "\n",
    "plt.show()"
   ]
  },
  {
   "cell_type": "markdown",
   "metadata": {},
   "source": [
    "# Diagnostic de la fonction de courant méridienne\n",
    "\n",
    "Le flux élémentaire de masse vers le nord (unité $kg.s^{-1}$) à travers une ligne de latitude $\\phi$ s'écrit :\n",
    "\n",
    "$$ d\\psi = a \\cos\\phi d\\lambda ~ v ~ \\frac{dp}{g} $$\n",
    "\n",
    "\n",
    "$a$ : rayon de la Terre ; $g$ : accélération de la gravité\n",
    "\n",
    "\n",
    "Ainsi, le flux de masse vers le nord total à travers $\\phi$ au-dessus d'un niveau de pression $p$ est donné par :\n",
    "\n",
    "\\begin{align*} \n",
    "\\psi(p) &= \\int_0^{2\\pi} \\int_0^p a \\cos\\phi d\\lambda ~ v ~ \\frac{dp}{g} \\\\\n",
    "&= 2\\pi a \\frac{\\cos\\phi}{g} \\int_0^p [v] dp \n",
    "\\end{align*}\n",
    "\n",
    "L'équation de continuité (conservation de la masse) en coordonnée pression et en moyenne zonale s'écrit :\n",
    "\n",
    "$$ \\frac{1}{a \\cos\\phi} \\frac{\\partial}{\\partial \\phi} \\left( [\\overline{v}] \\cos\\phi \\right) + \\frac{\\partial [\\overline{\\omega}]}{\\partial p} = 0 $$\n",
    "\n",
    "Ainsi, le vecteur de composantes $[\\overline{v}], [\\overline{\\omega}]$ est non-divergent. On peut donc l'interpréter par une fonction de courant scalaire $\\psi$, la **fonction de courant de transport de masse**:\n",
    "\n",
    "\\begin{align*}\n",
    "2\\pi a \\cos\\phi [\\overline{v}] &= \\frac{\\partial \\psi}{\\partial p} \\\\\n",
    "2\\pi a^2 \\cos\\phi \\left( [\\overline{\\omega}]\\right) = -\\frac{\\partial \\psi}{\\partial \\phi}\n",
    "\\end{align*}\n",
    "\n",
    "cohérente avec la définition de $\\psi$ ci dessus\n",
    "\n",
    "On peut donc calculer et tracer la fonction de courant uniquement à partir de données de vent méridien à partir de la formule :\n",
    "\n",
    "$$ \\psi(lev,lat) = \\frac{2\\pi a \\cos\\phi}{g} \\int_0^p [\\overline{v}](lev,lat) dp $$\n",
    "\n",
    "Les contours de $\\psi$ peuvent être interprétés comme des isolignes de la **circulation méridienne moyenne**, c'est-à-dire, la circulation de masse en moyenne zonale et temporelle dans un plan latitude-pression."
   ]
  },
  {
   "cell_type": "markdown",
   "metadata": {},
   "source": [
    "<div class=\"alert alert-danger\">\n",
    "<b>Utiliser la fonction integrate.cumtrapz de scipy ou la méthode cumulative_integrate de xarray pour implémenter le calcul de la fonction de courant méridienne $\\psi$.</b>\n",
    "    \n",
    "- https://docs.xarray.dev/en/stable/generated/xarray.Dataset.html\n",
    "- https://docs.scipy.org/doc/scipy-1.4.1/reference/generated/scipy.integrate.cumtrapz.html\n",
    "    \n",
    "<br>\n",
    "    \n",
    "$\\psi(lev,lat)=\\frac{2\\pi a cos(lat)}{g}\\int_0^P [v](lev,lat)dP$\n",
    "\n",
    "</div>"
   ]
  },
  {
   "cell_type": "raw",
   "metadata": {},
   "source": [
    "Calcul de la fonction de courant méridienne."
   ]
  },
  {
   "cell_type": "code",
   "execution_count": null,
   "metadata": {
    "scrolled": true
   },
   "outputs": [],
   "source": [
    "coslat=np.cos(lat[np.newaxis,np.newaxis,:]*np.pi/180.)"
   ]
  },
  {
   "cell_type": "code",
   "execution_count": null,
   "metadata": {
    "scrolled": true
   },
   "outputs": [],
   "source": []
  },
  {
   "cell_type": "markdown",
   "metadata": {},
   "source": [
    "# Tracés"
   ]
  },
  {
   "cell_type": "raw",
   "metadata": {},
   "source": [
    "Echelles de valeurs"
   ]
  },
  {
   "cell_type": "code",
   "execution_count": null,
   "metadata": {
    "scrolled": true
   },
   "outputs": [],
   "source": [
    "levels_psi = np.arange(-18,19,1)\n",
    "levels_psi_an = np.arange(-10,11,1)\n",
    "levels_psi2 =[-18, -17, -16, -15, -14, -13, -12, -11, -10, -9, -8, -7,\n",
    " -6, -5, -4, -3, -2, -1, 1, 2, 3, 4,\n",
    "  5, 6, 7, 8, 9, 10, 11, 12, 13, 14, 15, 16, 17, 18]"
   ]
  },
  {
   "cell_type": "raw",
   "metadata": {},
   "source": [
    "Coupe verticale de la fonction de courant méridienne (moyenne anuelle). "
   ]
  },
  {
   "cell_type": "code",
   "execution_count": null,
   "metadata": {
    "scrolled": false
   },
   "outputs": [],
   "source": [
    "fig = plt.figure(figsize=(15., 8.))\n",
    "ax = fig.add_subplot(1, 1, 1)\n",
    "fig.suptitle('Mass meridional streamfunction : ERA5 '+year1+'-'+year2, fontsize=16)\n",
    "\n",
    "ax.set_title('Annual mean', fontsize=14)\n",
    "plot_zonal_mean(ax)\n",
    "cf = ax.contourf(lat, lev, psi_annual[:,:], levels_psi_an, cmap='PuOr_r', extend='both')\n",
    "c = ax.contour(lat, lev, psi_annual[:,:], levels_psi2, colors='black', linewidths=1)\n",
    "plt.clabel(c, levels_psi2, fmt='%2.1i')\n",
    "\n",
    "cb = fig.colorbar(cf, orientation='horizontal', aspect=65, shrink=0.5, pad=0.05)\n",
    "cb.set_label('10$^{10}$ kg/s', size='small')\n",
    "\n",
    "figname='./figs/psi_zmean_annual_climatology'\n",
    "fig.savefig(figname+'.png',bbox_inches='tight')\n",
    "\n",
    "plt.show()"
   ]
  },
  {
   "cell_type": "raw",
   "metadata": {},
   "source": [
    "Coupe verticale de la fonction de courant méridienne (DJF, MAM, JJA, SON). "
   ]
  },
  {
   "cell_type": "code",
   "execution_count": null,
   "metadata": {
    "scrolled": false
   },
   "outputs": [],
   "source": [
    "fig, axarr = plt.subplots(nrows=2, ncols=2, figsize=(15, 7), constrained_layout=True)\n",
    "axlist = axarr.flatten()\n",
    "fig.suptitle('Mass meridional streamfunction : ERA5 '+year1+'-'+year2, fontsize=16)\n",
    "\n",
    "for i, ax in enumerate(axlist):\n",
    "    ax.set_title(seasons[i], fontsize=14)\n",
    "    plot_zonal_mean(ax)\n",
    "    cf = ax.contourf(lat, lev, psi_season[i,:,:], levels_psi, cmap='PuOr_r', extend='both')\n",
    "    c = ax.contour(lat, lev, psi_season[i,:,:], levels_psi2, colors='black', linewidths=1)\n",
    "    plt.clabel(c, levels_psi2, fmt='%2.1i')\n",
    "\n",
    "cb = fig.colorbar(cf, orientation='horizontal', shrink=0.74, pad=0)\n",
    "cb.set_label('10$^{10}$ kg/s', size='small')\n",
    "\n",
    "figname='./figs/psi_zmean_climatology'\n",
    "fig.savefig(figname+'.png',bbox_inches='tight')\n",
    "\n",
    "plt.show()"
   ]
  },
  {
   "cell_type": "raw",
   "metadata": {},
   "source": [
    "Coupe verticale de la fonction de courant méridienne (cartes mensuelles). "
   ]
  },
  {
   "cell_type": "code",
   "execution_count": null,
   "metadata": {
    "scrolled": false
   },
   "outputs": [],
   "source": [
    "for i in range(12): \n",
    "    #print(months[i])\n",
    "    fig = plt.figure(figsize=(15., 8.))\n",
    "    fig.suptitle('Mass meridional streamfunction : ERA5 '+year1+'-'+year2, fontsize=16)\n",
    "    ax = fig.add_subplot(1, 1, 1)\n",
    "    ax.set_title(months[i], fontsize=14)\n",
    "    plot_zonal_mean(ax)\n",
    "    \n",
    "    cf = ax.contourf(lat, lev, psi_month[i,:,:], levels_psi, cmap='PuOr_r', extend='both')\n",
    "    c = ax.contour(lat, lev, psi_month[i,:,:], levels_psi2, colors='black', linewidths=1)\n",
    "    plt.clabel(c, levels_psi2, fmt='%2.1i')\n",
    "    cb = fig.colorbar(cf, orientation='horizontal', aspect=65, shrink=0.5, pad=0.05)\n",
    "    cb.set_label('10$^{10}$ kg/s', size='small')\n",
    "    \n",
    "    figname='./anim/psi_zmean_monclim_'+str(i).zfill(2)\n",
    "    fig.savefig(figname+'.png',bbox_inches='tight')\n",
    "    plt.close()"
   ]
  },
  {
   "cell_type": "raw",
   "metadata": {},
   "source": [
    "Fonction de création d'une animation à partir des png présents dans le dossier anim."
   ]
  },
  {
   "cell_type": "code",
   "execution_count": null,
   "metadata": {
    "scrolled": false
   },
   "outputs": [],
   "source": [
    "def make_animation(gif_filepath):\n",
    "    from PIL import Image\n",
    "    import os\n",
    "    from IPython.display import Image as IPImage\n",
    "    from IPython.display import display\n",
    "    import time\n",
    "    \n",
    "    image_folder = './anim/' # répertoire contenant les fichiers PNG\n",
    "    output_file = gif_filepath # nom du fichier de sortie\n",
    "    animation_speed = 0.9 # vitesse de l'animation en secondes\n",
    "    \n",
    "    # Liste tous les fichiers PNG dans le répertoire image_folder\n",
    "    files = sorted(os.listdir(image_folder))\n",
    "    image_files = [f for f in files if f.endswith('.png')]\n",
    "    \n",
    "    # Ouvre chaque fichier PNG et ajoute l'image à une liste\n",
    "    images = []\n",
    "    for filename in image_files:\n",
    "        img = Image.open(os.path.join(image_folder, filename))\n",
    "        images.append(img)\n",
    "    \n",
    "    # Crée l'animation GIF\n",
    "    images[0].save(output_file, save_all=True, append_images=images[1:], duration=int(animation_speed*1000), loop=0)\n",
    "    # Affiche l'animation GIF dans Jupyter\n",
    "    with open(output_file,'rb') as f:\n",
    "        display(IPImage(data=f.read(), format='png'))\n",
    "    # Efface les fichiers PNG\n",
    "    for filename in image_files:\n",
    "        os.remove(image_folder+filename)"
   ]
  },
  {
   "cell_type": "raw",
   "metadata": {},
   "source": [
    "Réalisation de l'animation au pas de temps mensuel."
   ]
  },
  {
   "cell_type": "code",
   "execution_count": null,
   "metadata": {
    "scrolled": false
   },
   "outputs": [],
   "source": [
    "gif_filepath = './anim/psi_zmean_monclim.gif'\n",
    "make_animation(gif_filepath)"
   ]
  }
 ],
 "metadata": {
  "kernelspec": {
   "display_name": "Python 3",
   "language": "python",
   "name": "python3"
  },
  "language_info": {
   "codemirror_mode": {
    "name": "ipython",
    "version": 3
   },
   "file_extension": ".py",
   "mimetype": "text/x-python",
   "name": "python",
   "nbconvert_exporter": "python",
   "pygments_lexer": "ipython3",
   "version": "3.7.11"
  }
 },
 "nbformat": 4,
 "nbformat_minor": 1
}
