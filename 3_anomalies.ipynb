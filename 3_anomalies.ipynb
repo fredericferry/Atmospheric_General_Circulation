{
 "cells": [
  {
   "cell_type": "markdown",
   "metadata": {},
   "source": [
    "# Anomalies zonales et transitoires\n",
    "\n",
    "**Auteur : FERRY Frédéric (DESR/ENM/C3M) - septembre 2021\n",
    "\n",
    "Les fichiers de données au format netcdf (moyennes quotidiennes NCEP) doivent être récupérés par FTP (FileZilla) et placés dans le répertoire data :\n",
    "\n",
    "Hauteur géopotentielle : ftp://ftp.cdc.noaa.gov/Datasets/ncep.reanalysis.dailyavgs/pressure/hgt.XXXX.nc\n",
    "\n",
    "Il faut télécharger au moins la période 2000-2005 et ensuite concaténer les fichier netcdf avec les commandes NCO ncrcat ou CDO mergetime :\n",
    "\n",
    "- https://linux.die.net/man/1/ncrcat\n",
    "- https://code.mpimet.mpg.de/projects/cdo/embedded/index.html#x1-930002.2.6\n",
    "\n",
    "--> fichier z.nc"
   ]
  },
  {
   "cell_type": "markdown",
   "metadata": {},
   "source": [
    "<div class=\"alert alert-warning\">\n",
    "\n",
    "$$z' = z-\\overline{z}$$\n",
    "$$z^* = z-[z]$$\n",
    "\n",
    "$$z=\\overline{[z]}+\\overline{z^*}+[z]'+z^{*'}$$\n",
    "\n",
    "Composante axisymétrique et stationnaire de la circulation : $$\\overline{[z]}$$\n",
    "Ecart stationnaire à la moyenne zonale : $$\\overline{z^*}$$\n",
    "Perturbation transitoire de la moyenne zonale : $$[z]'$$\n",
    "Perturbation transitoire non axisymétrique : $$z^{*'}$$\n",
    "    \n",
    "</div>"
   ]
  },
  {
   "cell_type": "code",
   "execution_count": null,
   "metadata": {},
   "outputs": [],
   "source": [
    "%matplotlib inline\n",
    "\n",
    "import os\n",
    "\n",
    "import xarray as xr\n",
    "import numpy as np\n",
    "\n",
    "import matplotlib.pyplot as plt\n",
    "from mpl_toolkits.axes_grid1 import AxesGrid\n",
    "import matplotlib.path as mpath\n",
    "\n",
    "from cartopy.util import add_cyclic_point\n",
    "import cartopy.crs as ccrs\n",
    "from cartopy.mpl.geoaxes import GeoAxes\n",
    "from cartopy.mpl.ticker import LongitudeFormatter, LatitudeFormatter\n",
    "\n",
    "import IPython.display as IPdisplay, matplotlib.font_manager as fm\n",
    "from PIL import Image\n",
    "import glob\n",
    "\n",
    "import warnings\n",
    "warnings.filterwarnings('ignore')"
   ]
  },
  {
   "cell_type": "raw",
   "metadata": {},
   "source": [
    "Fonction pour les coupes verticales-méridiennes en moyenne zonale."
   ]
  },
  {
   "cell_type": "code",
   "execution_count": null,
   "metadata": {
    "scrolled": false
   },
   "outputs": [],
   "source": [
    "def plot_zonal_mean(ax):\n",
    "    ax.set_yscale('symlog')\n",
    "    ax.set_yticklabels(np.arange(1000, 0, -100))\n",
    "    ax.set_ylim(1000, 100)\n",
    "    ax.set_yticks(np.arange(1000, 0, -100))  \n",
    "    ax.set_xticklabels(np.arange(-90, 100, 10))\n",
    "    ax.set_xticks(np.arange(-90, 100, 10)) \n",
    "    return ax\n",
    "\n",
    "def plot_zonal_mean2(ax):\n",
    "    ax.set_yscale('symlog')\n",
    "    ax.set_yticklabels(np.arange(1000, 0, -100))\n",
    "    ax.set_ylim(1000, 10)\n",
    "    ax.set_yticks(np.arange(1000, 0, -100))  \n",
    "    ax.set_xticklabels(np.arange(-90, 100, 10))\n",
    "    ax.set_xticks(np.arange(-90, 100, 10)) \n",
    "    return ax"
   ]
  },
  {
   "cell_type": "raw",
   "metadata": {},
   "source": [
    "Fonction pour les cartes."
   ]
  },
  {
   "cell_type": "code",
   "execution_count": null,
   "metadata": {
    "scrolled": false
   },
   "outputs": [],
   "source": [
    "def lonflip(da):\n",
    "    lon_name = 'lon'\n",
    "    da['_longitude_adjusted'] = xr.where(da[lon_name] > 180, da[ lon_name] - 360, da[lon_name])\n",
    "    da = (\n",
    "        da .swap_dims({lon_name: '_longitude_adjusted'})\n",
    "        .sel(**{'_longitude_adjusted': sorted(da._longitude_adjusted)})\n",
    "        .drop(lon_name))\n",
    "    da = da.rename({'_longitude_adjusted': lon_name})\n",
    "    return da\n",
    "\n",
    "proj=ccrs.EqualEarth()\n",
    "\n",
    "def plot_background(ax):\n",
    "    ax.coastlines()\n",
    "    ax.gridlines(crs=ccrs.PlateCarree(), linewidth=0.5, color='gray', alpha=0.5, linestyle='-')\n",
    "    return ax"
   ]
  },
  {
   "cell_type": "markdown",
   "metadata": {},
   "source": [
    "# Anomalies zonales et transitoires"
   ]
  },
  {
   "cell_type": "raw",
   "metadata": {},
   "source": [
    "Choix des dates"
   ]
  },
  {
   "cell_type": "code",
   "execution_count": null,
   "metadata": {},
   "outputs": [],
   "source": [
    "year1='2000'\n",
    "year2='2005'"
   ]
  },
  {
   "cell_type": "raw",
   "metadata": {},
   "source": [
    "Lecture des données quotidiennes"
   ]
  },
  {
   "cell_type": "code",
   "execution_count": null,
   "metadata": {
    "scrolled": true
   },
   "outputs": [],
   "source": [
    "diri=\"./daily_ncep/\"\n",
    "\n",
    "fz    = xr.open_dataset(diri+\"z.nc\").sel(time=slice(year1,year2))\n",
    "\n",
    "lat  = fz.lat.values\n",
    "lev = fz.level.values\n",
    "\n",
    "print(fz)\n",
    "print(lev)"
   ]
  },
  {
   "cell_type": "raw",
   "metadata": {},
   "source": [
    "Calcul de la climatologie et des anomalies transitoires"
   ]
  },
  {
   "cell_type": "markdown",
   "metadata": {},
   "source": [
    "$$\\overline{z}$$\n",
    "$$z' = z-\\overline{z}$$"
   ]
  },
  {
   "cell_type": "code",
   "execution_count": null,
   "metadata": {
    "scrolled": false
   },
   "outputs": [],
   "source": [
    "fzclim=fz.groupby('time.dayofyear').mean('time')\n",
    "fzprime=fz.groupby('time.dayofyear')-fz.groupby('time.dayofyear').mean('time')\n",
    "\n",
    "zclim=fzclim['hgt']\n",
    "zprime=fzprime['hgt']\n",
    "\n",
    "print(zclim.shape)\n",
    "print(zprime.shape)"
   ]
  },
  {
   "cell_type": "raw",
   "metadata": {},
   "source": [
    "Calcul des moyennes zonales et des anomalies zonales"
   ]
  },
  {
   "cell_type": "markdown",
   "metadata": {},
   "source": [
    "$$[z]$$\n",
    "$$z^* = z-[z]$$"
   ]
  },
  {
   "cell_type": "code",
   "execution_count": null,
   "metadata": {
    "scrolled": true
   },
   "outputs": [],
   "source": [
    "fz_zmean = fz.mean('lon')\n",
    "z, z_zmean, = xr.broadcast(fz['hgt'],fz_zmean['hgt'])\n",
    "zstar=z-z_zmean\n",
    "print(z_zmean.shape)\n",
    "print(zstar.shape)"
   ]
  },
  {
   "cell_type": "raw",
   "metadata": {},
   "source": [
    "Choix d'une date et d'un niveau vertical"
   ]
  },
  {
   "cell_type": "code",
   "execution_count": null,
   "metadata": {
    "scrolled": false
   },
   "outputs": [],
   "source": [
    "date='2000-01-01'\n",
    "level=500"
   ]
  },
  {
   "cell_type": "raw",
   "metadata": {},
   "source": [
    "Champs et anomalies du jour"
   ]
  },
  {
   "cell_type": "code",
   "execution_count": null,
   "metadata": {
    "scrolled": false
   },
   "outputs": [],
   "source": [
    "z_day = z.sel(time=date).sel(level=level)\n",
    "zclim_day = zclim.sel(dayofyear=1).sel(level=level)\n",
    "z_zmean_day = z_zmean.sel(time=date).sel(level=level)\n",
    "zprime_day = zprime.sel(time=date).sel(level=level)\n",
    "zstar_day = zstar.sel(time=date).sel(level=level)\n",
    "\n",
    "z_day=lonflip(z_day)\n",
    "zclim_day=lonflip(zclim_day)\n",
    "z_zmean_day=lonflip(z_zmean_day)\n",
    "zprime_day=lonflip(zprime_day)\n",
    "zstar_day=lonflip(zstar_day)\n",
    "\n",
    "lon = z_day.lon.values\n",
    "\n",
    "print(zclim_day.shape)"
   ]
  },
  {
   "cell_type": "raw",
   "metadata": {},
   "source": [
    "Cartes des anomalies zonale et transitoire"
   ]
  },
  {
   "cell_type": "code",
   "execution_count": null,
   "metadata": {
    "scrolled": false
   },
   "outputs": [],
   "source": [
    "levels_z = np.arange(4800,6050,50)\n",
    "levels_zanom = np.arange(-500,550,50)\n",
    "\n",
    "\n",
    "fig = plt.figure(figsize=(19,7))\n",
    "fig.suptitle('Geopotential height at '+str(level)+' hPa : '+date, fontsize=16)\n",
    "\n",
    "ax=fig.add_subplot(231, projection=proj)\n",
    "plot_background(ax)\n",
    "ax.set_title(\"z\", fontsize=14)\n",
    "cf = ax.contourf(lon, lat, z_day, levels_z, transform=ccrs.PlateCarree(), cmap='jet', extend='both')\n",
    "c = ax.contour(lon, lat, z_day, levels_z, colors= 'black', linewidths=0.2, transform=ccrs.PlateCarree())\n",
    "cb = fig.colorbar(cf, orientation='horizontal', extend='max', aspect=65, shrink=1, pad=0.20, extendrect='True')\n",
    "cb.set_label('m', size='small')\n",
    "\n",
    "ax=fig.add_subplot(232, projection=proj)\n",
    "plot_background(ax)\n",
    "ax.set_title(\"$[z]$\", fontsize=14)\n",
    "cf = ax.contourf(lon, lat, z_zmean_day, levels_z, transform=ccrs.PlateCarree(), cmap='jet', extend='both')\n",
    "c = ax.contour(lon, lat, z_zmean_day, levels_z, colors= 'black', linewidths=0.2, transform=ccrs.PlateCarree())\n",
    "cb = fig.colorbar(cf, orientation='horizontal', extend='max', aspect=65, shrink=1, pad=0.20, extendrect='True')\n",
    "cb.set_label('m', size='small')\n",
    "\n",
    "ax=fig.add_subplot(233, projection=proj)\n",
    "plot_background(ax)\n",
    "ax.set_title(\"$z^* = z-[z]$\", fontsize=14)\n",
    "cf = ax.contourf(lon, lat, zstar_day, levels_zanom, transform=ccrs.PlateCarree(), cmap='coolwarm', extend='both')\n",
    "c = ax.contour(lon, lat, zstar_day, levels_zanom, colors= 'black', linewidths=0.2, transform=ccrs.PlateCarree())\n",
    "cb = fig.colorbar(cf, orientation='horizontal', extend='max', aspect=65, shrink=1, pad=0.20, extendrect='True')\n",
    "cb.set_label('m', size='small')\n",
    "\n",
    "ax=fig.add_subplot(234, projection=proj)\n",
    "plot_background(ax)\n",
    "ax.set_title(\"z\", fontsize=14)\n",
    "cf = ax.contourf(lon, lat, z_day, levels_z, transform=ccrs.PlateCarree(), cmap='jet', extend='both')\n",
    "c = ax.contour(lon, lat, z_day, levels_z, colors= 'black', linewidths=0.2, transform=ccrs.PlateCarree())\n",
    "cb = fig.colorbar(cf, orientation='horizontal', extend='max', aspect=65, shrink=1, pad=0.20, extendrect='True')\n",
    "cb.set_label('m', size='small')\n",
    "\n",
    "\n",
    "ax=fig.add_subplot(235, projection=proj)\n",
    "plot_background(ax)\n",
    "ax.set_title(\"$\\overline{z}$\", fontsize=14)\n",
    "cf = ax.contourf(lon, lat, zclim_day, levels_z, transform=ccrs.PlateCarree(), cmap='jet', extend='both')\n",
    "c = ax.contour(lon, lat, zclim_day, levels_z, colors= 'black', linewidths=0.2, transform=ccrs.PlateCarree())\n",
    "cb = fig.colorbar(cf, orientation='horizontal', extend='max', aspect=65, shrink=1, pad=0.20, extendrect='True')\n",
    "cb.set_label('m', size='small')\n",
    "\n",
    "\n",
    "ax=fig.add_subplot(236, projection=proj)\n",
    "plot_background(ax)\n",
    "ax.set_title(\"$z' = z-\\overline{z}$\", fontsize=14)\n",
    "cf = ax.contourf(lon, lat, zprime_day, levels_zanom, transform=ccrs.PlateCarree(), cmap='coolwarm', extend='both')\n",
    "c = ax.contour(lon, lat, zprime_day, levels_zanom, colors= 'black', linewidths=0.2, transform=ccrs.PlateCarree())\n",
    "cb = fig.colorbar(cf, orientation='horizontal', extend='max', aspect=65, shrink=1, pad=0.20, extendrect='True')\n",
    "cb.set_label('m', size='small')\n",
    "\n",
    "\n",
    "figname='./figs/z'+date\n",
    "fig.savefig(figname+'.png',bbox_inches='tight')"
   ]
  },
  {
   "cell_type": "raw",
   "metadata": {},
   "source": [
    "Décomposition"
   ]
  },
  {
   "cell_type": "markdown",
   "metadata": {},
   "source": [
    "<div class=\"alert alert-danger\">\n",
    "\n",
    "    \n",
    "<b>Coder la décomposition suivante : </b>\n",
    "    \n",
    "$$z=\\overline{[z]}+\\overline{z^*}+[z]'+z^{*'}$$\n",
    "\n",
    "Composante axisymétrique et stationnaire de la circulation : $$\\overline{[z]}$$\n",
    "Ecart stationnaire à la moyenne zonale : $$\\overline{z^*}$$\n",
    "Perturbation transitoire de la moyenne zonale : $$[z]'$$\n",
    "Perturbation transitoire non axisymétrique : $$z^{*'}$$\n",
    "\n",
    "</div>"
   ]
  },
  {
   "cell_type": "raw",
   "metadata": {},
   "source": [
    "Calcul de la composante axisymétrique et stationnaire de la circulation"
   ]
  },
  {
   "cell_type": "markdown",
   "metadata": {},
   "source": [
    "$$\\overline{[z]}$$"
   ]
  },
  {
   "cell_type": "code",
   "execution_count": null,
   "metadata": {
    "scrolled": true
   },
   "outputs": [],
   "source": [
    "z_zmeanbar="
   ]
  },
  {
   "cell_type": "raw",
   "metadata": {},
   "source": [
    "Calcul de l'écart stationnaire à la moyenne zonale"
   ]
  },
  {
   "cell_type": "markdown",
   "metadata": {},
   "source": [
    "$$\\overline{z^*}$$"
   ]
  },
  {
   "cell_type": "code",
   "execution_count": null,
   "metadata": {
    "scrolled": true
   },
   "outputs": [],
   "source": [
    "zstarbar="
   ]
  },
  {
   "cell_type": "raw",
   "metadata": {},
   "source": [
    "Calcul des perturbations transitoires de la moyenne zonale"
   ]
  },
  {
   "cell_type": "markdown",
   "metadata": {},
   "source": [
    "$$[z]'$$"
   ]
  },
  {
   "cell_type": "code",
   "execution_count": null,
   "metadata": {
    "scrolled": true
   },
   "outputs": [],
   "source": [
    "z_zmean_prime="
   ]
  },
  {
   "cell_type": "raw",
   "metadata": {},
   "source": [
    "Calcul des perturbations transitoires non axisymétriques"
   ]
  },
  {
   "cell_type": "markdown",
   "metadata": {},
   "source": [
    "$$z^{*'}$$"
   ]
  },
  {
   "cell_type": "code",
   "execution_count": null,
   "metadata": {
    "scrolled": true
   },
   "outputs": [],
   "source": [
    "zstar_prime="
   ]
  },
  {
   "cell_type": "raw",
   "metadata": {},
   "source": [
    "Choix d'une date et d'un niveau vertical"
   ]
  },
  {
   "cell_type": "code",
   "execution_count": null,
   "metadata": {
    "scrolled": false
   },
   "outputs": [],
   "source": [
    "date='2000-01-01'\n",
    "level=500"
   ]
  },
  {
   "cell_type": "raw",
   "metadata": {},
   "source": [
    "Champs et anomalies du jour"
   ]
  },
  {
   "cell_type": "code",
   "execution_count": null,
   "metadata": {
    "scrolled": false
   },
   "outputs": [],
   "source": [
    "z_day = z.sel(time=date).sel(level=level)\n",
    "\n",
    "zstarbar_day = zstarbar.sel(level=level)\n",
    "z_zmeanbar_day = z_zmeanbar.sel(level=level)\n",
    "z_zmean_prime_day =  z_zmean_prime.sel(time=date).sel(level=level)\n",
    "zstar_prime_day = zstar_prime.sel(time=date).sel(level=level)\n",
    "\n",
    "z_day=lonflip(z_day)\n",
    "zstarbar_day=lonflip(zstarbar_day)\n",
    "z_zmeanbar_day=lonflip(z_zmeanbar_day)\n",
    "z_zmean_prime_day=lonflip(z_zmean_prime_day)\n",
    "zstar_prime_day=lonflip(zstar_prime_day)\n",
    "\n",
    "sum=zstarbar_day+z_zmeanbar_day+z_zmean_prime_day+zstar_prime_day\n",
    "\n",
    "lon = z_day.lon.values\n",
    "\n",
    "print(zclim_day.shape)"
   ]
  },
  {
   "cell_type": "raw",
   "metadata": {},
   "source": [
    "Vérification de la décomposition"
   ]
  },
  {
   "cell_type": "code",
   "execution_count": null,
   "metadata": {
    "scrolled": false
   },
   "outputs": [],
   "source": [
    "levels_z = np.arange(4800,6050,50)\n",
    "levels_zanom = np.arange(-500,550,50)\n",
    "levels_zanom2 = np.arange(-160,170,10)\n",
    "\n",
    "fig = plt.figure(figsize=(19,7))\n",
    "fig.suptitle('Geopotential height at '+str(level)+' hPa : '+date, fontsize=16)\n",
    "\n",
    "ax=fig.add_subplot(231, projection=proj)\n",
    "plot_background(ax)\n",
    "ax.set_title(\"z\", fontsize=14)\n",
    "cf = ax.contourf(lon, lat, z_day, levels_z, transform=ccrs.PlateCarree(), cmap='jet', extend='both')\n",
    "c = ax.contour(lon, lat, z_day, levels_z, colors= 'black', linewidths=0.2, transform=ccrs.PlateCarree())\n",
    "cb = fig.colorbar(cf, orientation='horizontal', extend='max', aspect=65, shrink=1, pad=0.20, extendrect='True')\n",
    "cb.set_label('m', size='small')\n",
    "\n",
    "ax=fig.add_subplot(232, projection=proj)\n",
    "plot_background(ax)\n",
    "ax.set_title(\"$\\overline{[z]}$\", fontsize=14)\n",
    "cf = ax.contourf(lon, lat, z_zmeanbar_day, levels_z, transform=ccrs.PlateCarree(), cmap='jet', extend='both')\n",
    "c = ax.contour(lon, lat, z_zmeanbar_day, levels_z, colors= 'black', linewidths=0.2, transform=ccrs.PlateCarree())\n",
    "cb = fig.colorbar(cf, orientation='horizontal', extend='max', aspect=65, shrink=1, pad=0.20, extendrect='True')\n",
    "cb.set_label('m', size='small')\n",
    "\n",
    "ax=fig.add_subplot(233, projection=proj)\n",
    "plot_background(ax)\n",
    "ax.set_title(\"$\\overline{z^*}$\", fontsize=14)\n",
    "cf = ax.contourf(lon, lat, zstarbar_day, levels_zanom2, transform=ccrs.PlateCarree(), cmap='coolwarm', extend='both')\n",
    "c = ax.contour(lon, lat, zstarbar_day, levels_zanom2, colors= 'black', linewidths=0.2, transform=ccrs.PlateCarree())\n",
    "cb = fig.colorbar(cf, orientation='horizontal', extend='max', aspect=65, shrink=1, pad=0.20, extendrect='True')\n",
    "cb.set_label('m', size='small')\n",
    "\n",
    "ax=fig.add_subplot(234, projection=proj)\n",
    "plot_background(ax)\n",
    "ax.set_title(\"$[z]'$\", fontsize=14)\n",
    "cf = ax.contourf(lon, lat, z_zmean_prime_day, levels_zanom, transform=ccrs.PlateCarree(), cmap='coolwarm', extend='both')\n",
    "c = ax.contour(lon, lat, z_zmean_prime_day, levels_zanom, colors= 'black', linewidths=0.2, transform=ccrs.PlateCarree())\n",
    "cb = fig.colorbar(cf, orientation='horizontal', extend='max', aspect=65, shrink=1, pad=0.20, extendrect='True')\n",
    "cb.set_label('m', size='small')\n",
    "\n",
    "\n",
    "ax=fig.add_subplot(235, projection=proj)\n",
    "plot_background(ax)\n",
    "ax.set_title(\"$z^{*'}$\", fontsize=14)\n",
    "cf = ax.contourf(lon, lat, zstar_prime_day, levels_zanom, transform=ccrs.PlateCarree(), cmap='coolwarm', extend='both')\n",
    "c = ax.contour(lon, lat, zstar_prime_day, levels_zanom, colors= 'black', linewidths=0.2, transform=ccrs.PlateCarree())\n",
    "cb = fig.colorbar(cf, orientation='horizontal', extend='max', aspect=65, shrink=1, pad=0.20, extendrect='True')\n",
    "cb.set_label('m', size='small')\n",
    "\n",
    "\n",
    "ax=fig.add_subplot(236, projection=proj)\n",
    "plot_background(ax)\n",
    "ax.set_title(\"$\\overline{[z]}+\\overline{z^*}+[z]'+z^{*'}$\", fontsize=14)\n",
    "cf = ax.contourf(lon, lat, sum, levels_z, transform=ccrs.PlateCarree(), cmap='jet', extend='both')\n",
    "c = ax.contour(lon, lat, sum, levels_z, colors= 'black', linewidths=0.2, transform=ccrs.PlateCarree())\n",
    "cb = fig.colorbar(cf, orientation='horizontal', extend='max', aspect=65, shrink=1, pad=0.20, extendrect='True')\n",
    "cb.set_label('m', size='small')\n",
    "\n",
    "\n",
    "figname='./figs/z_decomp_'+date\n",
    "fig.savefig(figname+'.png',bbox_inches='tight')"
   ]
  },
  {
   "cell_type": "code",
   "execution_count": null,
   "metadata": {},
   "outputs": [],
   "source": []
  }
 ],
 "metadata": {
  "kernelspec": {
   "display_name": "Python 3",
   "language": "python",
   "name": "python3"
  },
  "language_info": {
   "codemirror_mode": {
    "name": "ipython",
    "version": 3
   },
   "file_extension": ".py",
   "mimetype": "text/x-python",
   "name": "python",
   "nbconvert_exporter": "python",
   "pygments_lexer": "ipython3",
   "version": "3.7.11"
  }
 },
 "nbformat": 4,
 "nbformat_minor": 1
}
